{
 "cells": [
  {
   "cell_type": "code",
   "execution_count": 1,
   "metadata": {},
   "outputs": [],
   "source": [
    "import os\n",
    "import time\n",
    "import numpy as np\n",
    "import pickle\n",
    "import pandas as pd\n",
    "import json\n",
    "from pandas.io.json import json_normalize\n",
    "from collections import Counter\n",
    "import tensorflow as tf\n",
    "from tensorflow import keras as keras\n",
    "from tensorflow.keras.preprocessing.text import Tokenizer\n",
    "from tensorflow.keras.layers import Attention\n",
    "import nltk\n",
    "from functools import reduce\n",
    "#!pip install wget\n",
    "# Load PyDrive and Google Auth related packages\n",
    "#!pip install -U -q PyDrive\n",
    "#from pydrive.auth import GoogleAuth\n",
    "#from pydrive.drive import GoogleDrive\n",
    "#from google.colab import auth\n",
    "#from oauth2client.client import GoogleCredentials\n",
    "# Authenticate and create the PyDrive client.\n",
    "#auth.authenticate_user()\n",
    "#gauth = GoogleAuth()\n",
    "#gauth.credentials = GoogleCredentials.get_application_default()\n",
    "#drive = GoogleDrive(gauth)\n",
    "\n",
    "import tensorflow as tf\n",
    "from tensorflow import keras as keras\n",
    "from tensorflow.keras.preprocessing.text import Tokenizer\n",
    "from tensorflow.keras.layers import Attention\n",
    "from tensorflow.keras.preprocessing.sequence import pad_sequences\n",
    "from tensorflow.keras.models import Model\n",
    "from tensorflow.keras import layers\n",
    "from tensorflow.keras import Input\n",
    "from functools import reduce\n",
    "flatten = lambda data: reduce(lambda x, y: x + y, data)\n",
    "import glove_helper\n",
    "#!pip install tqdm\n",
    "from tqdm import tqdm\n",
    "import matplotlib.pyplot as plt\n",
    "%matplotlib inline\n",
    "# Load the json data\n",
    "def load_json_file(name):\n",
    "  \"\"\"\n",
    "  Load the json file and return a json object\n",
    "  \"\"\"\n",
    "  with open(name,encoding='utf-8') as myfile:\n",
    "    data = json.load(myfile)\n",
    "    return data\n",
    "\n",
    "# Convert json data object to a pandas data frame\n",
    "def convert_to_pd(data):\n",
    "    \"\"\"\n",
    "      Load the data to a pandas dataframe.\n",
    "      Dataframe Columns:\n",
    "      title\n",
    "      para_index\n",
    "      context\n",
    "      q_index\n",
    "      q_id\n",
    "      q_isimpossible\n",
    "      q_question\n",
    "      q_anscount - number of answers\n",
    "      q_answers - a list of object e.g [{ text: '', answer_start: 123}, ...]\n",
    "    \"\"\"\n",
    "    result = []\n",
    "    for pdata in data['data']:\n",
    "        for para in pdata['paragraphs']:\n",
    "            for q in para['qas']:\n",
    "                result.append({\n",
    "                                'title' : pdata['title'],\n",
    "                                'context' : para['context'],\n",
    "                                'q_id' : q['id'],\n",
    "                                'q_isimpossible' : q['is_impossible'],\n",
    "                                'q_question' : q['question'],\n",
    "                                'q_anscount' : len(q['answers']),\n",
    "                                'q_answers' : [a for a in q['answers']],\n",
    "                                'q_answers_text': [a.get(\"text\") for a in q['answers']],\n",
    "                                'context_lowercase': para['context'].lower(),\n",
    "                                'q_question_lowercase' : q['question'].lower(),\n",
    "                                'q_answers_text_lowercase': [a.get(\"text\").lower() for a in q['answers']]\n",
    "                               })\n",
    "    return pd.DataFrame.from_dict(result, orient='columns')\n",
    "\n",
    "# Load the file from shareable google drive link and return a pandas dataframe\n",
    "def loadDataFile(filename): \n",
    "    \"\"\"\n",
    "    Download a file from google drive with the shared link\n",
    "    \"\"\" \n",
    "    data = load_json_file(filename)\n",
    "    return convert_to_pd(data)"
   ]
  },
  {
   "cell_type": "code",
   "execution_count": 2,
   "metadata": {},
   "outputs": [],
   "source": [
    "# DONOT RUN THIS ON COLAB#\n",
    "#to make use of CPU and not GPU DONOT RUN THIS ON COLAB\n",
    "os.environ[\"CUDA_DEVICE_ORDER\"] = \"PCI_BUS_ID\"\n",
    "os.environ[\"CUDA_VISIBLE_DEVICES\"] = \"\"\n"
   ]
  },
  {
   "cell_type": "code",
   "execution_count": 3,
   "metadata": {},
   "outputs": [],
   "source": [
    "train_filename = 'train-v2.0.json'\n",
    "dev_filename = 'dev-v2.0.json'\n",
    "\n",
    "train_pd = loadDataFile(train_filename)\n",
    "dev_pd = loadDataFile(dev_filename)"
   ]
  },
  {
   "cell_type": "code",
   "execution_count": 4,
   "metadata": {},
   "outputs": [
    {
     "name": "stdout",
     "output_type": "stream",
     "text": [
      "Max context length: 653\n",
      "Max question length: 40\n",
      "Max answer length: 43\n"
     ]
    }
   ],
   "source": [
    "def get_c_q_a(dataset):\n",
    "    q_id_list = []\n",
    "    context_list =[]\n",
    "    questions_list = []\n",
    "    answers_list =[]\n",
    "    q_impossible_list =[]\n",
    "    for index,row in dataset.iterrows():\n",
    "        q_id_list.append(row.q_id)\n",
    "        context_list.append(row.context)\n",
    "        questions_list.append(row.q_question)\n",
    "        q_impossible_list.append(int(row.q_isimpossible))\n",
    "        if len(row.q_answers_text)>0 :\n",
    "            answers_list.append(row.q_answers_text[0])\n",
    "        else:\n",
    "            answers_list.append(\"\")\n",
    "    return [q_id_list,context_list,questions_list,q_impossible_list,answers_list]\n",
    "\n",
    "train_lists = get_c_q_a(train_pd)\n",
    "dev_lists = get_c_q_a(dev_pd)\n",
    "context_maxlen = max(map(len, (x.split() for x in train_lists[1])))\n",
    "question_maxlen = max(map(len, (x.split() for x in train_lists[2])))\n",
    "answer_maxlen = max(map(len, (x.split() for x in train_lists[4])))\n",
    "print(\"Max context length:\",context_maxlen)\n",
    "print(\"Max question length:\",question_maxlen)\n",
    "print(\"Max answer length:\",answer_maxlen)"
   ]
  },
  {
   "cell_type": "code",
   "execution_count": 5,
   "metadata": {},
   "outputs": [
    {
     "name": "stdout",
     "output_type": "stream",
     "text": [
      "Max context length: 250\n",
      "Max question length: 20\n",
      "Max answer length: 15\n"
     ]
    }
   ],
   "source": [
    "context_maxlen = 250\n",
    "question_maxlen = 20\n",
    "answer_maxlen = 15\n",
    "ndim = 100\n",
    "print(\"Max context length:\",context_maxlen)\n",
    "print(\"Max question length:\",question_maxlen)\n",
    "print(\"Max answer length:\",answer_maxlen)"
   ]
  },
  {
   "cell_type": "code",
   "execution_count": 6,
   "metadata": {},
   "outputs": [
    {
     "name": "stdout",
     "output_type": "stream",
     "text": [
      "Vocab Size: 88701\n",
      "validation num samples where answer impossible:  8730\n",
      "validation num samples where answer not impossible:  17382\n",
      "train num samples where answer impossible:  34761\n",
      "train num samples where answer not impossible:  69431\n"
     ]
    }
   ],
   "source": [
    "def tokenize_c_q_a(dataset,num_words=None):\n",
    "    tokenizer = Tokenizer(num_words,filters='!\"#$%&()*+,-./:;<=>?@[\\\\]^_`{|}~\\t\\n'+\"''\",oov_token='<unk>')\n",
    "    data = dataset[1]+dataset[2]+dataset[4]\n",
    "    tokenizer.fit_on_texts(data)\n",
    "    vocab = {}\n",
    "    for word,i in tokenizer.word_index.items():\n",
    "        if num_words is not None:\n",
    "            if i <= num_words:\n",
    "                vocab[word] = i\n",
    "        else:\n",
    "            vocab[word] = i\n",
    "    #vocab = tokenizer.word_index\n",
    "    vocab['<s>'] = len(vocab)+1\n",
    "    vocab['</s>'] = len(vocab)+1\n",
    "    id_vocab = {value: key for key, value in vocab.items()}\n",
    "    return (tokenizer,vocab,id_vocab)\n",
    "\n",
    "tokenizer_obj,vocab,id_vocab = tokenize_c_q_a(train_lists)\n",
    "\n",
    "vocab_size = len(vocab)\n",
    "print(\"Vocab Size:\",vocab_size)\n",
    "\n",
    "def calc_answer_span(context,answer):\n",
    "    \n",
    "    ans_len = len(answer)\n",
    "    \n",
    "    if ans_len!=0 and answer[0] in context:\n",
    "        indices = [i for i, x in enumerate(context) if x == answer[0]]\n",
    "        try:\n",
    "            if(len(indices)>1):\n",
    "                start = [i for i in indices if (context[i:i+ans_len] == answer) ]\n",
    "                end = start[0] + ans_len - 1\n",
    "                return (start[0],end)\n",
    "            else:\n",
    "                start = context.index(answer[0])\n",
    "                end = start + ans_len - 1\n",
    "                return (start,end)\n",
    "        except:\n",
    "            return (-1,-1)\n",
    "    else:\n",
    "        return (-1,-1)\n",
    "\n",
    "\n",
    "def vectorize_data(tokenizer_obj,train_lists):\n",
    "    qid_original = train_lists[0]\n",
    "    context_seq = tokenizer_obj.texts_to_sequences(train_lists[1])\n",
    "    question_seq = tokenizer_obj.texts_to_sequences(train_lists[2])\n",
    "    answer_seq = tokenizer_obj.texts_to_sequences(train_lists[4])\n",
    "    answer_span = [calc_answer_span(context_seq[i],answer_seq[i]) for i,x in enumerate(context_seq)]\n",
    "    answer_start_index = [item[0] for item in answer_span]\n",
    "    answer_end_index =  [item[1] for item in answer_span]\n",
    "    answer_start_seq = []\n",
    "    answer_end_seq = []\n",
    "    for i,x in enumerate(answer_start_index):\n",
    "        start = np.zeros(context_maxlen,dtype = \"int32\")\n",
    "        end   = np.zeros(context_maxlen,dtype = \"int32\")\n",
    "        #last space reserved for the question where there are no answers\n",
    "        if (answer_start_index[i] < context_maxlen and answer_start_index[i] != -1):\n",
    "            start[answer_start_index[i]] = 1\n",
    "        if (answer_end_index[i] < context_maxlen and answer_end_index[i] != -1):\n",
    "            end[answer_end_index[i]] = 1\n",
    "        answer_start_seq.append(start)\n",
    "        answer_end_seq.append(end)\n",
    "        \n",
    "    answer_input_seq = [i for i in answer_seq]\n",
    "    answer_target_seq = answer_input_seq\n",
    "    context_seq_padded = pad_sequences(context_seq,context_maxlen,padding='post', truncating='post')\n",
    "    #Adding 0 to last position special for no answer questions\n",
    "    #context_seq_padded = pad_sequences(context_seq_padded,context_maxlen,padding='post', truncating='post')\n",
    "    question_seq_padded = pad_sequences(question_seq,question_maxlen,padding='post', truncating='post')\n",
    "    answer_seq_padded = pad_sequences(answer_seq,answer_maxlen,padding='post', truncating='post')\n",
    "    answer_input_seq_padded = pad_sequences(answer_input_seq,answer_maxlen,padding='post', truncating='post')\n",
    "    answer_target_seq_padded = pad_sequences(answer_target_seq,answer_maxlen,padding='post', truncating='post')\n",
    "    answer_impossible = np.array(train_lists[3])\n",
    "    answer_start_seq_padded = pad_sequences(answer_start_seq,context_maxlen,padding='post', truncating='post') \n",
    "    answer_end_seq_padded = pad_sequences(answer_end_seq,context_maxlen,padding='post', truncating='post')\n",
    "    #context_match_question = []\n",
    "    #for i,a in enumerate(context_seq_padded):\n",
    "    #    exact = [[1]if ecw in question_seq_padded[i] and ecw !=0 else [0] for ecw in a]\n",
    "    #    context_match_question.append(exact)\n",
    "    \n",
    "    #context_match_question_padded = np.array(context_match_question)\n",
    "    indices = np.arange(context_seq_padded.shape[0])\n",
    "    np.random.seed(19)\n",
    "    np.random.shuffle(indices)\n",
    "    qid = [qid_original[i] for i in indices]\n",
    "    context_seq_padded = context_seq_padded[indices]\n",
    "    question_seq_padded = question_seq_padded[indices]\n",
    "    answer_seq_padded = answer_seq_padded[indices]\n",
    "    answer_input_seq_padded = answer_input_seq_padded[indices]\n",
    "    answer_target_seq_padded = answer_target_seq_padded[indices]\n",
    "    answer_impossible = answer_impossible[indices]\n",
    "    answer_start_seq_padded = answer_start_seq_padded[indices]\n",
    "    answer_end_seq_padded = answer_end_seq_padded[indices]\n",
    "    #context_match_question_padded = context_match_question_padded[indices]\n",
    "    train_samples = int(((context_seq_padded.shape[0]*.8)//128)*128)\n",
    "    end_samples = int((context_seq_padded.shape[0]//128)*128)\n",
    "    train_qid = qid[:train_samples]\n",
    "    train_context_padded_seq = context_seq_padded[:train_samples]\n",
    "    train_question_seq_padded = question_seq_padded[:train_samples]\n",
    "    train_answer_seq_padded = answer_seq_padded[:train_samples]\n",
    "    train_answer_input_seq_padded = answer_input_seq_padded[:train_samples]\n",
    "    train_answer_target_seq_padded = answer_target_seq_padded[:train_samples]\n",
    "    train_answer_impossible = answer_impossible[:train_samples]\n",
    "    train_answer_start_seq_padded = answer_start_seq_padded[:train_samples]\n",
    "    train_answer_end_seq_padded = answer_end_seq_padded[:train_samples]\n",
    "    #train_context_match_question_padded = context_match_question_padded[:train_samples]\n",
    "    val_qid = qid[train_samples:end_samples]\n",
    "    val_context_padded_seq = context_seq_padded[train_samples:end_samples]\n",
    "    val_question_seq_padded = question_seq_padded[train_samples:end_samples]\n",
    "    val_answer_seq_padded = answer_seq_padded[train_samples:end_samples]\n",
    "    val_answer_input_seq_padded = answer_input_seq_padded[train_samples:end_samples]\n",
    "    val_answer_target_seq_padded = answer_target_seq_padded[train_samples:end_samples]\n",
    "    val_answer_impossible = answer_impossible[train_samples:end_samples]\n",
    "    val_answer_start_seq_padded = answer_start_seq_padded[train_samples:end_samples]\n",
    "    val_answer_end_seq_padded = answer_end_seq_padded[train_samples:end_samples]\n",
    "    #val_context_match_question_padded = context_match_question_padded[train_samples:end_samples]\n",
    "    return (train_qid,train_context_padded_seq,train_question_seq_padded,train_answer_seq_padded,\n",
    "            train_answer_input_seq_padded,train_answer_target_seq_padded,train_answer_impossible,\n",
    "            train_answer_start_seq_padded,train_answer_end_seq_padded,\n",
    "            #train_context_match_question_padded,\n",
    "            val_qid,val_context_padded_seq,val_question_seq_padded,val_answer_seq_padded,\n",
    "            val_answer_input_seq_padded,val_answer_target_seq_padded,val_answer_impossible,\n",
    "            val_answer_start_seq_padded,val_answer_end_seq_padded\n",
    "            #,val_context_match_question_padded\n",
    "           )\n",
    "\n",
    "train_qid,train_context_padded_seq,train_question_seq_padded,train_answer_seq_padded,\\\n",
    "train_answer_input_seq_padded,train_answer_target_seq_padded,train_answer_impossible,\\\n",
    "train_answer_start_seq_padded,train_answer_end_seq_padded,\\\n",
    "val_qid,val_context_padded_seq,val_question_seq_padded,val_answer_seq_padded,\\\n",
    "val_answer_input_seq_padded,val_answer_target_seq_padded,val_answer_impossible,\\\n",
    "val_answer_start_seq_padded,val_answer_end_seq_padded\\\n",
    "= vectorize_data(tokenizer_obj,train_lists)\n",
    "print(\"validation num samples where answer impossible: \",len(val_answer_seq_padded[val_answer_impossible==1]))\n",
    "print(\"validation num samples where answer not impossible: \",len(val_answer_seq_padded[val_answer_impossible==0]))\n",
    "print(\"train num samples where answer impossible: \",len(train_answer_seq_padded[train_answer_impossible==1]))\n",
    "print(\"train num samples where answer not impossible: \",len(train_answer_seq_padded[train_answer_impossible==0]))"
   ]
  },
  {
   "cell_type": "code",
   "execution_count": 7,
   "metadata": {},
   "outputs": [
    {
     "name": "stdout",
     "output_type": "stream",
     "text": [
      "Loading vectors from data/glove/glove.6B.zip\n",
      "Parsing file: data/glove/glove.6B.zip:glove.6B.100d.txt\n",
      "Found 400,000 words.\n",
      "Parsing vectors... Done! (W.shape = (400003, 100))\n"
     ]
    }
   ],
   "source": [
    "def create_embedding_matrix(word_index,vocab_size=50000,ndim=100):\n",
    "    hands = glove_helper.Hands(ndim)\n",
    "    embedding_matrix = np.zeros((vocab_size+1,ndim))\n",
    "    for word,i in word_index.items():\n",
    "        if i<=vocab_size:\n",
    "            embedding_vector = hands.get_vector(word,strict=False)\n",
    "            if embedding_vector is not None:\n",
    "                embedding_matrix[i] = embedding_vector\n",
    "    return embedding_matrix\n",
    "\n",
    "embedding_matrix = create_embedding_matrix(vocab,vocab_size,ndim)"
   ]
  },
  {
   "cell_type": "code",
   "execution_count": 8,
   "metadata": {},
   "outputs": [
    {
     "data": {
      "text/plain": [
       "(88702, 100)"
      ]
     },
     "execution_count": 8,
     "metadata": {},
     "output_type": "execute_result"
    }
   ],
   "source": [
    "embedding_matrix.shape"
   ]
  },
  {
   "cell_type": "code",
   "execution_count": 8,
   "metadata": {},
   "outputs": [],
   "source": [
    "#New Model with attention in every step of the answer decoder\n",
    "class BahdanauAttention_model2(tf.keras.layers.Layer):\n",
    "    def __init__(self, units):\n",
    "        super(BahdanauAttention_model2, self).__init__()\n",
    "        self.W1 = tf.keras.layers.Dense(units)\n",
    "        self.W2 = tf.keras.layers.Dense(units)\n",
    "        self.V = tf.keras.layers.Dense(1)\n",
    "\n",
    "    def call(self, query, values):\n",
    "        # query hidden state shape == (batch_size, hidden size)\n",
    "        # query_with_time_axis shape == (batch_size, 1, hidden size)\n",
    "        # values shape == (batch_size, max_len, hidden size)\n",
    "        # we are doing this to broadcast addition along the time axis to calculate the score\n",
    "        query_with_time_axis = tf.expand_dims(query, 1)\n",
    "\n",
    "        # score shape == (batch_size, max_length, 1)\n",
    "        # we get 1 at the last axis because we are applying score to self.V\n",
    "        # the shape of the tensor before applying self.V is (batch_size, max_length, units)\n",
    "        score = self.V(tf.nn.tanh(\n",
    "                                self.W1(query_with_time_axis) + self.W2(values)))\n",
    "\n",
    "        # attention_weights shape == (batch_size, max_length, 1)\n",
    "        attention_weights = tf.nn.softmax(score, axis=1)\n",
    "\n",
    "        # context_vector shape after sum == (batch_size, hidden_size)\n",
    "        context_vector = attention_weights * values\n",
    "        context_vector = tf.reduce_sum(context_vector, axis=1)\n",
    "\n",
    "        return context_vector, attention_weights\n",
    "\n",
    "# Answer Module which is custom as we need to feed output of each time sequence with attention to next \n",
    "# time sequence\n",
    "class answer_module(tf.keras.Model):\n",
    "    def __init__(self,embedding_matrix,\n",
    "                      vocab_size,\n",
    "                      ndim,\n",
    "                      num_unit_gru,\n",
    "                      num_layers_gru,\n",
    "                      dropout_rate,\n",
    "                      l1_regularizer_weight = .01,\n",
    "                      l2_regularizer_weight = .01\n",
    "                      ):\n",
    "        super(answer_module, self).__init__()\n",
    "        self.num_unit_gru = num_unit_gru\n",
    "        self.dropout_rate = dropout_rate\n",
    "        self.WSTART = tf.keras.layers.Dense(2*self.num_unit_gru)\n",
    "        self.WEND = tf.keras.layers.Dense(2*self.num_unit_gru)        \n",
    "    \n",
    "    def call(self,\n",
    "             question,\n",
    "             context):\n",
    "        \n",
    "        context = tf.transpose(context,[0,2,1])\n",
    "        ################ start prediction logit ######################\n",
    "        start = self.WSTART(question)\n",
    "        hidden_start_time_axis = tf.expand_dims(start, 1)\n",
    "        \n",
    "        start_logit = tf.squeeze(tf.matmul(hidden_start_time_axis,context),axis=1)\n",
    "        start_logit = tf.math.exp(start_logit)\n",
    "            \n",
    "        ################ end prediction logit ######################\n",
    "        end = self.WEND(question)\n",
    "\n",
    "        hidden_end_time_axis = tf.expand_dims(end, 1)\n",
    "        \n",
    "        # squeeze remooves time slice we added before\n",
    "        # final shape = (batch_size,decoder_timesteps)\n",
    "        end_logit = tf.squeeze(tf.matmul(hidden_end_time_axis,context),axis=1)\n",
    "        end_logit = tf.math.exp(end_logit)\n",
    "        \n",
    "        \n",
    "        return start_logit,end_logit \n",
    "\n",
    "#Encoder Module which combines the context,question into episodic memory and emits context outputs and \n",
    "#question outputs\n",
    "class encoder_module(tf.keras.Model):    \n",
    "    def __init__(self,embedding_matrix,\n",
    "                      vocab_size,\n",
    "                      max_context_length,\n",
    "                      max_question_length,\n",
    "                      max_answer_length,\n",
    "                      num_unit_gru = 64,\n",
    "                      num_layers_gru = 2,\n",
    "                      ndim =100,\n",
    "                      num_episodes = 2,\n",
    "                      dropout_rate = 0.5,\n",
    "                      num_episodic_network_unit = 64,\n",
    "                      l1_regularizer_weight = .01,\n",
    "                      l2_regularizer_weight = .01\n",
    "                      ):\n",
    "        super(encoder_module, self).__init__()\n",
    "        #Context Module\n",
    "        self.num_unit_gru = num_unit_gru\n",
    "        self.dropout_rate = dropout_rate\n",
    "        self.num_layers_gru = num_layers_gru\n",
    "        self.embedding_matrix = embedding_matrix\n",
    "        self.vocab_size = vocab_size\n",
    "        self.ndim = ndim\n",
    "        self.max_context_length = max_context_length\n",
    "        self.max_question_length = max_question_length\n",
    "        self.max_answer_length = max_answer_length\n",
    "        self.num_episodes = num_episodes\n",
    "        self.num_episodic_network_unit = num_episodic_network_unit\n",
    "        self.context_embeddings_layer = layers.Embedding(self.vocab_size+1,\n",
    "                                                         self.ndim,\n",
    "                                                         mask_zero=True,\n",
    "                                                         weights =[self.embedding_matrix],\n",
    "                                                         trainable = False,\n",
    "                                                         name='Context_Embedding')\n",
    "        self.context_output_layers = []\n",
    "        self.context_batch_normalization_layers = []\n",
    "        for i in range(self.num_layers_gru):\n",
    "            self.context_output_layers.append(layers.Bidirectional(\n",
    "                                                layers.GRU(self.num_unit_gru,\n",
    "                                                           dropout=self.dropout_rate,\n",
    "                                                           recurrent_dropout= self.dropout_rate,\n",
    "                                                           recurrent_initializer='glorot_uniform',\n",
    "                                                           return_sequences=True,\n",
    "                                                           kernel_regularizer=tf.keras.regularizers.l1_l2(\n",
    "                                                                              l1_regularizer_weight,\n",
    "                                                                              l2_regularizer_weight),\n",
    "                                                           bias_regularizer=tf.keras.regularizers.l1_l2(\n",
    "                                                                              l1_regularizer_weight,\n",
    "                                                                              l2_regularizer_weight)),\n",
    "                                                           merge_mode='concat',\n",
    "                                                           name='Context_Bid_Layer'+str(i))\n",
    "                                              )\n",
    "            self.context_batch_normalization_layers.append(layers.BatchNormalization())\n",
    "        \n",
    "        #Question Module\n",
    "        self.question_embeddings_layer = layers.Embedding(self.vocab_size+1,\n",
    "                                                          self.ndim,\n",
    "                                                          mask_zero=True,\n",
    "                                                          weights =[self.embedding_matrix],\n",
    "                                                          trainable = False,\n",
    "                                                          name='Question_Embedding')\n",
    "          \n",
    "        self.question_output_layers = []\n",
    "        self.question_batch_normalization_layers = []\n",
    "        for i in range(num_layers_gru):\n",
    "            self.question_output_layers.append(layers.Bidirectional(\n",
    "                                                 layers.GRU(self.num_unit_gru,\n",
    "                                                            dropout=self.dropout_rate,\n",
    "                                                            recurrent_dropout= self.dropout_rate,\n",
    "                                                            recurrent_initializer='glorot_uniform',\n",
    "                                                            return_sequences=True,\n",
    "                                                            kernel_regularizer=tf.keras.regularizers.l1_l2(\n",
    "                                                                                l1_regularizer_weight,\n",
    "                                                                                l2_regularizer_weight),\n",
    "                                                            bias_regularizer=tf.keras.regularizers.l1_l2(\n",
    "                                                                                l1_regularizer_weight,\n",
    "                                                                                l2_regularizer_weight)),\n",
    "                                                             merge_mode='concat',\n",
    "                                                             name='Question_Bid_Layer'+str(i))\n",
    "                                              )\n",
    "            self.question_batch_normalization_layers.append(layers.BatchNormalization())\n",
    "            \n",
    "        self.question_attention_layer = layers.Dense(1)\n",
    "        #Episodic Memory \n",
    "        #self.episodic_weight_layer = layers.Dense(self.num_unit_gru,use_bias=False)\n",
    "        #self.episodic_tanh_layer = layers.Dense(self.num_episodic_network_unit,activation='tanh')\n",
    "        #self.episodic_score_layer = layers.Dense(1)\n",
    "        #Self alignment\n",
    "        self.Align_W1 = tf.keras.layers.Dense(1,activation=\"relu\")\n",
    "        self.Align_W2 = tf.keras.layers.Dense(1,activation=\"relu\")\n",
    "    def call(self,context_input,question_input):\n",
    "        #context Module\n",
    "        context_embeddings = self.context_embeddings_layer(context_input)\n",
    "        #Question Module\n",
    "        question_embeddings = self.question_embeddings_layer(question_input)\n",
    "        #self alignment\n",
    "        context_relu = self.Align_W1(context_embeddings)\n",
    "        question_relu = self.Align_W2(question_embeddings)\n",
    "        self_align_logits = tf.matmul(context_relu,tf.transpose(question_relu,[0,2,1]))\n",
    "        self_align_scores = tf.nn.softmax(self_align_logits)\n",
    "        self_align_embeddings = tf.matmul(self_align_scores,question_embeddings)\n",
    "        context_concat_embeddings = tf.concat(values=[context_embeddings,self_align_embeddings],axis=-1)\n",
    "        \n",
    "        #print(\"context_embeddings.shape:\",context_embeddings.shape)\n",
    "        #print(\"question_embeddings.shape:\",question_embeddings.shape)\n",
    "        #print(\"context_relu.shape:\",context_relu.shape)\n",
    "        #print(\"question_relu.shape:\",question_relu.shape)\n",
    "        #print(\"self_align_logits.shape:\",self_align_logits.shape)\n",
    "        #print(\"self_align_scores.shape:\",self_align_scores.shape)\n",
    "        #print(\"self_align_embeddings.shape:\",self_align_embeddings.shape)\n",
    "        #print(\"context_concat_embeddings.shape:\",context_concat_embeddings.shape)\n",
    "        for i in range(len(self.context_output_layers)):\n",
    "            if i==0:\n",
    "                context_outputs = self.context_output_layers[i](context_concat_embeddings)\n",
    "            else:\n",
    "                context_outputs = self.context_output_layers[i](context_outputs)\n",
    "            context_outputs = self.context_batch_normalization_layers[i](context_outputs)\n",
    "\n",
    "        \n",
    "        for i in range(len(self.question_output_layers)):\n",
    "            if i==0:\n",
    "                question_outputs = self.question_output_layers[i](question_embeddings)\n",
    "            else:\n",
    "                question_outputs = self.question_output_layers[i](question_outputs)\n",
    "            question_outputs = self.question_batch_normalization_layers[i](question_outputs) \n",
    "        \n",
    "        #Calculate the self attention for question        \n",
    "        question_score = self.question_attention_layer(question_outputs)\n",
    "        # attention_weights shape == (batch_size, max_length, 1)\n",
    "        question_attention_weights = tf.nn.softmax(question_score, axis=1)\n",
    "        question_outputs = question_attention_weights * question_outputs\n",
    "        question_outputs = tf.reduce_sum(question_outputs, axis=1)\n",
    "        \n",
    "        #Episodic Memory \n",
    "        #m = tf.identity(question_outputs)\n",
    "        #for i in range(self.num_episodes):\n",
    "        #    m_increased = tf.tile(tf.keras.backend.expand_dims(m,1),\n",
    "        #                          tf.constant([1,self.max_context_length,1],tf.int32))\n",
    "        #    q_increased = tf.tile(tf.keras.backend.expand_dims(question_outputs,1),\n",
    "        #                          tf.constant([1,self.max_context_length,1],tf.int32))\n",
    "        #    c_mul_q = layers.multiply([context_outputs,q_increased])\n",
    "        #    c_mul_m = layers.multiply([context_outputs,m_increased])\n",
    "        #    c_minus_q =tf.keras.backend.abs(layers.subtract([context_outputs,q_increased]))\n",
    "        #    c_minus_m = tf.keras.backend.abs(layers.subtract([context_outputs,m_increased]))\n",
    "        #    c_dot_q = tf.matmul(tf.keras.backend.expand_dims(self.episodic_weight_layer(question_outputs),1), \n",
    "        #                        context_outputs,\n",
    "        #                        transpose_b=True)\n",
    "        #    c_dot_q = layers.Permute((2,1))(c_dot_q)\n",
    "        #    c_dot_m = tf.matmul(tf.keras.backend.expand_dims(self.episodic_weight_layer(m),1), \n",
    "        #                        context_outputs,transpose_b=True)\n",
    "        #    c_dot_m = layers.Permute((2,1))(c_dot_m)\n",
    "        #    z = tf.concat([context_outputs,\n",
    "        #                            m_increased,\n",
    "        #                            q_increased,\n",
    "        #                            c_mul_q,\n",
    "        #                            c_mul_m,\n",
    "        #                            c_minus_q,\n",
    "        #                            c_minus_m,\n",
    "        #                            c_dot_q,\n",
    "        #                            c_dot_m],axis=-1)\n",
    "        #    score = self.episodic_score_layer(self.episodic_tanh_layer(z))\n",
    "        #    attention_weights = tf.nn.softmax(score, axis=1)\n",
    "        #    m_value = attention_weights * context_outputs\n",
    "        #    m = tf.reduce_sum(m_value, axis=1)\n",
    "        #concatenate episodic memory with question\n",
    "        #concatenated_tensor = tf.concat(values=[m,question_outputs],axis=1)\n",
    "        return (question_outputs,context_outputs)\n",
    "    \n",
    "                \n",
    "#Function to create the Models\n",
    "def create_models(embedding_matrix,\n",
    "                  max_context_length,\n",
    "                  max_question_length,\n",
    "                  max_answer_length,\n",
    "                  num_unit_gru = 64,\n",
    "                  num_layers_gru = 2,\n",
    "                  ndim =100,\n",
    "                  num_episodes = 2,\n",
    "                  num_dense_layer_feasibility_units = 16,\n",
    "                  dropout_rate = 0.5,\n",
    "                  num_dense_layers_feasibility = 1,\n",
    "                  num_episodic_network_unit = 64,\n",
    "                  l1_regularizer_weight = .01,\n",
    "                  l2_regularizer_weight = .01):\n",
    "    \"\"\"\n",
    "    \n",
    "    def create_episodic_memory(num_episodes,\n",
    "                               query,\n",
    "                               context_outputs,\n",
    "                               max_context_length,\n",
    "                               max_question_length,\n",
    "                               num_episodic_network_unit):\n",
    "        m = layers.Lambda(lambda x: x)(query)\n",
    "        weight_layer = layers.Dense(query.shape[1],use_bias=False)\n",
    "        for i in range(num_episodes):\n",
    "            m_increased = tf.tile(tf.keras.backend.expand_dims(m,1),\n",
    "                                  tf.constant([1,max_context_length,1],tf.int32))\n",
    "            q_increased = tf.tile(tf.keras.backend.expand_dims(query,1),\n",
    "                                  tf.constant([1,max_context_length,1],tf.int32))\n",
    "            c_mul_q = layers.multiply([context_outputs,q_increased])\n",
    "            c_mul_m = layers.multiply([context_outputs,m_increased])\n",
    "            c_minus_q =tf.keras.backend.abs(layers.subtract([context_outputs,q_increased]))\n",
    "            c_minus_m = tf.keras.backend.abs(layers.subtract([context_outputs,m_increased]))\n",
    "            c_dot_q = tf.matmul(tf.keras.backend.expand_dims(weight_layer(query),1), \n",
    "                                context_outputs,transpose_b=True)\n",
    "            c_dot_q = layers.Permute((2,1))(c_dot_q)\n",
    "            c_dot_m = tf.matmul(tf.keras.backend.expand_dims(weight_layer(m),1), \n",
    "                                context_outputs,transpose_b=True)\n",
    "            c_dot_m = layers.Permute((2,1))(c_dot_m)\n",
    "            z = layers.concatenate([context_outputs,\n",
    "                                    m_increased,\n",
    "                                    q_increased,\n",
    "                                    c_mul_q,\n",
    "                                    c_mul_m,\n",
    "                                    c_minus_q,\n",
    "                                    c_minus_m,\n",
    "                                    c_dot_q,\n",
    "                                    c_dot_m],axis=-1)\n",
    "            score = layers.Dense(1)(layers.Dense(num_episodic_network_unit,activation='tanh')(z))\n",
    "            attention_weights = tf.nn.softmax(score, axis=1)\n",
    "            m_value = attention_weights * context_outputs\n",
    "            m = tf.reduce_sum(m_value, axis=1)\n",
    "        return m\n",
    "    \n",
    "    \n",
    "    #Input Module\n",
    "    context_input = Input(shape=(None,),dtype='int32',name='Context_Input')\n",
    "    context_embeddings = layers.Embedding(vocab_size+1,\n",
    "                                          ndim,\n",
    "                                          mask_zero=True,\n",
    "                                          name='Context_Embedding')(context_input)\n",
    "\n",
    "    for i in range(num_layers_gru):\n",
    "        context_outputs_layers = layers.Bidirectional(layers.GRU(num_unit_gru,\n",
    "                                                                 dropout=dropout_rate,\n",
    "                                                                 recurrent_dropout= dropout_rate,\n",
    "                                                                 recurrent_initializer='glorot_uniform',\n",
    "                                                                 return_sequences=True),\n",
    "                                                      merge_mode='sum',\n",
    "                                                      name='Context_Bid_Layer'+str(i))\n",
    "        if i==0:\n",
    "            context_outputs = context_outputs_layers(context_embeddings)\n",
    "        else:\n",
    "            context_outputs = context_outputs_layers(context_outputs)\n",
    "        context_outputs = layers.BatchNormalization()(context_outputs)\n",
    "    print(\"Context output shape\",context_outputs.shape)\n",
    "    #Question Module\n",
    "    question_input = Input(shape=(None,),dtype='int32',name='Question_Input')\n",
    "    question_embeddings = layers.Embedding(vocab_size+1,\n",
    "                                           ndim,\n",
    "                                           mask_zero=True,\n",
    "                                           name='Question_Embedding')(question_input)\n",
    "\n",
    "    for i in range(num_layers_gru):\n",
    "        if i==0 and num_layers_gru >1:\n",
    "            question_outputs = layers.Bidirectional(layers.GRU(num_unit_gru,\n",
    "                                                               dropout=dropout_rate,\n",
    "                                                               recurrent_dropout= dropout_rate,\n",
    "                                                               recurrent_initializer='glorot_uniform',\n",
    "                                                               return_sequences=True),\n",
    "                                                    merge_mode='sum',\n",
    "                                                    name='Question_Bid_Layer'+str(i))(question_embeddings)\n",
    "        elif i==0 and num_layers_gru ==1:\n",
    "            question_outputs = layers.Bidirectional(layers.GRU(num_unit_gru,\n",
    "                                                               dropout=dropout_rate,\n",
    "                                                               recurrent_dropout= dropout_rate,\n",
    "                                                               recurrent_initializer='glorot_uniform',\n",
    "                                                               return_sequences=False),\n",
    "                                                    merge_mode='sum',\n",
    "                                                    name='Question_Bid_Layer'+str(i))(question_embeddings)\n",
    "        elif i==(num_layers_gru-1):\n",
    "            question_outputs = layers.Bidirectional(layers.GRU(num_unit_gru,\n",
    "                                                               dropout=dropout_rate,\n",
    "                                                               recurrent_dropout= dropout_rate,\n",
    "                                                               recurrent_initializer='glorot_uniform',\n",
    "                                                               return_sequences=False),\n",
    "                                                    merge_mode='sum',\n",
    "                                                    name='Question_Bid_Layer'+str(i))(question_outputs)\n",
    "        else:\n",
    "            question_outputs = layers.Bidirectional(layers.GRU(num_unit_gru,\n",
    "                                                               dropout=dropout_rate,\n",
    "                                                               recurrent_dropout= dropout_rate,\n",
    "                                                               recurrent_initializer='glorot_uniform',\n",
    "                                                               return_sequences=True),\n",
    "                                                    merge_mode='sum',\n",
    "                                                    name='Question_Bid_Layer'+str(i))(question_outputs)\n",
    "        question_outputs = layers.BatchNormalization()(question_outputs)\n",
    "    #Episodic Memory Module\n",
    "    m=create_episodic_memory(num_episodes,\n",
    "                             question_outputs,\n",
    "                             context_outputs,\n",
    "                             max_context_length,\n",
    "                             max_question_length,\n",
    "                             num_episodic_network_unit)\n",
    "\n",
    "    concatenated_tensor = layers.concatenate(inputs=[m,question_outputs],\n",
    "                                             name='Concatenation_Memory_Question',axis=1)\n",
    "    \"\"\"\n",
    "    #encoder Model\n",
    "    encoder_model = encoder_module(embedding_matrix,\n",
    "                                   vocab_size,\n",
    "                                   max_context_length,\n",
    "                                   max_question_length,\n",
    "                                   max_answer_length,\n",
    "                                   num_unit_gru,\n",
    "                                   num_layers_gru,\n",
    "                                   ndim,\n",
    "                                   num_episodes,\n",
    "                                   dropout_rate,\n",
    "                                   num_episodic_network_unit,\n",
    "                                   l1_regularizer_weight = l1_regularizer_weight,\n",
    "                                   l2_regularizer_weight = l2_regularizer_weight\n",
    "                                 )\n",
    "    \n",
    "    \n",
    "    #Model([context_input,question_input], [m,concatenated_tensor,question_outputs,context_outputs])\n",
    "    #answer_module\n",
    "    answer_model = answer_module(embedding_matrix,\n",
    "                                 vocab_size,\n",
    "                                 ndim,\n",
    "                                 num_unit_gru,\n",
    "                                 num_layers_gru,\n",
    "                                 dropout_rate,\n",
    "                                 l1_regularizer_weight = l1_regularizer_weight,\n",
    "                                 l2_regularizer_weight = l2_regularizer_weight)\n",
    "    #encoder_model.get_layer(\"Question_Embedding\").set_weights([embedding_matrix])\n",
    "    #encoder_model.get_layer(\"Question_Embedding\").trainable = False\n",
    "    #encoder_model.get_layer(\"Context_Embedding\").set_weights([embedding_matrix])\n",
    "    #encoder_model.get_layer(\"Context_Embedding\").trainable = False\n",
    "    \n",
    "    #feasibility module\n",
    "    #feasibility_episodic_memory_input = Input(shape=(num_unit_gru,), name=\"FeasibilityEpisodicMemoryInput\")\n",
    "    #feasibility_start_logits_input = Input(shape=(max_context_length,),name=\"FeasibilityStartLogitInput\")\n",
    "    #feasibility_end_logits_input = Input(shape=(max_context_length),name=\"FeasibilityEndLogitInput\")\n",
    "    feasibility_context_input = Input(shape=(None,2*num_unit_gru,),name='feasibilityContext_Input')\n",
    "    feasibility_question_input = Input(shape=(2*num_unit_gru,),name='feasibilityQuestion_Input')\n",
    "    #create attention between Context and Question\n",
    "    q_with_time_axis = tf.keras.backend.expand_dims(feasibility_question_input,1)\n",
    "    attentionContextQuestion = layers.AdditiveAttention()([q_with_time_axis,\n",
    "                                                          feasibility_context_input])\n",
    "    attentionContextQuestionReduced = tf.keras.backend.sum(attentionContextQuestion, axis=1)\n",
    "    #create Episodic memory \n",
    "    #Episodic Memory \n",
    "    episodic_weight_layer = layers.Dense(2*num_unit_gru,use_bias=False)\n",
    "    episodic_tanh_layer = layers.Dense(num_episodic_network_unit,activation='tanh')\n",
    "    episodic_score_layer = layers.Dense(1)\n",
    "    m = tf.identity(feasibility_question_input)\n",
    "    for i in range(num_episodes):\n",
    "        m_increased = tf.tile(tf.keras.backend.expand_dims(m,1),\n",
    "                              tf.constant([1,max_context_length,1],tf.int32))\n",
    "        q_increased = tf.tile(tf.keras.backend.expand_dims(feasibility_question_input,1),\n",
    "                              tf.constant([1,max_context_length,1],tf.int32))\n",
    "        c_mul_q = layers.multiply([feasibility_context_input,q_increased])\n",
    "        c_mul_m = layers.multiply([feasibility_context_input,m_increased])\n",
    "        c_minus_q =tf.keras.backend.abs(layers.subtract([feasibility_context_input,q_increased]))\n",
    "        c_minus_m = tf.keras.backend.abs(layers.subtract([feasibility_context_input,m_increased]))\n",
    "        c_dot_q = tf.matmul(tf.keras.backend.expand_dims(episodic_weight_layer(feasibility_question_input),1), \n",
    "                            feasibility_context_input,\n",
    "                            transpose_b=True)\n",
    "        c_dot_q = layers.Permute((2,1))(c_dot_q)\n",
    "        c_dot_m = tf.matmul(tf.keras.backend.expand_dims(episodic_weight_layer(m),1), \n",
    "                            feasibility_context_input,transpose_b=True)\n",
    "        c_dot_m = layers.Permute((2,1))(c_dot_m)\n",
    "        z = tf.concat([feasibility_context_input,\n",
    "                                m_increased,\n",
    "                                q_increased,\n",
    "                                c_mul_q,\n",
    "                                c_mul_m,\n",
    "                                c_minus_q,\n",
    "                                c_minus_m,\n",
    "                                c_dot_q,\n",
    "                                c_dot_m],axis=-1)\n",
    "        score = episodic_score_layer(episodic_tanh_layer(z))\n",
    "        attention_weights = tf.nn.softmax(score, axis=1)\n",
    "        m_value = attention_weights * feasibility_context_input\n",
    "        m = tf.reduce_sum(m_value, axis=1)\n",
    "    \n",
    "    \n",
    "    #feasibility_dense_input = tf.concat([m,\n",
    "    #                                     feasibility_start_logits_input,\n",
    "    #                                     feasibility_end_logits_input],\n",
    "    #                                    axis=-1)\n",
    "    feasibility_dense_input = tf.concat([m,\n",
    "                                         attentionContextQuestionReduced],\n",
    "                                        axis=-1)\n",
    "    for i in range(num_dense_layers_feasibility):        \n",
    "        if i==0:\n",
    "            dense_layer = layers.Dense(num_dense_layer_feasibility_units,\n",
    "                                       activation='relu',\n",
    "                                       name='feasibility_layer_'+str(i),\n",
    "                                       kernel_regularizer=tf.keras.regularizers.l1_l2(\n",
    "                                                                                      l1_regularizer_weight,\n",
    "                                                                                      l2_regularizer_weight),\n",
    "                                        bias_regularizer=tf.keras.regularizers.l1_l2(\n",
    "                                                                                      l1_regularizer_weight,\n",
    "                                                                                      l2_regularizer_weight)\n",
    "                                      )(feasibility_dense_input)\n",
    "        else:\n",
    "            dense_layer = layers.Dense(num_dense_layer_feasibility_units,\n",
    "                                       activation='relu',\n",
    "                                       name='feasibility_layer_'+str(i),\n",
    "                                       kernel_regularizer=tf.keras.regularizers.l1_l2(\n",
    "                                                                                      l1_regularizer_weight,\n",
    "                                                                                      l2_regularizer_weight),\n",
    "                                        bias_regularizer=tf.keras.regularizers.l1_l2(\n",
    "                                                                                      l1_regularizer_weight,\n",
    "                                                                                      l2_regularizer_weight)\n",
    "                                      )(dense_layer)\n",
    "        dense_layer = layers.BatchNormalization()(dense_layer)\n",
    "        dropout_layer = layers.Dropout(dropout_rate,name='feasibility_drop_'+str(i))(dense_layer)\n",
    "\n",
    "    feasibility_output = layers.Dense(1,activation='sigmoid',\n",
    "                                      name='feasibility_output',\n",
    "                                      kernel_regularizer=tf.keras.regularizers.l1_l2(\n",
    "                                                                    l1_regularizer_weight,\n",
    "                                                                    l2_regularizer_weight),\n",
    "                                      bias_regularizer=tf.keras.regularizers.l1_l2(\n",
    "                                                                    l1_regularizer_weight,\n",
    "                                                                    l2_regularizer_weight))(dropout_layer)\n",
    "    feasibility_model = Model([feasibility_question_input,\n",
    "                               feasibility_context_input],\n",
    "                               feasibility_output)\n",
    "    \n",
    "    return (answer_model,encoder_model,feasibility_model)"
   ]
  },
  {
   "cell_type": "code",
   "execution_count": 9,
   "metadata": {},
   "outputs": [],
   "source": [
    "#Function to get sentences from the predicted answers\n",
    "def decode_sentence(context_input_seq,\n",
    "                     question_input_seq,\n",
    "                     encoder_model,\n",
    "                     answer_model):\n",
    "    decoded_sentence = \"\"\n",
    "    question_output,context_output = encoder_model(context_input_seq,question_input_seq) \n",
    "    \n",
    "    start_logits,end_logits = answer_model(question_output,context_output)\n",
    "    \n",
    "    #Do a outer matrix multiplication of the logits \n",
    "    # we need to get the start and end index with highest multiplication of start and end probs\n",
    "    outer = tf.matmul(tf.expand_dims(start_logits, axis=2),tf.expand_dims(end_logits, axis=0)) \n",
    "    outer = tf.linalg.band_part(outer, 0, answer_maxlen)\n",
    "    start_position = tf.argmax(tf.reduce_max(outer, axis=2),axis=1)    \n",
    "    end_position = tf.argmax(tf.reduce_max(outer, axis=1),axis=1)\n",
    "    #print(start_position.shape)\n",
    "    #print(end_position.shape)\n",
    "    #print(start_position)\n",
    "    #print(end_position)\n",
    "    \n",
    "    for i in range(start_position[0],end_position[0]+1):\n",
    "        sampled_token_index = context_input_seq[0,i]\n",
    "        if sampled_token_index == 0:\n",
    "            sampled_char = \"\"\n",
    "        else:\n",
    "            sampled_char = id_vocab[sampled_token_index]\n",
    "        if i == start_position[0]:\n",
    "            decoded_sentence += sampled_char\n",
    "        else:\n",
    "            decoded_sentence += \" \"+sampled_char\n",
    "    return decoded_sentence"
   ]
  },
  {
   "cell_type": "code",
   "execution_count": 10,
   "metadata": {},
   "outputs": [
    {
     "data": {
      "text/plain": [
       "{'Experiment0': {'num_unit_gru': 64,\n",
       "  'num_layers_gru': 2,\n",
       "  'num_episodes': 3,\n",
       "  'num_dense_layer_feasibility_units': 32,\n",
       "  'dropout_rate': 0.6,\n",
       "  'num_dense_layers_feasibility': 1,\n",
       "  'num_episodic_network_unit': 192,\n",
       "  'learning_rate': 0.001,\n",
       "  'l1_regularizer_weight': 0.01,\n",
       "  'l2_regularizer_weight': 0.01},\n",
       " 'Experiment1': {'num_unit_gru': 80,\n",
       "  'num_layers_gru': 3,\n",
       "  'num_episodes': 2,\n",
       "  'num_dense_layer_feasibility_units': 64,\n",
       "  'dropout_rate': 0.7,\n",
       "  'num_dense_layers_feasibility': 2,\n",
       "  'num_episodic_network_unit': 96,\n",
       "  'learning_rate': 0.005,\n",
       "  'l1_regularizer_weight': 0.0001,\n",
       "  'l2_regularizer_weight': 0.01},\n",
       " 'Experiment2': {'num_unit_gru': 100,\n",
       "  'num_layers_gru': 2,\n",
       "  'num_episodes': 1,\n",
       "  'num_dense_layer_feasibility_units': 64,\n",
       "  'dropout_rate': 0.5,\n",
       "  'num_dense_layers_feasibility': 1,\n",
       "  'num_episodic_network_unit': 64,\n",
       "  'learning_rate': 0.005,\n",
       "  'l1_regularizer_weight': 0.01,\n",
       "  'l2_regularizer_weight': 0.01},\n",
       " 'Experiment3': {'num_unit_gru': 80,\n",
       "  'num_layers_gru': 4,\n",
       "  'num_episodes': 2,\n",
       "  'num_dense_layer_feasibility_units': 32,\n",
       "  'dropout_rate': 0.7,\n",
       "  'num_dense_layers_feasibility': 3,\n",
       "  'num_episodic_network_unit': 64,\n",
       "  'learning_rate': 0.005,\n",
       "  'l1_regularizer_weight': 0.01,\n",
       "  'l2_regularizer_weight': 0.0001},\n",
       " 'Experiment4': {'num_unit_gru': 100,\n",
       "  'num_layers_gru': 3,\n",
       "  'num_episodes': 1,\n",
       "  'num_dense_layer_feasibility_units': 48,\n",
       "  'dropout_rate': 0.6,\n",
       "  'num_dense_layers_feasibility': 1,\n",
       "  'num_episodic_network_unit': 128,\n",
       "  'learning_rate': 0.005,\n",
       "  'l1_regularizer_weight': 0.001,\n",
       "  'l2_regularizer_weight': 0.001},\n",
       " 'Experiment5': {'num_unit_gru': 128,\n",
       "  'num_layers_gru': 3,\n",
       "  'num_episodes': 1,\n",
       "  'num_dense_layer_feasibility_units': 64,\n",
       "  'dropout_rate': 0.5,\n",
       "  'num_dense_layers_feasibility': 1,\n",
       "  'num_episodic_network_unit': 192,\n",
       "  'learning_rate': 0.005,\n",
       "  'l1_regularizer_weight': 0.001,\n",
       "  'l2_regularizer_weight': 0.0001},\n",
       " 'Experiment6': {'num_unit_gru': 64,\n",
       "  'num_layers_gru': 4,\n",
       "  'num_episodes': 1,\n",
       "  'num_dense_layer_feasibility_units': 64,\n",
       "  'dropout_rate': 0.5,\n",
       "  'num_dense_layers_feasibility': 1,\n",
       "  'num_episodic_network_unit': 80,\n",
       "  'learning_rate': 0.001,\n",
       "  'l1_regularizer_weight': 0.01,\n",
       "  'l2_regularizer_weight': 0.01},\n",
       " 'Experiment7': {'num_unit_gru': 128,\n",
       "  'num_layers_gru': 2,\n",
       "  'num_episodes': 1,\n",
       "  'num_dense_layer_feasibility_units': 32,\n",
       "  'dropout_rate': 0.5,\n",
       "  'num_dense_layers_feasibility': 1,\n",
       "  'num_episodic_network_unit': 64,\n",
       "  'learning_rate': 0.001,\n",
       "  'l1_regularizer_weight': 0.01,\n",
       "  'l2_regularizer_weight': 0.01}}"
      ]
     },
     "execution_count": 10,
     "metadata": {},
     "output_type": "execute_result"
    }
   ],
   "source": [
    "Experiment_Dic = {'Experiment0': {'num_unit_gru': 64,\n",
    "                                  'num_layers_gru': 2,\n",
    "                                  'num_episodes': 3,\n",
    "                                  'num_dense_layer_feasibility_units': 32,\n",
    "                                  'dropout_rate': 0.6,\n",
    "                                  'num_dense_layers_feasibility': 1,\n",
    "                                  'num_episodic_network_unit': 192,\n",
    "                                  'learning_rate': 0.001,\n",
    "                                  'l1_regularizer_weight':0.01,\n",
    "                                  'l2_regularizer_weight':0.01},\n",
    "                  'Experiment1': {'num_unit_gru': 80,\n",
    "                                  'num_layers_gru': 3,\n",
    "                                  'num_episodes': 2,\n",
    "                                  'num_dense_layer_feasibility_units': 64,\n",
    "                                  'dropout_rate': 0.7,\n",
    "                                  'num_dense_layers_feasibility': 2,\n",
    "                                  'num_episodic_network_unit': 96,\n",
    "                                  'learning_rate': 0.005,\n",
    "                                  'l1_regularizer_weight':0.0001,\n",
    "                                  'l2_regularizer_weight':0.01},\n",
    "                  'Experiment2': {'num_unit_gru': 100,\n",
    "                                  'num_layers_gru': 2,\n",
    "                                  'num_episodes': 1,\n",
    "                                  'num_dense_layer_feasibility_units': 64,\n",
    "                                  'dropout_rate': 0.5,\n",
    "                                  'num_dense_layers_feasibility': 1,\n",
    "                                  'num_episodic_network_unit': 64,\n",
    "                                  'learning_rate': 0.005,\n",
    "                                  'l1_regularizer_weight':0.01,\n",
    "                                  'l2_regularizer_weight':0.01},\n",
    "                  'Experiment3': {'num_unit_gru': 80,\n",
    "                                  'num_layers_gru': 4,\n",
    "                                  'num_episodes': 2,\n",
    "                                  'num_dense_layer_feasibility_units': 32,\n",
    "                                  'dropout_rate': 0.7,\n",
    "                                  'num_dense_layers_feasibility': 3,\n",
    "                                  'num_episodic_network_unit': 64,\n",
    "                                  'learning_rate': 0.005,\n",
    "                                  'l1_regularizer_weight':0.01,\n",
    "                                  'l2_regularizer_weight':0.0001},\n",
    "                  'Experiment4': {'num_unit_gru': 100,\n",
    "                                  'num_layers_gru': 3,\n",
    "                                  'num_episodes': 1,\n",
    "                                  'num_dense_layer_feasibility_units': 48,\n",
    "                                  'dropout_rate': 0.6,\n",
    "                                  'num_dense_layers_feasibility': 1,\n",
    "                                  'num_episodic_network_unit': 128,\n",
    "                                  'learning_rate': 0.005,\n",
    "                                  'l1_regularizer_weight':0.001,\n",
    "                                  'l2_regularizer_weight':0.001},\n",
    "                  'Experiment5': {'num_unit_gru': 128,\n",
    "                                  'num_layers_gru': 3,\n",
    "                                  'num_episodes': 1,\n",
    "                                  'num_dense_layer_feasibility_units': 64,\n",
    "                                  'dropout_rate': 0.5,\n",
    "                                  'num_dense_layers_feasibility': 1,\n",
    "                                  'num_episodic_network_unit': 192,\n",
    "                                  'learning_rate': 0.005,\n",
    "                                  'l1_regularizer_weight':0.001,\n",
    "                                  'l2_regularizer_weight':0.0001},\n",
    "                  'Experiment6': {'num_unit_gru': 64,\n",
    "                                  'num_layers_gru': 4,\n",
    "                                  'num_episodes': 1,\n",
    "                                  'num_dense_layer_feasibility_units': 64,\n",
    "                                  'dropout_rate': 0.5,\n",
    "                                  'num_dense_layers_feasibility': 1,\n",
    "                                  'num_episodic_network_unit': 80,\n",
    "                                  'learning_rate': 0.001,\n",
    "                                  'l1_regularizer_weight':0.01,\n",
    "                                  'l2_regularizer_weight':0.01},\n",
    "                  'Experiment7': {'num_unit_gru': 128,\n",
    "                                  'num_layers_gru': 2,\n",
    "                                  'num_episodes': 1,\n",
    "                                  'num_dense_layer_feasibility_units': 32,\n",
    "                                  'dropout_rate': 0.5,\n",
    "                                  'num_dense_layers_feasibility': 1,\n",
    "                                  'num_episodic_network_unit': 64,\n",
    "                                  'learning_rate': 0.001,\n",
    "                                  'l1_regularizer_weight':0.01,\n",
    "                                  'l2_regularizer_weight':0.01}\n",
    "                }\n",
    "Experiment_Dic"
   ]
  },
  {
   "cell_type": "code",
   "execution_count": 11,
   "metadata": {},
   "outputs": [],
   "source": [
    "def run_experiments(Experiment_Dic,\n",
    "                    Experiment_No,\n",
    "                    embedding_matrix,\n",
    "                    ndim = 100,\n",
    "                    tpu_enabled=0,\n",
    "                    num_training_samples=1024,\n",
    "                    num_validation_samples = 256,\n",
    "                    num_epochs = 50,\n",
    "                    batch_size = 10):\n",
    "    num_training_samples = int((num_training_samples//128)*128)\n",
    "    num_validation_samples = int((num_validation_samples//128)*128)\n",
    "    #get the experiment details\n",
    "    ExperimentNo = 'Experiment'+str(Experiment_No)\n",
    "    print(\"Running \",ExperimentNo)\n",
    "    num_unit_gru = Experiment_Dic[ExperimentNo]['num_unit_gru']\n",
    "    num_layers_gru = Experiment_Dic[ExperimentNo]['num_layers_gru']\n",
    "    num_episodes = Experiment_Dic[ExperimentNo]['num_episodes']\n",
    "    num_dense_layer_feasibility_units = Experiment_Dic[ExperimentNo]['num_dense_layer_feasibility_units']\n",
    "    dropout_rate = Experiment_Dic[ExperimentNo]['dropout_rate']\n",
    "    num_dense_layers_feasibility = Experiment_Dic[ExperimentNo]['num_dense_layers_feasibility']\n",
    "    num_episodic_network_unit = Experiment_Dic[ExperimentNo]['num_episodic_network_unit']\n",
    "    learning_rate = Experiment_Dic[ExperimentNo]['learning_rate']\n",
    "    l1_regularizer_weight = Experiment_Dic[ExperimentNo]['l1_regularizer_weight']\n",
    "    l2_regularizer_weight = Experiment_Dic[ExperimentNo]['l2_regularizer_weight']\n",
    "        \n",
    "    if tpu_enabled==0:\n",
    "        #When GPU ENABLED\n",
    "        answer_model,\\\n",
    "        encoder_model,\\\n",
    "        feasibility_model = create_models(\n",
    "                                      embedding_matrix = embedding_matrix,\n",
    "                                      max_context_length = context_maxlen,\n",
    "                                      max_question_length = question_maxlen,\n",
    "                                      max_answer_length = answer_maxlen,\n",
    "                                      num_unit_gru = num_unit_gru,\n",
    "                                      num_layers_gru = num_layers_gru,\n",
    "                                      ndim =ndim,\n",
    "                                      num_episodes = num_episodes,\n",
    "                                      num_dense_layer_feasibility_units = num_dense_layer_feasibility_units,\n",
    "                                      dropout_rate = dropout_rate,\n",
    "                                      num_dense_layers_feasibility = num_dense_layers_feasibility,\n",
    "                                      num_episodic_network_unit = num_episodic_network_unit,\n",
    "                                      l1_regularizer_weight = l1_regularizer_weight,\n",
    "                                      l2_regularizer_weight = l2_regularizer_weight)\n",
    "\n",
    "        #adam_optim = keras.optimizers.Adam(learning_rate=learning_rate)\n",
    "        #encoder_model.compile(optimizer=adam_optim,\n",
    "        #                      loss=tf.keras.losses.SparseCategoricalCrossentropy(),\n",
    "        #                      metrics=[tf.keras.metrics.SparseCategoricalAccuracy()])\n",
    "        #encoder_model.summary()\n",
    "        #answer_model.compile(optimizer=adam_optim,\n",
    "        #                           loss=tf.keras.losses.SparseCategoricalCrossentropy(),\n",
    "        #                           metrics=[tf.keras.metrics.SparseCategoricalAccuracy()]\n",
    "        #                        )\n",
    "        #\n",
    "        #answer_model.summary()\n",
    "        #feasibility_model.compile(optimizer=adam_optim,\n",
    "        #                           loss=tf.keras.losses.BinaryCrossentropy(),\n",
    "        #                           metrics=[tf.keras.metrics.BinaryAccuracy()]\n",
    "        #                           )\n",
    "        #feasibility_model.summary()\n",
    "    else: \n",
    "        resolver = tf.distribute.cluster_resolver.TPUClusterResolver(tpu='grpc://' +\n",
    "                                                                     os.environ['COLAB_TPU_ADDR'])\n",
    "        tf.config.experimental_connect_to_cluster(resolver)\n",
    "        tf.tpu.experimental.initialize_tpu_system(resolver)\n",
    "        strategy = tf.distribute.experimental.TPUStrategy(resolver)\n",
    "        batch_size = 128*8\n",
    "        with strategy.scope():\n",
    "            answer_model,\\\n",
    "            encoder_model,\\\n",
    "            feasibility_model = create_models(\n",
    "                                          embedding_matrix = embedding_matrix,\n",
    "                                          max_context_length = context_maxlen,\n",
    "                                          max_question_length = question_maxlen,\n",
    "                                          max_answer_length = answer_maxlen,\n",
    "                                          num_unit_gru = num_unit_gru,\n",
    "                                          num_layers_gru = num_layers_gru,\n",
    "                                          ndim =ndim,\n",
    "                                          num_episodes = num_episodes,\n",
    "                                          num_dense_layer_feasibility_units = \n",
    "                                                        num_dense_layer_feasibility_units,\n",
    "                                          dropout_rate = dropout_rate,\n",
    "                                          num_dense_layers_feasibility = num_dense_layers_feasibility,\n",
    "                                          num_episodic_network_unit = num_episodic_network_unit,\n",
    "                                         l1_regularizer_weight = l1_regularizer_weight,\n",
    "                                         l2_regularizer_weight = l2_regularizer_weight)\n",
    "\n",
    "            #adam_optim = keras.optimizers.Adam(learning_rate=learning_rate)\n",
    "            #encoder_model.compile(optimizer=adam_optim,\n",
    "            #                  loss=tf.keras.losses.SparseCategoricalCrossentropy(),\n",
    "            #                  metrics=[tf.keras.metrics.SparseCategoricalAccuracy()])\n",
    "            #encoder_model.summary()\n",
    "            #\n",
    "            #answer_model.compile(optimizer=adam_optim,\n",
    "            #                           loss=tf.keras.losses.SparseCategoricalCrossentropy(),\n",
    "            #                           metrics=[tf.keras.metrics.SparseCategoricalAccuracy()]\n",
    "            #                    )\n",
    "\n",
    "            #answer_model.summary()\n",
    "            #feasibility_model.compile(optimizer=adam_optim,\n",
    "            #                           loss=tf.keras.losses.BinaryCrossentropy(),\n",
    "            #                           metrics=[tf.keras.metrics.BinaryAccuracy()]\n",
    "            #                           )\n",
    "            #feasibility_model.summary()\n",
    "    #Train the Answer Model and Encoder Model\n",
    "    answer_optimizer = tf.keras.optimizers.Adam(learning_rate=learning_rate)\n",
    "    answer_loss_object = tf.keras.losses.CategoricalCrossentropy(from_logits=True, reduction='none')\n",
    "    train_acc_metric = keras.metrics.CategoricalAccuracy()\n",
    "    val_acc_metric = keras.metrics.CategoricalAccuracy()\n",
    "    @tf.function\n",
    "    def answer_loss_function(real_start, real_end,pred_start,pred_end):\n",
    "        \n",
    "        start_loss = answer_loss_object(real_start,pred_start)\n",
    "        end_loss = answer_loss_object(real_end,pred_end)\n",
    "        return tf.reduce_mean(start_loss+end_loss)\n",
    "\n",
    "    @tf.function\n",
    "    def answer_train_step(inp,ques,targ_start,targ_end,encoder_model,answer_model):\n",
    "        loss = 0\n",
    "        batch_loss = 0\n",
    "        with tf.GradientTape() as tape:\n",
    "            question_output,context_output = encoder_model(inp,ques)\n",
    "            start_logits,end_logits = answer_model(question_output,context_output)\n",
    "            loss += answer_loss_function(targ_start,targ_end,start_logits,end_logits)\n",
    "            batch_loss = loss\n",
    "            train_acc_metric(targ_start,start_logits)\n",
    "            train_acc_metric(targ_end,end_logits)\n",
    "            variables = encoder_model.trainable_variables + answer_model.trainable_variables\n",
    "            gradients = tape.gradient(loss, variables)\n",
    "            answer_optimizer.apply_gradients(zip(gradients, variables))\n",
    "        return batch_loss\n",
    "\n",
    "    @tf.function\n",
    "    def answer_val_step(inp,ques,targ_start,targ_end,encoder_model,answer_model):\n",
    "        loss = 0\n",
    "        question_output,context_output = encoder_model(inp,ques)\n",
    "        start_logits,end_logits = answer_model(question_output,context_output)\n",
    "        loss += answer_loss_function(targ_start,targ_end,start_logits,end_logits)\n",
    "        batch_loss = loss\n",
    "        val_acc_metric(targ_start,start_logits)\n",
    "        val_acc_metric(targ_end,end_logits)\n",
    "        \n",
    "        return batch_loss\n",
    "    #Create batches for training only include where its possible to answer\n",
    "    #\n",
    "    #c = b==1\n",
    "    #a[c][:3]\n",
    "    train_ans_cond = np.any(train_answer_start_seq_padded == 1,\n",
    "                            axis=1) & np.any(train_answer_end_seq_padded==1,\n",
    "                                             axis=1)\n",
    "    \n",
    "    #train_answer_impossible==0\n",
    "    val_ans_cond = np.any(val_answer_start_seq_padded == 1,\n",
    "                            axis=1) & np.any(val_answer_end_seq_padded==1,\n",
    "                                             axis=1)\n",
    "    #val_answer_impossible==0\n",
    "    #make sure that training samples and validation samples are divisible by 1024\n",
    "    num_training_samples_upd = int((train_context_padded_seq[train_ans_cond][:num_training_samples].shape[0]//1024)\n",
    "                                   *1024)\n",
    "    \n",
    "    num_validation_samples_upd = int((val_context_padded_seq[val_ans_cond][:num_validation_samples].shape[0]//1024)\n",
    "                                   *1024)\n",
    "    TRAIN_BUFFER_SIZE = train_context_padded_seq[train_ans_cond][:num_training_samples_upd].shape[0]\n",
    "    VAL_BUFFER_SIZE = val_context_padded_seq[val_ans_cond][:num_validation_samples_upd].shape[0]\n",
    "    steps_per_epoch = TRAIN_BUFFER_SIZE//batch_size\n",
    "    steps_per_epoch_val = VAL_BUFFER_SIZE//batch_size\n",
    "    train_dataset = tf.data.Dataset.from_tensor_slices((train_context_padded_seq[train_ans_cond][:num_training_samples_upd],\n",
    "                                                        train_question_seq_padded[train_ans_cond][:num_training_samples_upd],\n",
    "                                                        train_answer_seq_padded[train_ans_cond][:num_training_samples_upd],\n",
    "                                                        train_answer_input_seq_padded[train_ans_cond][:num_training_samples_upd],\n",
    "                                                        train_answer_target_seq_padded[train_ans_cond][:num_training_samples_upd],\n",
    "                                                        train_answer_impossible[train_ans_cond][:num_training_samples_upd],\n",
    "                                                        train_answer_start_seq_padded[train_ans_cond][:num_training_samples_upd],\n",
    "                                                        train_answer_end_seq_padded[train_ans_cond][:num_training_samples_upd]\n",
    "                                                       ))\\\n",
    "                                   .shuffle(TRAIN_BUFFER_SIZE,reshuffle_each_iteration=True)\n",
    "    train_dataset = train_dataset.batch(batch_size, drop_remainder=True)\n",
    "\n",
    "    val_dataset = tf.data.Dataset.from_tensor_slices((val_context_padded_seq[val_ans_cond][:num_validation_samples_upd],\n",
    "                                                      val_question_seq_padded[val_ans_cond][:num_validation_samples_upd],\n",
    "                                                      val_answer_seq_padded[val_ans_cond][:num_validation_samples_upd],\n",
    "                                                      val_answer_input_seq_padded[val_ans_cond][:num_validation_samples_upd],\n",
    "                                                      val_answer_target_seq_padded[val_ans_cond][:num_validation_samples_upd],\n",
    "                                                      val_answer_impossible[val_ans_cond][:num_validation_samples_upd],\n",
    "                                                      val_answer_start_seq_padded[val_ans_cond][:num_validation_samples_upd],\n",
    "                                                      val_answer_end_seq_padded[val_ans_cond][:num_validation_samples_upd]\n",
    "                                                     ))\n",
    "    val_dataset = val_dataset.batch(batch_size,drop_remainder=True)\n",
    "    \n",
    "    #Run Epochs\n",
    "    \n",
    "    history_answer_model = {'loss':[],\n",
    "                            'categorical_accuracy':[],\n",
    "                            'val_loss':[],\n",
    "                            'val_categorical_accuracy':[]}\n",
    "    print(\"\\nTraining the answer model:\")\n",
    "    #tqdm.write(\"\\nTraining the answer model:\")\n",
    "    #Value to store best validation accuracy\n",
    "    max_answer_val_accuracy = 0\n",
    "    for epoch in range(num_epochs):\n",
    "        start = time.time()\n",
    "\n",
    "        total_loss = 0\n",
    "        total_val_loss = 0\n",
    "        #tqdm.write('Epoch {}/{}'.format(epoch + 1, num_epochs))\n",
    "        print('Epoch {}/{}'.format(epoch + 1, num_epochs))\n",
    "        for (batch, (batch_train_context_padded_seq,\n",
    "                     batch_train_question_seq_padded,\n",
    "                     batch_train_answer_seq_padded,\n",
    "                     batch_train_answer_input_seq_padded,\n",
    "                     batch_train_answer_target_seq_padded,\n",
    "                     batch_train_answer_impossible,\n",
    "                     batch_train_answer_start_seq_padded,\n",
    "                     batch_train_answer_end_seq_padded)) in tqdm(enumerate(train_dataset.take(steps_per_epoch)),\n",
    "                                                             total = num_training_samples_upd//batch_size,\n",
    "                                                             desc=\"[Training Answer]\"):\n",
    "            batch_loss = answer_train_step(batch_train_context_padded_seq,\n",
    "                                           batch_train_question_seq_padded,\n",
    "                                           batch_train_answer_start_seq_padded,\n",
    "                                           batch_train_answer_end_seq_padded,\n",
    "                                           encoder_model,\n",
    "                                           answer_model)\n",
    "            total_loss += batch_loss\n",
    "            #if batch % 50 == 0:\n",
    "            #    print('=t',end='')\n",
    "\n",
    "        epoch_training_loss = total_loss / steps_per_epoch\n",
    "        epoch_training_accuracy = train_acc_metric.result()\n",
    "        print('Epoch {} - Train Loss {:.4f} Train Accuracy {:.4f}'.format(epoch + 1,\n",
    "                                                                                 epoch_training_loss, \n",
    "                                                                                 epoch_training_accuracy))\n",
    "        train_acc_metric.reset_states()\n",
    "        #print('')\n",
    "        #print('Epoch {} Train Loss {:.4f}'.format(epoch + 1,epoch_training_loss),end=' ')\n",
    "        #print('Epoch {} Train Accuracy {:.4f}'.format(epoch + 1,epoch_training_accuracy))\n",
    "        \n",
    "        \n",
    "        for (batch, (batch_val_context_padded_seq,\n",
    "                     batch_val_question_seq_padded,\n",
    "                     batch_val_answer_seq_padded,\n",
    "                     batch_val_answer_input_seq_padded,\n",
    "                     batch_val_answer_target_seq_padded,\n",
    "                     batch_val_answer_impossible,\n",
    "                     batch_val_answer_start_seq_padded,\n",
    "                     batch_val_answer_end_seq_padded)) in tqdm(enumerate(val_dataset.take(steps_per_epoch_val)),\n",
    "                                                           total = num_validation_samples_upd//batch_size,\n",
    "                                                           desc=\"[Validating Answer]\"):\n",
    "            batch_loss = answer_val_step(batch_val_context_padded_seq,\n",
    "                                         batch_val_question_seq_padded,\n",
    "                                         batch_val_answer_start_seq_padded,\n",
    "                                         batch_val_answer_end_seq_padded,\n",
    "                                         encoder_model,\n",
    "                                         answer_model)\n",
    "            total_val_loss += batch_loss\n",
    "            #if batch % 50 == 0:\n",
    "            #    print('=v',end='')\n",
    "\n",
    "        epoch_val_loss = total_val_loss / steps_per_epoch_val\n",
    "        epoch_val_accuracy = val_acc_metric.result()\n",
    "        print('Epoch {} - Validation Loss {:.4f} Validation Accuracy {:.4f}'.format(epoch + 1,\n",
    "                                                                                           epoch_val_loss, \n",
    "                                                                                           epoch_val_accuracy))\n",
    "        val_acc_metric.reset_states()\n",
    "        #print('')\n",
    "        #print('Epoch {} Validation Loss {:.4f}'.format(epoch + 1,epoch_val_loss),end=' ')\n",
    "        #print('Epoch {} Validation Accuracy {:.4f}'.format(epoch + 1,epoch_val_accuracy))\n",
    "        \n",
    "        \n",
    "        history_answer_model['loss'].append(epoch_training_loss)\n",
    "        history_answer_model['categorical_accuracy'].append(epoch_training_accuracy)\n",
    "        history_answer_model['val_loss'].append(epoch_val_loss)\n",
    "        history_answer_model['val_categorical_accuracy'].append(epoch_val_accuracy)\n",
    "        \n",
    "        #Save only the best model\n",
    "        if epoch_val_accuracy >= max_answer_val_accuracy:\n",
    "            max_answer_val_accuracy = epoch_val_accuracy\n",
    "            answer_model.save_weights('models/'+ ExperimentNo+'span2_model_answer_model.h5')\n",
    "            encoder_model.save_weights('models/'+ ExperimentNo+'span2_model_encoder_model.h5')\n",
    "            print('Best Epoch so far! Epoch No {}'.format(epoch + 1))\n",
    "        \n",
    "        print('Time taken for epoch {} sec\\n'.format(time.time() - start))\n",
    "        #tqdm.write('Time taken for epoch {} sec\\n'.format(time.time() - start))\n",
    "        \n",
    "    #answer_model.save_weights('models/'+ ExperimentNo+'span2_model_answer_model.h5')\n",
    "    #encoder_model.save_weights('models/'+ ExperimentNo+'span2_model_encoder_model.h5')\n",
    "    with open('models/'+ ExperimentNo+'span2_model_'+'history_answer_model', 'wb') as file_history:\n",
    "        pickle.dump(history_answer_model, file_history)\n",
    "        \n",
    "    \n",
    "    #Train the Feasibility Model\n",
    "    #load the best encoder model weights\n",
    "    encoder_model.load_weights('models/'+ ExperimentNo+'span2_model_encoder_model.h5')\n",
    "    #Create batches for training including where answer is impossible\n",
    "    \n",
    "    TRAIN_BUFFER_SIZE = train_context_padded_seq[:num_training_samples].shape[0]\n",
    "    VAL_BUFFER_SIZE = val_context_padded_seq[:num_validation_samples].shape[0]\n",
    "    steps_per_epoch = TRAIN_BUFFER_SIZE//batch_size\n",
    "    steps_per_epoch_val = VAL_BUFFER_SIZE//batch_size\n",
    "    train_dataset = tf.data.Dataset.from_tensor_slices((train_context_padded_seq[:num_training_samples],\n",
    "                                                        train_question_seq_padded[:num_training_samples],\n",
    "                                                        train_answer_seq_padded[:num_training_samples],\n",
    "                                                        train_answer_input_seq_padded[:num_training_samples],\n",
    "                                                        train_answer_target_seq_padded[:num_training_samples],\n",
    "                                                        train_answer_impossible[:num_training_samples],\n",
    "                                                        train_answer_start_seq_padded[:num_training_samples],\n",
    "                                                        train_answer_end_seq_padded[:num_training_samples]\n",
    "                                                       ))\\\n",
    "                                   .shuffle(TRAIN_BUFFER_SIZE,reshuffle_each_iteration=True)\n",
    "    train_dataset = train_dataset.batch(batch_size, drop_remainder=True)\n",
    "\n",
    "    val_dataset = tf.data.Dataset.from_tensor_slices((val_context_padded_seq[:num_validation_samples],\n",
    "                                                      val_question_seq_padded[:num_validation_samples],\n",
    "                                                      val_answer_seq_padded[:num_validation_samples],\n",
    "                                                      val_answer_input_seq_padded[:num_validation_samples],\n",
    "                                                      val_answer_target_seq_padded[:num_validation_samples],\n",
    "                                                      val_answer_impossible[:num_validation_samples],\n",
    "                                                      val_answer_start_seq_padded[:num_validation_samples],\n",
    "                                                      val_answer_end_seq_padded[:num_validation_samples]\n",
    "                                                     ))\n",
    "    val_dataset = val_dataset.batch(batch_size,drop_remainder=True)\n",
    "    \n",
    "    feasibility_optimizer = tf.keras.optimizers.Adam(learning_rate=learning_rate)\n",
    "    feasibility_loss_object = tf.keras.losses.BinaryCrossentropy(reduction='none')\n",
    "    feasibility_train_acc_metric = tf.keras.metrics.BinaryAccuracy()\n",
    "    feasibility_val_acc_metric = tf.keras.metrics.BinaryAccuracy()\n",
    "    @tf.function\n",
    "    def feasibility_loss_function(y_true,y_pred):\n",
    "        \n",
    "        loss = feasibility_loss_object(y_true,y_pred)\n",
    "        return tf.reduce_mean(loss)\n",
    "\n",
    "    @tf.function\n",
    "    def feasibility_train_step(inp,ques,feasibility_true,encoder_model,answer_model,feasibility_model):\n",
    "        loss = 0\n",
    "        batch_loss = 0\n",
    "        question_output,context_output = encoder_model(inp,ques)\n",
    "        #start_logits,end_logits = answer_model(question_output,context_output)        \n",
    "        with tf.GradientTape() as tape:            \n",
    "            feasibility_pred = feasibility_model([question_output,\n",
    "                                                  context_output])\n",
    "            loss += feasibility_loss_function(feasibility_true,feasibility_pred)\n",
    "            batch_loss = loss\n",
    "            feasibility_train_acc_metric(feasibility_true,feasibility_pred)\n",
    "            variables = feasibility_model.trainable_variables\n",
    "            gradients = tape.gradient(loss, variables)\n",
    "            feasibility_optimizer.apply_gradients(zip(gradients, variables))\n",
    "        return batch_loss\n",
    "\n",
    "    @tf.function\n",
    "    def feasibility_val_step(inp,ques,feasibility_true,encoder_model,answer_model,feasibility_model):\n",
    "        loss = 0\n",
    "        question_output,context_output = encoder_model(inp,ques)\n",
    "        #start_logits,end_logits = answer_model(question_output,context_output)         \n",
    "        feasibility_pred = feasibility_model([question_output,\n",
    "                                              context_output])\n",
    "        loss += feasibility_loss_function(feasibility_true,feasibility_pred)\n",
    "        batch_loss = loss\n",
    "        feasibility_val_acc_metric(feasibility_true,feasibility_pred)\n",
    "        return batch_loss\n",
    "    #Run Epochs\n",
    "    \n",
    "    history_feasibility_model = {'loss':[],\n",
    "                            'binary_accuracy':[],\n",
    "                            'val_loss':[],\n",
    "                            'val_binary_accuracy':[]}\n",
    "    print(\"Training the Feasibility model:\")\n",
    "    #tqdm.write(\"\\nTraining the Feasibility model:\")\n",
    "    #Value to store best validation accuracy\n",
    "    max_feasibility_val_accuracy = 0\n",
    "    for epoch in range(num_epochs):\n",
    "        start = time.time()\n",
    "\n",
    "        total_loss = 0\n",
    "        total_val_loss = 0\n",
    "        #tqdm.write('Epoch {}/{}'.format(epoch + 1, num_epochs))\n",
    "        print('Epoch {}/{}'.format(epoch + 1, num_epochs))\n",
    "        for (batch, (batch_train_context_padded_seq,\n",
    "                     batch_train_question_seq_padded,\n",
    "                     batch_train_answer_seq_padded,\n",
    "                     batch_train_answer_input_seq_padded,\n",
    "                     batch_train_answer_target_seq_padded,\n",
    "                     batch_train_answer_impossible,\n",
    "                     batch_train_answer_start_seq_padded,\n",
    "                     batch_train_answer_end_seq_padded)) in tqdm(enumerate(train_dataset.take(steps_per_epoch)),\n",
    "                                                             total = num_training_samples//batch_size,\n",
    "                                                             desc=\"[Training Feasibility]\"):\n",
    "            batch_loss = feasibility_train_step(batch_train_context_padded_seq,\n",
    "                                                batch_train_question_seq_padded,\n",
    "                                                batch_train_answer_impossible,\n",
    "                                                encoder_model,\n",
    "                                                answer_model,\n",
    "                                                feasibility_model)\n",
    "            total_loss += batch_loss\n",
    "            #if batch % 50 == 0:\n",
    "            #    print('=t',end='')\n",
    "\n",
    "        epoch_training_loss = total_loss / steps_per_epoch\n",
    "        epoch_training_accuracy = feasibility_train_acc_metric.result()\n",
    "        print('Epoch {} - Train Loss {:.4f} Train Accuracy {:.4f}'.format(epoch + 1,\n",
    "                                                                                 epoch_training_loss, \n",
    "                                                                                 epoch_training_accuracy))\n",
    "        feasibility_train_acc_metric.reset_states()\n",
    "        #print('')\n",
    "        #print('Epoch {} Train Loss {:.4f}'.format(epoch + 1,epoch_training_loss),end=' ')\n",
    "        #print('Epoch {} Train Accuracy {:.4f}'.format(epoch + 1,epoch_training_accuracy))\n",
    "        \n",
    "        \n",
    "        for (batch, (batch_val_context_padded_seq,\n",
    "                     batch_val_question_seq_padded,\n",
    "                     batch_val_answer_seq_padded,\n",
    "                     batch_val_answer_input_seq_padded,\n",
    "                     batch_val_answer_target_seq_padded,\n",
    "                     batch_val_answer_impossible,\n",
    "                     batch_val_answer_start_seq_padded,\n",
    "                     batch_val_answer_end_seq_padded)) in tqdm(enumerate(val_dataset.take(steps_per_epoch_val)),\n",
    "                                                           total = num_validation_samples//batch_size,\n",
    "                                                           desc=\"[Validating Feasibility]\"):\n",
    "            batch_loss = feasibility_val_step(batch_val_context_padded_seq,\n",
    "                                              batch_val_question_seq_padded,\n",
    "                                              batch_val_answer_impossible,\n",
    "                                              encoder_model,\n",
    "                                              answer_model,\n",
    "                                              feasibility_model)\n",
    "            total_val_loss += batch_loss\n",
    "            #if batch % 50 == 0:\n",
    "            #    print('=v',end='')\n",
    "\n",
    "        epoch_val_loss = total_val_loss / steps_per_epoch_val\n",
    "        epoch_val_accuracy = feasibility_val_acc_metric.result()\n",
    "        print('Epoch {} - Validation Loss {:.4f} Validation Accuracy {:.4f}'.format(epoch + 1,\n",
    "                                                                                           epoch_val_loss, \n",
    "                                                                                           epoch_val_accuracy))\n",
    "        feasibility_val_acc_metric.reset_states()\n",
    "        #print('')\n",
    "        #print('Epoch {} Validation Loss {:.4f}'.format(epoch + 1,epoch_val_loss),end=' ')\n",
    "        #print('Epoch {} Validation Accuracy {:.4f}'.format(epoch + 1,epoch_val_accuracy))\n",
    "        \n",
    "        \n",
    "        history_feasibility_model['loss'].append(epoch_training_loss)\n",
    "        history_feasibility_model['binary_accuracy'].append(epoch_training_accuracy)\n",
    "        history_feasibility_model['val_loss'].append(epoch_val_loss)\n",
    "        history_feasibility_model['val_binary_accuracy'].append(epoch_val_accuracy)\n",
    "        \n",
    "        #Save only the best model\n",
    "        if epoch_val_accuracy >= max_feasibility_val_accuracy:\n",
    "            max_feasibility_val_accuracy = epoch_val_accuracy\n",
    "            feasibility_model.save('models/'+ ExperimentNo+'span2_model_feasibility_model.h5')\n",
    "            print('Best Epoch so far! Epoch No {}'.format(epoch + 1))\n",
    "        print('Time taken for epoch {} sec\\n'.format(time.time() - start))\n",
    "        #tqdm.write('\\nTime taken for epoch {} sec'.format(time.time() - start))\n",
    "    \n",
    "    #feasibility_model.save(ExperimentNo+'span2_model_feasibility_model.h5')\n",
    "    with open('models/'+ ExperimentNo+'span2_model_'+'history_feasibility_model', 'wb') as file_history:\n",
    "        pickle.dump(history_feasibility_model, file_history)\n",
    "    \n",
    "    \"\"\"\n",
    "        \n",
    "    train_question_output,\\\n",
    "    train_context_output = encoder_model(train_context_padded_seq[:num_training_samples],\n",
    "                                         train_question_seq_padded[:num_training_samples])\n",
    "    \n",
    "    train_start_logits,train_end_logits = answer_model(train_question_output,train_context_output)\n",
    "    \n",
    "    val_question_output,\\\n",
    "    val_context_output = encoder_model(val_context_padded_seq[:num_validation_samples],\n",
    "                                                           val_question_seq_padded[:num_validation_samples])\n",
    "    \n",
    "    val_start_logits,val_end_logits = answer_model(val_question_output,val_context_output)\n",
    "    \n",
    "    \n",
    "    print(\"training the feasibility model\")\n",
    "    history_feasibility_model = feasibility_model.fit([train_question_output,\n",
    "                                                       train_context_output,\n",
    "                                                       train_start_logits,\n",
    "                                                       train_end_logits],\n",
    "                                                      train_answer_impossible[:num_training_samples],\n",
    "                                                      epochs=num_epochs,\n",
    "                                                      batch_size=batch_size,\n",
    "                                                      validation_data = \n",
    "                                                            ([val_question_output,\n",
    "                                                              val_context_output,\n",
    "                                                              val_start_logits,\n",
    "                                                              val_end_logits],\n",
    "                                                             val_answer_impossible[:num_validation_samples])\n",
    "                                                      )\n",
    "\n",
    "\n",
    "\n",
    "    feasibility_model.save(ExperimentNo+'span2_model_feasibility_model.h5')\n",
    "    with open(ExperimentNo+'span2_model_'+'history_feasibility_model', 'wb') as file_history:\n",
    "        pickle.dump(history_feasibility_model.history, file_history)\n",
    "    \"\"\"\n",
    "    "
   ]
  },
  {
   "cell_type": "code",
   "execution_count": 12,
   "metadata": {},
   "outputs": [],
   "source": [
    "def create_inference_model(Experiment_Dic,\n",
    "                           Experiment_No,\n",
    "                           embedding_matrix,\n",
    "                           ndim = 100):\n",
    "    ExperimentNo = 'Experiment'+str(Experiment_No)\n",
    "    num_unit_gru = Experiment_Dic[ExperimentNo]['num_unit_gru']\n",
    "    num_layers_gru = Experiment_Dic[ExperimentNo]['num_layers_gru']\n",
    "    num_episodes = Experiment_Dic[ExperimentNo]['num_episodes']\n",
    "    num_dense_layer_feasibility_units = Experiment_Dic[ExperimentNo]['num_dense_layer_feasibility_units']\n",
    "    dropout_rate = Experiment_Dic[ExperimentNo]['dropout_rate']\n",
    "    num_dense_layers_feasibility = Experiment_Dic[ExperimentNo]['num_dense_layers_feasibility']\n",
    "    num_episodic_network_unit = Experiment_Dic[ExperimentNo]['num_episodic_network_unit']\n",
    "    learning_rate = Experiment_Dic[ExperimentNo]['learning_rate']\n",
    "    l1_regularizer_weight = Experiment_Dic[ExperimentNo]['l1_regularizer_weight']\n",
    "    l2_regularizer_weight = Experiment_Dic[ExperimentNo]['l2_regularizer_weight']\n",
    "    inference_answer_model,\\\n",
    "    inference_encoder_model,\\\n",
    "    inference_feasibility_model = create_models(\n",
    "                                          embedding_matrix = embedding_matrix,\n",
    "                                          max_context_length = context_maxlen,\n",
    "                                          max_question_length = question_maxlen,\n",
    "                                          max_answer_length = answer_maxlen,\n",
    "                                          num_unit_gru = num_unit_gru,\n",
    "                                          num_layers_gru = num_layers_gru,\n",
    "                                          ndim =ndim,\n",
    "                                          num_episodes = num_episodes,\n",
    "                                          num_dense_layer_feasibility_units = num_dense_layer_feasibility_units,\n",
    "                                          dropout_rate = dropout_rate,\n",
    "                                          num_dense_layers_feasibility = num_dense_layers_feasibility,\n",
    "                                          num_episodic_network_unit = num_episodic_network_unit,\n",
    "                                          l1_regularizer_weight = l1_regularizer_weight,\n",
    "                                          l2_regularizer_weight = l2_regularizer_weight )\n",
    "\n",
    "    # train on 1 row so that weights can be loaded \n",
    "    #Train the Answer Model and Encoder Model\n",
    "    inference_answer_optimizer = tf.keras.optimizers.Adam(learning_rate=learning_rate)\n",
    "    inference_answer_loss_object = tf.keras.losses.CategoricalCrossentropy(from_logits=True, \n",
    "                                                                           reduction='none')\n",
    "    @tf.function\n",
    "    def inference_answer_loss_function(real_start, real_end,pred_start,pred_end):\n",
    "        \n",
    "        start_loss = inference_answer_loss_object(real_start,pred_start)\n",
    "        end_loss = inference_answer_loss_object(real_end,pred_end)\n",
    "        return tf.reduce_mean(start_loss+end_loss)\n",
    "\n",
    "    @tf.function\n",
    "    def inference_answer_train_step(inp,ques,targ_start,targ_end,encoder_model,answer_model):\n",
    "        loss = 0\n",
    "        with tf.GradientTape() as tape:\n",
    "            question_output,context_output = encoder_model(inp,ques)\n",
    "            start_logits,end_logits = answer_model(question_output,context_output)\n",
    "            loss += inference_answer_loss_function(targ_start,targ_end,start_logits,end_logits)\n",
    "            batch_loss = loss/inp.shape[0]\n",
    "            #train_acc_metric(targ_start,start_logits)\n",
    "            #train_acc_metric(targ_end,end_logits)\n",
    "            variables = encoder_model.trainable_variables + answer_model.trainable_variables\n",
    "            gradients = tape.gradient(loss, variables)\n",
    "            inference_answer_optimizer.apply_gradients(zip(gradients, variables))\n",
    "            return batch_loss\n",
    "\n",
    "        \n",
    "        \n",
    "    \n",
    "    \n",
    "    inference_answer_train_step(train_context_padded_seq[:1],\n",
    "                              train_question_seq_padded[:1],\n",
    "                              train_answer_start_seq_padded[:1],\n",
    "                              train_answer_end_seq_padded[:1],\n",
    "                              inference_encoder_model,\n",
    "                              inference_answer_model)\n",
    "        \n",
    "    inference_answer_model.load_weights('models/'+ ExperimentNo+'span2_model_answer_model.h5')\n",
    "    inference_encoder_model.load_weights('models/'+ ExperimentNo+'span2_model_encoder_model.h5')\n",
    "    inference_feasibility_model.load_weights('models/'+ ExperimentNo+'span2_model_feasibility_model.h5')\n",
    "    return (inference_answer_model,inference_encoder_model,inference_feasibility_model)"
   ]
  },
  {
   "cell_type": "code",
   "execution_count": 13,
   "metadata": {},
   "outputs": [],
   "source": [
    "def run_experiments_feasibility(Experiment_Dic,\n",
    "                    Experiment_No,\n",
    "                    embedding_matrix,\n",
    "                    ndim = 100,\n",
    "                    tpu_enabled=0,\n",
    "                    num_training_samples=1024,\n",
    "                    num_validation_samples = 256,\n",
    "                    num_epochs = 50,\n",
    "                    batch_size = 10):\n",
    "    num_training_samples = int((num_training_samples//128)*128)\n",
    "    num_validation_samples = int((num_validation_samples//128)*128)\n",
    "    #get the experiment details\n",
    "    ExperimentNo = 'Experiment'+str(Experiment_No)\n",
    "    print(\"Running \",ExperimentNo)\n",
    "    num_unit_gru = Experiment_Dic[ExperimentNo]['num_unit_gru']\n",
    "    num_layers_gru = Experiment_Dic[ExperimentNo]['num_layers_gru']\n",
    "    num_episodes = Experiment_Dic[ExperimentNo]['num_episodes']\n",
    "    num_dense_layer_feasibility_units = Experiment_Dic[ExperimentNo]['num_dense_layer_feasibility_units']\n",
    "    dropout_rate = Experiment_Dic[ExperimentNo]['dropout_rate']\n",
    "    num_dense_layers_feasibility = Experiment_Dic[ExperimentNo]['num_dense_layers_feasibility']\n",
    "    num_episodic_network_unit = Experiment_Dic[ExperimentNo]['num_episodic_network_unit']\n",
    "    learning_rate = Experiment_Dic[ExperimentNo]['learning_rate']\n",
    "    l1_regularizer_weight = Experiment_Dic[ExperimentNo]['l1_regularizer_weight']\n",
    "    l2_regularizer_weight = Experiment_Dic[ExperimentNo]['l2_regularizer_weight']\n",
    "        \n",
    "    if tpu_enabled==0:\n",
    "        #When GPU ENABLED\n",
    "        answer_model,\\\n",
    "        encoder_model,\\\n",
    "        feasibility_model = create_models(\n",
    "                                      embedding_matrix = embedding_matrix,\n",
    "                                      max_context_length = context_maxlen,\n",
    "                                      max_question_length = question_maxlen,\n",
    "                                      max_answer_length = answer_maxlen,\n",
    "                                      num_unit_gru = num_unit_gru,\n",
    "                                      num_layers_gru = num_layers_gru,\n",
    "                                      ndim =ndim,\n",
    "                                      num_episodes = num_episodes,\n",
    "                                      num_dense_layer_feasibility_units = num_dense_layer_feasibility_units,\n",
    "                                      dropout_rate = dropout_rate,\n",
    "                                      num_dense_layers_feasibility = num_dense_layers_feasibility,\n",
    "                                      num_episodic_network_unit = num_episodic_network_unit,\n",
    "                                      l1_regularizer_weight = l1_regularizer_weight,\n",
    "                                      l2_regularizer_weight = l2_regularizer_weight)\n",
    "        \n",
    "        #load the encoder model weights\n",
    "        _,_ = encoder_model(train_context_padded_seq[:batch_size],\n",
    "                            train_question_seq_padded[:batch_size])\n",
    "        encoder_model.load_weights('models/'+ ExperimentNo+'span2_model_encoder_model.h5')\n",
    "\n",
    "    else: \n",
    "        resolver = tf.distribute.cluster_resolver.TPUClusterResolver(tpu='grpc://' +\n",
    "                                                                     os.environ['COLAB_TPU_ADDR'])\n",
    "        tf.config.experimental_connect_to_cluster(resolver)\n",
    "        tf.tpu.experimental.initialize_tpu_system(resolver)\n",
    "        strategy = tf.distribute.experimental.TPUStrategy(resolver)\n",
    "        batch_size = 128*8\n",
    "        with strategy.scope():\n",
    "            answer_model,\\\n",
    "            encoder_model,\\\n",
    "            feasibility_model = create_models(\n",
    "                                          embedding_matrix = embedding_matrix,\n",
    "                                          max_context_length = context_maxlen,\n",
    "                                          max_question_length = question_maxlen,\n",
    "                                          max_answer_length = answer_maxlen,\n",
    "                                          num_unit_gru = num_unit_gru,\n",
    "                                          num_layers_gru = num_layers_gru,\n",
    "                                          ndim =ndim,\n",
    "                                          num_episodes = num_episodes,\n",
    "                                          num_dense_layer_feasibility_units = \n",
    "                                                        num_dense_layer_feasibility_units,\n",
    "                                          dropout_rate = dropout_rate,\n",
    "                                          num_dense_layers_feasibility = num_dense_layers_feasibility,\n",
    "                                          num_episodic_network_unit = num_episodic_network_unit,\n",
    "                                         l1_regularizer_weight = l1_regularizer_weight,\n",
    "                                         l2_regularizer_weight = l2_regularizer_weight)\n",
    "            \n",
    "            #load the encoder model weights\n",
    "            _,_ = encoder_model(train_context_padded_seq[:batch_size],\n",
    "                                train_question_seq_padded[:batch_size])\n",
    "            encoder_model.load_weights('models/'+ ExperimentNo+'span2_model_encoder_model.h5')\n",
    "        \n",
    "    TRAIN_BUFFER_SIZE = train_context_padded_seq[:num_training_samples].shape[0]\n",
    "    VAL_BUFFER_SIZE = val_context_padded_seq[:num_validation_samples].shape[0]\n",
    "    steps_per_epoch = TRAIN_BUFFER_SIZE//batch_size\n",
    "    steps_per_epoch_val = VAL_BUFFER_SIZE//batch_size\n",
    "    train_dataset = tf.data.Dataset.from_tensor_slices((train_context_padded_seq[:num_training_samples],\n",
    "                                                        train_question_seq_padded[:num_training_samples],\n",
    "                                                        train_answer_seq_padded[:num_training_samples],\n",
    "                                                        train_answer_input_seq_padded[:num_training_samples],\n",
    "                                                        train_answer_target_seq_padded[:num_training_samples],\n",
    "                                                        train_answer_impossible[:num_training_samples],\n",
    "                                                        train_answer_start_seq_padded[:num_training_samples],\n",
    "                                                        train_answer_end_seq_padded[:num_training_samples]\n",
    "                                                       ))\\\n",
    "                                   .shuffle(TRAIN_BUFFER_SIZE,reshuffle_each_iteration=True)\n",
    "    train_dataset = train_dataset.batch(batch_size, drop_remainder=True)\n",
    "\n",
    "    val_dataset = tf.data.Dataset.from_tensor_slices((val_context_padded_seq[:num_validation_samples],\n",
    "                                                      val_question_seq_padded[:num_validation_samples],\n",
    "                                                      val_answer_seq_padded[:num_validation_samples],\n",
    "                                                      val_answer_input_seq_padded[:num_validation_samples],\n",
    "                                                      val_answer_target_seq_padded[:num_validation_samples],\n",
    "                                                      val_answer_impossible[:num_validation_samples],\n",
    "                                                      val_answer_start_seq_padded[:num_validation_samples],\n",
    "                                                      val_answer_end_seq_padded[:num_validation_samples]\n",
    "                                                     ))\n",
    "    val_dataset = val_dataset.batch(batch_size,drop_remainder=True)\n",
    "    \n",
    "    feasibility_optimizer = tf.keras.optimizers.Adam(learning_rate=learning_rate)\n",
    "    feasibility_loss_object = tf.keras.losses.BinaryCrossentropy(reduction='none')\n",
    "    feasibility_train_acc_metric = tf.keras.metrics.BinaryAccuracy()\n",
    "    feasibility_val_acc_metric = tf.keras.metrics.BinaryAccuracy()\n",
    "    @tf.function\n",
    "    def feasibility_loss_function(y_true,y_pred):\n",
    "        \n",
    "        loss = feasibility_loss_object(y_true,y_pred)\n",
    "        return tf.reduce_mean(loss)\n",
    "\n",
    "    @tf.function\n",
    "    def feasibility_train_step(inp,ques,feasibility_true,encoder_model,answer_model,feasibility_model):\n",
    "        loss = 0\n",
    "        batch_loss = 0\n",
    "        question_output,context_output = encoder_model(inp,ques)\n",
    "        #start_logits,end_logits = answer_model(question_output,context_output)        \n",
    "        with tf.GradientTape() as tape:            \n",
    "            feasibility_pred = feasibility_model([question_output,\n",
    "                                                  context_output])\n",
    "            loss += feasibility_loss_function(feasibility_true,feasibility_pred)\n",
    "            batch_loss = loss\n",
    "            feasibility_train_acc_metric(feasibility_true,feasibility_pred)\n",
    "            variables = feasibility_model.trainable_variables\n",
    "            gradients = tape.gradient(loss, variables)\n",
    "            feasibility_optimizer.apply_gradients(zip(gradients, variables))\n",
    "        return batch_loss\n",
    "\n",
    "    @tf.function\n",
    "    def feasibility_val_step(inp,ques,feasibility_true,encoder_model,answer_model,feasibility_model):\n",
    "        loss = 0\n",
    "        question_output,context_output = encoder_model(inp,ques)\n",
    "        #start_logits,end_logits = answer_model(question_output,context_output)         \n",
    "        feasibility_pred = feasibility_model([question_output,\n",
    "                                              context_output])\n",
    "        loss += feasibility_loss_function(feasibility_true,feasibility_pred)\n",
    "        batch_loss = loss\n",
    "        feasibility_val_acc_metric(feasibility_true,feasibility_pred)\n",
    "        return batch_loss\n",
    "    #Run Epochs\n",
    "    \n",
    "    history_feasibility_model = {'loss':[],\n",
    "                            'binary_accuracy':[],\n",
    "                            'val_loss':[],\n",
    "                            'val_binary_accuracy':[]}\n",
    "    print(\"Training the Feasibility model:\")\n",
    "    #tqdm.write(\"\\nTraining the Feasibility model:\")\n",
    "    #Value to store best validation accuracy\n",
    "    max_feasibility_val_accuracy = 0\n",
    "    for epoch in range(num_epochs):\n",
    "        start = time.time()\n",
    "\n",
    "        total_loss = 0\n",
    "        total_val_loss = 0\n",
    "        #tqdm.write('Epoch {}/{}'.format(epoch + 1, num_epochs))\n",
    "        print('Epoch {}/{}'.format(epoch + 1, num_epochs))\n",
    "        for (batch, (batch_train_context_padded_seq,\n",
    "                     batch_train_question_seq_padded,\n",
    "                     batch_train_answer_seq_padded,\n",
    "                     batch_train_answer_input_seq_padded,\n",
    "                     batch_train_answer_target_seq_padded,\n",
    "                     batch_train_answer_impossible,\n",
    "                     batch_train_answer_start_seq_padded,\n",
    "                     batch_train_answer_end_seq_padded)) in tqdm(enumerate(train_dataset.take(steps_per_epoch)),\n",
    "                                                             total = num_training_samples//batch_size,\n",
    "                                                             desc=\"[Training Feasibility]\"):\n",
    "            batch_loss = feasibility_train_step(batch_train_context_padded_seq,\n",
    "                                                batch_train_question_seq_padded,\n",
    "                                                batch_train_answer_impossible,\n",
    "                                                encoder_model,\n",
    "                                                answer_model,\n",
    "                                                feasibility_model)\n",
    "            total_loss += batch_loss\n",
    "            #if batch % 50 == 0:\n",
    "            #    print('=t',end='')\n",
    "\n",
    "        epoch_training_loss = total_loss / steps_per_epoch\n",
    "        epoch_training_accuracy = feasibility_train_acc_metric.result()\n",
    "        print('Epoch {} - Train Loss {:.4f} Train Accuracy {:.4f}'.format(epoch + 1,\n",
    "                                                                                 epoch_training_loss, \n",
    "                                                                                 epoch_training_accuracy))\n",
    "        feasibility_train_acc_metric.reset_states()\n",
    "        #print('')\n",
    "        #print('Epoch {} Train Loss {:.4f}'.format(epoch + 1,epoch_training_loss),end=' ')\n",
    "        #print('Epoch {} Train Accuracy {:.4f}'.format(epoch + 1,epoch_training_accuracy))\n",
    "        \n",
    "        \n",
    "        for (batch, (batch_val_context_padded_seq,\n",
    "                     batch_val_question_seq_padded,\n",
    "                     batch_val_answer_seq_padded,\n",
    "                     batch_val_answer_input_seq_padded,\n",
    "                     batch_val_answer_target_seq_padded,\n",
    "                     batch_val_answer_impossible,\n",
    "                     batch_val_answer_start_seq_padded,\n",
    "                     batch_val_answer_end_seq_padded)) in tqdm(enumerate(val_dataset.take(steps_per_epoch_val)),\n",
    "                                                           total = num_validation_samples//batch_size,\n",
    "                                                           desc=\"[Validating Feasibility]\"):\n",
    "            batch_loss = feasibility_val_step(batch_val_context_padded_seq,\n",
    "                                              batch_val_question_seq_padded,\n",
    "                                              batch_val_answer_impossible,\n",
    "                                              encoder_model,\n",
    "                                              answer_model,\n",
    "                                              feasibility_model)\n",
    "            total_val_loss += batch_loss\n",
    "            #if batch % 50 == 0:\n",
    "            #    print('=v',end='')\n",
    "\n",
    "        epoch_val_loss = total_val_loss / steps_per_epoch_val\n",
    "        epoch_val_accuracy = feasibility_val_acc_metric.result()\n",
    "        print('Epoch {} - Validation Loss {:.4f} Validation Accuracy {:.4f}'.format(epoch + 1,\n",
    "                                                                                           epoch_val_loss, \n",
    "                                                                                           epoch_val_accuracy))\n",
    "        feasibility_val_acc_metric.reset_states()\n",
    "        #print('')\n",
    "        #print('Epoch {} Validation Loss {:.4f}'.format(epoch + 1,epoch_val_loss),end=' ')\n",
    "        #print('Epoch {} Validation Accuracy {:.4f}'.format(epoch + 1,epoch_val_accuracy))\n",
    "        \n",
    "        \n",
    "        history_feasibility_model['loss'].append(epoch_training_loss)\n",
    "        history_feasibility_model['binary_accuracy'].append(epoch_training_accuracy)\n",
    "        history_feasibility_model['val_loss'].append(epoch_val_loss)\n",
    "        history_feasibility_model['val_binary_accuracy'].append(epoch_val_accuracy)\n",
    "        \n",
    "        #Save only the best model\n",
    "        if epoch_val_accuracy >= max_feasibility_val_accuracy:\n",
    "            max_feasibility_val_accuracy = epoch_val_accuracy\n",
    "            feasibility_model.save('models/'+ ExperimentNo+'span2_model_feasibility_model.h5')\n",
    "            print('Best Epoch so far! Epoch No {}'.format(epoch + 1))\n",
    "        with open('models/'+ ExperimentNo+'span2_model_'+'history_feasibility_model', 'wb') as file_history:\n",
    "          pickle.dump(history_feasibility_model, file_history)\n",
    "        print('Time taken for epoch {} sec\\n'.format(time.time() - start))\n",
    "        #tqdm.write('\\nTime taken for epoch {} sec'.format(time.time() - start))\n",
    "    \n",
    "    #feasibility_model.save(ExperimentNo+'span2_model_feasibility_model.h5')\n",
    "    with open('models/'+ ExperimentNo+'span2_model_'+'history_feasibility_model', 'wb') as file_history:\n",
    "        pickle.dump(history_feasibility_model, file_history)"
   ]
  },
  {
   "cell_type": "code",
   "execution_count": 15,
   "metadata": {
    "scrolled": false
   },
   "outputs": [
    {
     "name": "stdout",
     "output_type": "stream",
     "text": [
      "Running  Experiment5\n"
     ]
    },
    {
     "name": "stderr",
     "output_type": "stream",
     "text": [
      "\r",
      "[Training Feasibility]:   0%|          | 0/480 [00:00<?, ?it/s]"
     ]
    },
    {
     "name": "stdout",
     "output_type": "stream",
     "text": [
      "Training the Feasibility model:\n",
      "Epoch 1/25\n"
     ]
    },
    {
     "name": "stderr",
     "output_type": "stream",
     "text": [
      "[Training Feasibility]: 100%|██████████| 480/480 [11:43<00:00,  1.46s/it]\n",
      "[Validating Feasibility]:   0%|          | 0/48 [00:00<?, ?it/s]"
     ]
    },
    {
     "name": "stdout",
     "output_type": "stream",
     "text": [
      "Epoch 1 - Train Loss 0.6504 Train Accuracy 0.6630\n"
     ]
    },
    {
     "name": "stderr",
     "output_type": "stream",
     "text": [
      "[Validating Feasibility]: 100%|██████████| 48/48 [00:59<00:00,  1.23s/it]\n",
      "[Training Feasibility]:   0%|          | 0/480 [00:00<?, ?it/s]"
     ]
    },
    {
     "name": "stdout",
     "output_type": "stream",
     "text": [
      "Epoch 1 - Validation Loss 0.6396 Validation Accuracy 0.6613\n",
      "Best Epoch so far! Epoch No 1\n",
      "Time taken for epoch 762.5500700473785 sec\n",
      "\n",
      "Epoch 2/25\n"
     ]
    },
    {
     "name": "stderr",
     "output_type": "stream",
     "text": [
      "[Training Feasibility]: 100%|██████████| 480/480 [11:13<00:00,  1.40s/it]\n",
      "[Validating Feasibility]:   0%|          | 0/48 [00:00<?, ?it/s]"
     ]
    },
    {
     "name": "stdout",
     "output_type": "stream",
     "text": [
      "Epoch 2 - Train Loss 0.6365 Train Accuracy 0.6664\n"
     ]
    },
    {
     "name": "stderr",
     "output_type": "stream",
     "text": [
      "[Validating Feasibility]: 100%|██████████| 48/48 [00:53<00:00,  1.12s/it]\n",
      "[Training Feasibility]:   0%|          | 0/480 [00:00<?, ?it/s]"
     ]
    },
    {
     "name": "stdout",
     "output_type": "stream",
     "text": [
      "Epoch 2 - Validation Loss 0.6394 Validation Accuracy 0.6613\n",
      "Best Epoch so far! Epoch No 2\n",
      "Time taken for epoch 727.6108391284943 sec\n",
      "\n",
      "Epoch 3/25\n"
     ]
    },
    {
     "name": "stderr",
     "output_type": "stream",
     "text": [
      "[Training Feasibility]: 100%|██████████| 480/480 [10:47<00:00,  1.35s/it]\n",
      "[Validating Feasibility]:   0%|          | 0/48 [00:00<?, ?it/s]"
     ]
    },
    {
     "name": "stdout",
     "output_type": "stream",
     "text": [
      "Epoch 3 - Train Loss 0.6361 Train Accuracy 0.6664\n"
     ]
    },
    {
     "name": "stderr",
     "output_type": "stream",
     "text": [
      "[Validating Feasibility]: 100%|██████████| 48/48 [00:53<00:00,  1.11s/it]\n",
      "[Training Feasibility]:   0%|          | 0/480 [00:00<?, ?it/s]"
     ]
    },
    {
     "name": "stdout",
     "output_type": "stream",
     "text": [
      "Epoch 3 - Validation Loss 0.6385 Validation Accuracy 0.6613\n",
      "Best Epoch so far! Epoch No 3\n",
      "Time taken for epoch 701.4951679706573 sec\n",
      "\n",
      "Epoch 4/25\n"
     ]
    },
    {
     "name": "stderr",
     "output_type": "stream",
     "text": [
      "[Training Feasibility]: 100%|██████████| 480/480 [10:46<00:00,  1.35s/it]\n",
      "[Validating Feasibility]:   0%|          | 0/48 [00:00<?, ?it/s]"
     ]
    },
    {
     "name": "stdout",
     "output_type": "stream",
     "text": [
      "Epoch 4 - Train Loss 0.6355 Train Accuracy 0.6664\n"
     ]
    },
    {
     "name": "stderr",
     "output_type": "stream",
     "text": [
      "[Validating Feasibility]: 100%|██████████| 48/48 [00:53<00:00,  1.12s/it]\n",
      "[Training Feasibility]:   0%|          | 0/480 [00:00<?, ?it/s]"
     ]
    },
    {
     "name": "stdout",
     "output_type": "stream",
     "text": [
      "Epoch 4 - Validation Loss 0.6397 Validation Accuracy 0.6613\n",
      "Best Epoch so far! Epoch No 4\n",
      "Time taken for epoch 700.2242052555084 sec\n",
      "\n",
      "Epoch 5/25\n"
     ]
    },
    {
     "name": "stderr",
     "output_type": "stream",
     "text": [
      "[Training Feasibility]: 100%|██████████| 480/480 [10:46<00:00,  1.35s/it]\n",
      "[Validating Feasibility]:   0%|          | 0/48 [00:00<?, ?it/s]"
     ]
    },
    {
     "name": "stdout",
     "output_type": "stream",
     "text": [
      "Epoch 5 - Train Loss 0.6350 Train Accuracy 0.6664\n"
     ]
    },
    {
     "name": "stderr",
     "output_type": "stream",
     "text": [
      "[Validating Feasibility]: 100%|██████████| 48/48 [00:53<00:00,  1.12s/it]\n",
      "[Training Feasibility]:   0%|          | 0/480 [00:00<?, ?it/s]"
     ]
    },
    {
     "name": "stdout",
     "output_type": "stream",
     "text": [
      "Epoch 5 - Validation Loss 0.6380 Validation Accuracy 0.6613\n",
      "Best Epoch so far! Epoch No 5\n",
      "Time taken for epoch 700.851282119751 sec\n",
      "\n",
      "Epoch 6/25\n"
     ]
    },
    {
     "name": "stderr",
     "output_type": "stream",
     "text": [
      "[Training Feasibility]: 100%|██████████| 480/480 [10:47<00:00,  1.35s/it]\n",
      "[Validating Feasibility]:   0%|          | 0/48 [00:00<?, ?it/s]"
     ]
    },
    {
     "name": "stdout",
     "output_type": "stream",
     "text": [
      "Epoch 6 - Train Loss 0.6349 Train Accuracy 0.6664\n"
     ]
    },
    {
     "name": "stderr",
     "output_type": "stream",
     "text": [
      "[Validating Feasibility]: 100%|██████████| 48/48 [00:53<00:00,  1.12s/it]\n",
      "[Training Feasibility]:   0%|          | 0/480 [00:00<?, ?it/s]"
     ]
    },
    {
     "name": "stdout",
     "output_type": "stream",
     "text": [
      "Epoch 6 - Validation Loss 0.6388 Validation Accuracy 0.6613\n",
      "Best Epoch so far! Epoch No 6\n",
      "Time taken for epoch 701.5476241111755 sec\n",
      "\n",
      "Epoch 7/25\n"
     ]
    },
    {
     "name": "stderr",
     "output_type": "stream",
     "text": [
      "[Training Feasibility]: 100%|██████████| 480/480 [10:46<00:00,  1.35s/it]\n",
      "[Validating Feasibility]:   0%|          | 0/48 [00:00<?, ?it/s]"
     ]
    },
    {
     "name": "stdout",
     "output_type": "stream",
     "text": [
      "Epoch 7 - Train Loss 0.6343 Train Accuracy 0.6664\n"
     ]
    },
    {
     "name": "stderr",
     "output_type": "stream",
     "text": [
      "[Validating Feasibility]: 100%|██████████| 48/48 [00:53<00:00,  1.12s/it]\n",
      "[Training Feasibility]:   0%|          | 0/480 [00:00<?, ?it/s]"
     ]
    },
    {
     "name": "stdout",
     "output_type": "stream",
     "text": [
      "Epoch 7 - Validation Loss 0.6409 Validation Accuracy 0.6613\n",
      "Best Epoch so far! Epoch No 7\n",
      "Time taken for epoch 700.4226369857788 sec\n",
      "\n",
      "Epoch 8/25\n"
     ]
    },
    {
     "name": "stderr",
     "output_type": "stream",
     "text": [
      "[Training Feasibility]: 100%|██████████| 480/480 [10:46<00:00,  1.35s/it]\n",
      "[Validating Feasibility]:   0%|          | 0/48 [00:00<?, ?it/s]"
     ]
    },
    {
     "name": "stdout",
     "output_type": "stream",
     "text": [
      "Epoch 8 - Train Loss 0.6347 Train Accuracy 0.6664\n"
     ]
    },
    {
     "name": "stderr",
     "output_type": "stream",
     "text": [
      "[Validating Feasibility]: 100%|██████████| 48/48 [00:53<00:00,  1.11s/it]\n",
      "[Training Feasibility]:   0%|          | 0/480 [00:00<?, ?it/s]"
     ]
    },
    {
     "name": "stdout",
     "output_type": "stream",
     "text": [
      "Epoch 8 - Validation Loss 0.6389 Validation Accuracy 0.6613\n",
      "Best Epoch so far! Epoch No 8\n",
      "Time taken for epoch 700.0062668323517 sec\n",
      "\n",
      "Epoch 9/25\n"
     ]
    },
    {
     "name": "stderr",
     "output_type": "stream",
     "text": [
      "[Training Feasibility]: 100%|██████████| 480/480 [10:39<00:00,  1.33s/it]\n",
      "[Validating Feasibility]:   0%|          | 0/48 [00:00<?, ?it/s]"
     ]
    },
    {
     "name": "stdout",
     "output_type": "stream",
     "text": [
      "Epoch 9 - Train Loss 0.6341 Train Accuracy 0.6664\n"
     ]
    },
    {
     "name": "stderr",
     "output_type": "stream",
     "text": [
      "[Validating Feasibility]: 100%|██████████| 48/48 [00:52<00:00,  1.10s/it]\n",
      "[Training Feasibility]:   0%|          | 0/480 [00:00<?, ?it/s]"
     ]
    },
    {
     "name": "stdout",
     "output_type": "stream",
     "text": [
      "Epoch 9 - Validation Loss 0.6373 Validation Accuracy 0.6613\n",
      "Best Epoch so far! Epoch No 9\n",
      "Time taken for epoch 692.6861138343811 sec\n",
      "\n",
      "Epoch 10/25\n"
     ]
    },
    {
     "name": "stderr",
     "output_type": "stream",
     "text": [
      "[Training Feasibility]: 100%|██████████| 480/480 [10:39<00:00,  1.33s/it]\n",
      "[Validating Feasibility]:   0%|          | 0/48 [00:00<?, ?it/s]"
     ]
    },
    {
     "name": "stdout",
     "output_type": "stream",
     "text": [
      "Epoch 10 - Train Loss 0.6332 Train Accuracy 0.6664\n"
     ]
    },
    {
     "name": "stderr",
     "output_type": "stream",
     "text": [
      "[Validating Feasibility]: 100%|██████████| 48/48 [00:52<00:00,  1.10s/it]\n",
      "[Training Feasibility]:   0%|          | 0/480 [00:00<?, ?it/s]"
     ]
    },
    {
     "name": "stdout",
     "output_type": "stream",
     "text": [
      "Epoch 10 - Validation Loss 0.6368 Validation Accuracy 0.6613\n",
      "Best Epoch so far! Epoch No 10\n",
      "Time taken for epoch 692.3200440406799 sec\n",
      "\n",
      "Epoch 11/25\n"
     ]
    },
    {
     "name": "stderr",
     "output_type": "stream",
     "text": [
      "[Training Feasibility]: 100%|██████████| 480/480 [10:43<00:00,  1.34s/it]\n",
      "[Validating Feasibility]:   0%|          | 0/48 [00:00<?, ?it/s]"
     ]
    },
    {
     "name": "stdout",
     "output_type": "stream",
     "text": [
      "Epoch 11 - Train Loss 0.6327 Train Accuracy 0.6664\n"
     ]
    },
    {
     "name": "stderr",
     "output_type": "stream",
     "text": [
      "[Validating Feasibility]: 100%|██████████| 48/48 [00:52<00:00,  1.10s/it]\n",
      "[Training Feasibility]:   0%|          | 0/480 [00:00<?, ?it/s]"
     ]
    },
    {
     "name": "stdout",
     "output_type": "stream",
     "text": [
      "Epoch 11 - Validation Loss 0.6365 Validation Accuracy 0.6613\n",
      "Best Epoch so far! Epoch No 11\n",
      "Time taken for epoch 695.9702098369598 sec\n",
      "\n",
      "Epoch 12/25\n"
     ]
    },
    {
     "name": "stderr",
     "output_type": "stream",
     "text": [
      "[Training Feasibility]: 100%|██████████| 480/480 [10:33<00:00,  1.32s/it]\n",
      "[Validating Feasibility]:   0%|          | 0/48 [00:00<?, ?it/s]"
     ]
    },
    {
     "name": "stdout",
     "output_type": "stream",
     "text": [
      "Epoch 12 - Train Loss 0.6325 Train Accuracy 0.6664\n"
     ]
    },
    {
     "name": "stderr",
     "output_type": "stream",
     "text": [
      "[Validating Feasibility]: 100%|██████████| 48/48 [00:52<00:00,  1.10s/it]\n",
      "[Training Feasibility]:   0%|          | 0/480 [00:00<?, ?it/s]"
     ]
    },
    {
     "name": "stdout",
     "output_type": "stream",
     "text": [
      "Epoch 12 - Validation Loss 0.6362 Validation Accuracy 0.6613\n",
      "Best Epoch so far! Epoch No 12\n",
      "Time taken for epoch 686.1765999794006 sec\n",
      "\n",
      "Epoch 13/25\n"
     ]
    },
    {
     "name": "stderr",
     "output_type": "stream",
     "text": [
      "[Training Feasibility]: 100%|██████████| 480/480 [10:31<00:00,  1.32s/it]\n",
      "[Validating Feasibility]:   0%|          | 0/48 [00:00<?, ?it/s]"
     ]
    },
    {
     "name": "stdout",
     "output_type": "stream",
     "text": [
      "Epoch 13 - Train Loss 0.6321 Train Accuracy 0.6664\n"
     ]
    },
    {
     "name": "stderr",
     "output_type": "stream",
     "text": [
      "[Validating Feasibility]: 100%|██████████| 48/48 [00:52<00:00,  1.09s/it]\n",
      "[Training Feasibility]:   0%|          | 0/480 [00:00<?, ?it/s]"
     ]
    },
    {
     "name": "stdout",
     "output_type": "stream",
     "text": [
      "Epoch 13 - Validation Loss 0.6374 Validation Accuracy 0.6613\n",
      "Best Epoch so far! Epoch No 13\n",
      "Time taken for epoch 683.9182918071747 sec\n",
      "\n",
      "Epoch 14/25\n"
     ]
    },
    {
     "name": "stderr",
     "output_type": "stream",
     "text": [
      "[Training Feasibility]: 100%|██████████| 480/480 [10:36<00:00,  1.33s/it]\n",
      "[Validating Feasibility]:   0%|          | 0/48 [00:00<?, ?it/s]"
     ]
    },
    {
     "name": "stdout",
     "output_type": "stream",
     "text": [
      "Epoch 14 - Train Loss 0.6324 Train Accuracy 0.6664\n"
     ]
    },
    {
     "name": "stderr",
     "output_type": "stream",
     "text": [
      "[Validating Feasibility]: 100%|██████████| 48/48 [00:52<00:00,  1.09s/it]\n",
      "[Training Feasibility]:   0%|          | 0/480 [00:00<?, ?it/s]"
     ]
    },
    {
     "name": "stdout",
     "output_type": "stream",
     "text": [
      "Epoch 14 - Validation Loss 0.6364 Validation Accuracy 0.6613\n",
      "Best Epoch so far! Epoch No 14\n",
      "Time taken for epoch 688.899423122406 sec\n",
      "\n",
      "Epoch 15/25\n"
     ]
    },
    {
     "name": "stderr",
     "output_type": "stream",
     "text": [
      "[Training Feasibility]: 100%|██████████| 480/480 [10:34<00:00,  1.32s/it]\n",
      "[Validating Feasibility]:   0%|          | 0/48 [00:00<?, ?it/s]"
     ]
    },
    {
     "name": "stdout",
     "output_type": "stream",
     "text": [
      "Epoch 15 - Train Loss 0.6321 Train Accuracy 0.6664\n"
     ]
    },
    {
     "name": "stderr",
     "output_type": "stream",
     "text": [
      "[Validating Feasibility]: 100%|██████████| 48/48 [00:52<00:00,  1.09s/it]\n",
      "[Training Feasibility]:   0%|          | 0/480 [00:00<?, ?it/s]"
     ]
    },
    {
     "name": "stdout",
     "output_type": "stream",
     "text": [
      "Epoch 15 - Validation Loss 0.6368 Validation Accuracy 0.6613\n",
      "Best Epoch so far! Epoch No 15\n",
      "Time taken for epoch 687.27290391922 sec\n",
      "\n",
      "Epoch 16/25\n"
     ]
    },
    {
     "name": "stderr",
     "output_type": "stream",
     "text": [
      "[Training Feasibility]: 100%|██████████| 480/480 [10:36<00:00,  1.33s/it]\n",
      "[Validating Feasibility]:   0%|          | 0/48 [00:00<?, ?it/s]"
     ]
    },
    {
     "name": "stdout",
     "output_type": "stream",
     "text": [
      "Epoch 16 - Train Loss 0.6320 Train Accuracy 0.6664\n"
     ]
    },
    {
     "name": "stderr",
     "output_type": "stream",
     "text": [
      "[Validating Feasibility]: 100%|██████████| 48/48 [00:52<00:00,  1.10s/it]\n",
      "[Training Feasibility]:   0%|          | 0/480 [00:00<?, ?it/s]"
     ]
    },
    {
     "name": "stdout",
     "output_type": "stream",
     "text": [
      "Epoch 16 - Validation Loss 0.6357 Validation Accuracy 0.6613\n",
      "Best Epoch so far! Epoch No 16\n",
      "Time taken for epoch 689.4447240829468 sec\n",
      "\n",
      "Epoch 17/25\n"
     ]
    },
    {
     "name": "stderr",
     "output_type": "stream",
     "text": [
      "[Training Feasibility]: 100%|██████████| 480/480 [10:31<00:00,  1.32s/it]\n",
      "[Validating Feasibility]:   0%|          | 0/48 [00:00<?, ?it/s]"
     ]
    },
    {
     "name": "stdout",
     "output_type": "stream",
     "text": [
      "Epoch 17 - Train Loss 0.6322 Train Accuracy 0.6664\n"
     ]
    },
    {
     "name": "stderr",
     "output_type": "stream",
     "text": [
      "[Validating Feasibility]: 100%|██████████| 48/48 [00:52<00:00,  1.09s/it]\n",
      "[Training Feasibility]:   0%|          | 0/480 [00:00<?, ?it/s]"
     ]
    },
    {
     "name": "stdout",
     "output_type": "stream",
     "text": [
      "Epoch 17 - Validation Loss 0.6355 Validation Accuracy 0.6613\n",
      "Best Epoch so far! Epoch No 17\n",
      "Time taken for epoch 684.327320098877 sec\n",
      "\n",
      "Epoch 18/25\n"
     ]
    },
    {
     "name": "stderr",
     "output_type": "stream",
     "text": [
      "[Training Feasibility]: 100%|██████████| 480/480 [10:32<00:00,  1.32s/it]\n",
      "[Validating Feasibility]:   0%|          | 0/48 [00:00<?, ?it/s]"
     ]
    },
    {
     "name": "stdout",
     "output_type": "stream",
     "text": [
      "Epoch 18 - Train Loss 0.6321 Train Accuracy 0.6664\n"
     ]
    },
    {
     "name": "stderr",
     "output_type": "stream",
     "text": [
      "[Validating Feasibility]: 100%|██████████| 48/48 [00:52<00:00,  1.09s/it]\n",
      "[Training Feasibility]:   0%|          | 0/480 [00:00<?, ?it/s]"
     ]
    },
    {
     "name": "stdout",
     "output_type": "stream",
     "text": [
      "Epoch 18 - Validation Loss 0.6357 Validation Accuracy 0.6613\n",
      "Best Epoch so far! Epoch No 18\n",
      "Time taken for epoch 685.2314958572388 sec\n",
      "\n",
      "Epoch 19/25\n"
     ]
    },
    {
     "name": "stderr",
     "output_type": "stream",
     "text": [
      "[Training Feasibility]: 100%|██████████| 480/480 [10:34<00:00,  1.32s/it]\n",
      "[Validating Feasibility]:   0%|          | 0/48 [00:00<?, ?it/s]"
     ]
    },
    {
     "name": "stdout",
     "output_type": "stream",
     "text": [
      "Epoch 19 - Train Loss 0.6317 Train Accuracy 0.6664\n"
     ]
    },
    {
     "name": "stderr",
     "output_type": "stream",
     "text": [
      "[Validating Feasibility]: 100%|██████████| 48/48 [00:52<00:00,  1.10s/it]\n",
      "[Training Feasibility]:   0%|          | 0/480 [00:00<?, ?it/s]"
     ]
    },
    {
     "name": "stdout",
     "output_type": "stream",
     "text": [
      "Epoch 19 - Validation Loss 0.6365 Validation Accuracy 0.6613\n",
      "Best Epoch so far! Epoch No 19\n",
      "Time taken for epoch 687.2810380458832 sec\n",
      "\n",
      "Epoch 20/25\n"
     ]
    },
    {
     "name": "stderr",
     "output_type": "stream",
     "text": [
      "[Training Feasibility]: 100%|██████████| 480/480 [10:34<00:00,  1.32s/it]\n",
      "[Validating Feasibility]:   0%|          | 0/48 [00:00<?, ?it/s]"
     ]
    },
    {
     "name": "stdout",
     "output_type": "stream",
     "text": [
      "Epoch 20 - Train Loss 0.6316 Train Accuracy 0.6664\n"
     ]
    },
    {
     "name": "stderr",
     "output_type": "stream",
     "text": [
      "[Validating Feasibility]: 100%|██████████| 48/48 [00:52<00:00,  1.09s/it]\n",
      "[Training Feasibility]:   0%|          | 0/480 [00:00<?, ?it/s]"
     ]
    },
    {
     "name": "stdout",
     "output_type": "stream",
     "text": [
      "Epoch 20 - Validation Loss 0.6360 Validation Accuracy 0.6613\n",
      "Best Epoch so far! Epoch No 20\n",
      "Time taken for epoch 686.9463322162628 sec\n",
      "\n",
      "Epoch 21/25\n"
     ]
    },
    {
     "name": "stderr",
     "output_type": "stream",
     "text": [
      "[Training Feasibility]: 100%|██████████| 480/480 [10:38<00:00,  1.33s/it]\n",
      "[Validating Feasibility]:   0%|          | 0/48 [00:00<?, ?it/s]"
     ]
    },
    {
     "name": "stdout",
     "output_type": "stream",
     "text": [
      "Epoch 21 - Train Loss 0.6313 Train Accuracy 0.6664\n"
     ]
    },
    {
     "name": "stderr",
     "output_type": "stream",
     "text": [
      "[Validating Feasibility]: 100%|██████████| 48/48 [00:52<00:00,  1.10s/it]\n",
      "[Training Feasibility]:   0%|          | 0/480 [00:00<?, ?it/s]"
     ]
    },
    {
     "name": "stdout",
     "output_type": "stream",
     "text": [
      "Epoch 21 - Validation Loss 0.6384 Validation Accuracy 0.6613\n",
      "Best Epoch so far! Epoch No 21\n",
      "Time taken for epoch 690.9072229862213 sec\n",
      "\n",
      "Epoch 22/25\n"
     ]
    },
    {
     "name": "stderr",
     "output_type": "stream",
     "text": [
      "[Training Feasibility]: 100%|██████████| 480/480 [10:33<00:00,  1.32s/it]\n",
      "[Validating Feasibility]:   0%|          | 0/48 [00:00<?, ?it/s]"
     ]
    },
    {
     "name": "stdout",
     "output_type": "stream",
     "text": [
      "Epoch 22 - Train Loss 0.6313 Train Accuracy 0.6664\n"
     ]
    },
    {
     "name": "stderr",
     "output_type": "stream",
     "text": [
      "[Validating Feasibility]: 100%|██████████| 48/48 [00:52<00:00,  1.10s/it]\n",
      "[Training Feasibility]:   0%|          | 0/480 [00:00<?, ?it/s]"
     ]
    },
    {
     "name": "stdout",
     "output_type": "stream",
     "text": [
      "Epoch 22 - Validation Loss 0.6351 Validation Accuracy 0.6613\n",
      "Best Epoch so far! Epoch No 22\n",
      "Time taken for epoch 686.7847399711609 sec\n",
      "\n",
      "Epoch 23/25\n"
     ]
    },
    {
     "name": "stderr",
     "output_type": "stream",
     "text": [
      "[Training Feasibility]: 100%|██████████| 480/480 [10:38<00:00,  1.33s/it]\n",
      "[Validating Feasibility]:   0%|          | 0/48 [00:00<?, ?it/s]"
     ]
    },
    {
     "name": "stdout",
     "output_type": "stream",
     "text": [
      "Epoch 23 - Train Loss 0.6314 Train Accuracy 0.6664\n"
     ]
    },
    {
     "name": "stderr",
     "output_type": "stream",
     "text": [
      "[Validating Feasibility]: 100%|██████████| 48/48 [00:53<00:00,  1.11s/it]\n",
      "[Training Feasibility]:   0%|          | 0/480 [00:00<?, ?it/s]"
     ]
    },
    {
     "name": "stdout",
     "output_type": "stream",
     "text": [
      "Epoch 23 - Validation Loss 0.6349 Validation Accuracy 0.6613\n",
      "Best Epoch so far! Epoch No 23\n",
      "Time taken for epoch 692.0424280166626 sec\n",
      "\n",
      "Epoch 24/25\n"
     ]
    },
    {
     "name": "stderr",
     "output_type": "stream",
     "text": [
      "[Training Feasibility]: 100%|██████████| 480/480 [10:39<00:00,  1.33s/it]\n",
      "[Validating Feasibility]:   0%|          | 0/48 [00:00<?, ?it/s]"
     ]
    },
    {
     "name": "stdout",
     "output_type": "stream",
     "text": [
      "Epoch 24 - Train Loss 0.6309 Train Accuracy 0.6664\n"
     ]
    },
    {
     "name": "stderr",
     "output_type": "stream",
     "text": [
      "[Validating Feasibility]: 100%|██████████| 48/48 [00:53<00:00,  1.11s/it]\n",
      "[Training Feasibility]:   0%|          | 0/480 [00:00<?, ?it/s]"
     ]
    },
    {
     "name": "stdout",
     "output_type": "stream",
     "text": [
      "Epoch 24 - Validation Loss 0.6355 Validation Accuracy 0.6613\n",
      "Best Epoch so far! Epoch No 24\n",
      "Time taken for epoch 693.2598431110382 sec\n",
      "\n",
      "Epoch 25/25\n"
     ]
    },
    {
     "name": "stderr",
     "output_type": "stream",
     "text": [
      "[Training Feasibility]: 100%|██████████| 480/480 [10:36<00:00,  1.33s/it]\n",
      "[Validating Feasibility]:   0%|          | 0/48 [00:00<?, ?it/s]"
     ]
    },
    {
     "name": "stdout",
     "output_type": "stream",
     "text": [
      "Epoch 25 - Train Loss 0.6314 Train Accuracy 0.6664\n"
     ]
    },
    {
     "name": "stderr",
     "output_type": "stream",
     "text": [
      "[Validating Feasibility]: 100%|██████████| 48/48 [00:52<00:00,  1.10s/it]\n"
     ]
    },
    {
     "name": "stdout",
     "output_type": "stream",
     "text": [
      "Epoch 25 - Validation Loss 0.6360 Validation Accuracy 0.6613\n",
      "Best Epoch so far! Epoch No 25\n",
      "Time taken for epoch 689.2009949684143 sec\n",
      "\n",
      "Running  Experiment7\n"
     ]
    },
    {
     "name": "stderr",
     "output_type": "stream",
     "text": [
      "\r",
      "[Training Feasibility]:   0%|          | 0/480 [00:00<?, ?it/s]"
     ]
    },
    {
     "name": "stdout",
     "output_type": "stream",
     "text": [
      "Training the Feasibility model:\n",
      "Epoch 1/25\n"
     ]
    },
    {
     "name": "stderr",
     "output_type": "stream",
     "text": [
      "[Training Feasibility]: 100%|██████████| 480/480 [07:15<00:00,  1.10it/s]\n",
      "[Validating Feasibility]:   0%|          | 0/48 [00:00<?, ?it/s]"
     ]
    },
    {
     "name": "stdout",
     "output_type": "stream",
     "text": [
      "Epoch 1 - Train Loss 0.6189 Train Accuracy 0.6679\n"
     ]
    },
    {
     "name": "stderr",
     "output_type": "stream",
     "text": [
      "[Validating Feasibility]: 100%|██████████| 48/48 [00:38<00:00,  1.26it/s]\n",
      "[Training Feasibility]:   0%|          | 0/480 [00:00<?, ?it/s]"
     ]
    },
    {
     "name": "stdout",
     "output_type": "stream",
     "text": [
      "Epoch 1 - Validation Loss 0.6128 Validation Accuracy 0.6621\n",
      "Best Epoch so far! Epoch No 1\n",
      "Time taken for epoch 473.7616891860962 sec\n",
      "\n",
      "Epoch 2/25\n"
     ]
    },
    {
     "name": "stderr",
     "output_type": "stream",
     "text": [
      "[Training Feasibility]: 100%|██████████| 480/480 [07:08<00:00,  1.12it/s]\n",
      "[Validating Feasibility]:   0%|          | 0/48 [00:00<?, ?it/s]"
     ]
    },
    {
     "name": "stdout",
     "output_type": "stream",
     "text": [
      "Epoch 2 - Train Loss 0.6030 Train Accuracy 0.6756\n"
     ]
    },
    {
     "name": "stderr",
     "output_type": "stream",
     "text": [
      "[Validating Feasibility]: 100%|██████████| 48/48 [00:35<00:00,  1.36it/s]\n",
      "[Training Feasibility]:   0%|          | 0/480 [00:00<?, ?it/s]"
     ]
    },
    {
     "name": "stdout",
     "output_type": "stream",
     "text": [
      "Epoch 2 - Validation Loss 0.6101 Validation Accuracy 0.6629\n",
      "Best Epoch so far! Epoch No 2\n",
      "Time taken for epoch 463.5629060268402 sec\n",
      "\n",
      "Epoch 3/25\n"
     ]
    },
    {
     "name": "stderr",
     "output_type": "stream",
     "text": [
      "[Training Feasibility]: 100%|██████████| 480/480 [07:09<00:00,  1.12it/s]\n",
      "[Validating Feasibility]:   0%|          | 0/48 [00:00<?, ?it/s]"
     ]
    },
    {
     "name": "stdout",
     "output_type": "stream",
     "text": [
      "Epoch 3 - Train Loss 0.5907 Train Accuracy 0.6828\n"
     ]
    },
    {
     "name": "stderr",
     "output_type": "stream",
     "text": [
      "[Validating Feasibility]: 100%|██████████| 48/48 [00:36<00:00,  1.33it/s]\n",
      "[Training Feasibility]:   0%|          | 0/480 [00:00<?, ?it/s]"
     ]
    },
    {
     "name": "stdout",
     "output_type": "stream",
     "text": [
      "Epoch 3 - Validation Loss 0.5996 Validation Accuracy 0.6759\n",
      "Best Epoch so far! Epoch No 3\n",
      "Time taken for epoch 465.6622459888458 sec\n",
      "\n",
      "Epoch 4/25\n"
     ]
    },
    {
     "name": "stderr",
     "output_type": "stream",
     "text": [
      "[Training Feasibility]: 100%|██████████| 480/480 [07:09<00:00,  1.12it/s]\n",
      "[Validating Feasibility]:   0%|          | 0/48 [00:00<?, ?it/s]"
     ]
    },
    {
     "name": "stdout",
     "output_type": "stream",
     "text": [
      "Epoch 4 - Train Loss 0.5800 Train Accuracy 0.6904\n"
     ]
    },
    {
     "name": "stderr",
     "output_type": "stream",
     "text": [
      "[Validating Feasibility]: 100%|██████████| 48/48 [00:35<00:00,  1.34it/s]\n",
      "[Training Feasibility]:   0%|          | 0/480 [00:00<?, ?it/s]"
     ]
    },
    {
     "name": "stdout",
     "output_type": "stream",
     "text": [
      "Epoch 4 - Validation Loss 0.6036 Validation Accuracy 0.6761\n",
      "Best Epoch so far! Epoch No 4\n",
      "Time taken for epoch 465.86762714385986 sec\n",
      "\n",
      "Epoch 5/25\n"
     ]
    },
    {
     "name": "stderr",
     "output_type": "stream",
     "text": [
      "[Training Feasibility]: 100%|██████████| 480/480 [07:10<00:00,  1.12it/s]\n",
      "[Validating Feasibility]:   0%|          | 0/48 [00:00<?, ?it/s]"
     ]
    },
    {
     "name": "stdout",
     "output_type": "stream",
     "text": [
      "Epoch 5 - Train Loss 0.5707 Train Accuracy 0.6975\n"
     ]
    },
    {
     "name": "stderr",
     "output_type": "stream",
     "text": [
      "[Validating Feasibility]: 100%|██████████| 48/48 [00:36<00:00,  1.33it/s]\n",
      "[Training Feasibility]:   0%|          | 0/480 [00:00<?, ?it/s]"
     ]
    },
    {
     "name": "stdout",
     "output_type": "stream",
     "text": [
      "Epoch 5 - Validation Loss 0.6022 Validation Accuracy 0.6797\n",
      "Best Epoch so far! Epoch No 5\n",
      "Time taken for epoch 466.7541298866272 sec\n",
      "\n",
      "Epoch 6/25\n"
     ]
    },
    {
     "name": "stderr",
     "output_type": "stream",
     "text": [
      "[Training Feasibility]: 100%|██████████| 480/480 [07:12<00:00,  1.11it/s]\n",
      "[Validating Feasibility]:   0%|          | 0/48 [00:00<?, ?it/s]"
     ]
    },
    {
     "name": "stdout",
     "output_type": "stream",
     "text": [
      "Epoch 6 - Train Loss 0.5598 Train Accuracy 0.7035\n"
     ]
    },
    {
     "name": "stderr",
     "output_type": "stream",
     "text": [
      "[Validating Feasibility]: 100%|██████████| 48/48 [00:35<00:00,  1.35it/s]\n",
      "[Training Feasibility]:   0%|          | 0/480 [00:00<?, ?it/s]"
     ]
    },
    {
     "name": "stdout",
     "output_type": "stream",
     "text": [
      "Epoch 6 - Validation Loss 0.6016 Validation Accuracy 0.6722\n",
      "Time taken for epoch 468.18519496917725 sec\n",
      "\n",
      "Epoch 7/25\n"
     ]
    },
    {
     "name": "stderr",
     "output_type": "stream",
     "text": [
      "[Training Feasibility]: 100%|██████████| 480/480 [07:11<00:00,  1.11it/s]\n",
      "[Validating Feasibility]:   0%|          | 0/48 [00:00<?, ?it/s]"
     ]
    },
    {
     "name": "stdout",
     "output_type": "stream",
     "text": [
      "Epoch 7 - Train Loss 0.5498 Train Accuracy 0.7124\n"
     ]
    },
    {
     "name": "stderr",
     "output_type": "stream",
     "text": [
      "[Validating Feasibility]: 100%|██████████| 48/48 [00:35<00:00,  1.34it/s]\n",
      "[Training Feasibility]:   0%|          | 0/480 [00:00<?, ?it/s]"
     ]
    },
    {
     "name": "stdout",
     "output_type": "stream",
     "text": [
      "Epoch 7 - Validation Loss 0.6115 Validation Accuracy 0.6650\n",
      "Time taken for epoch 467.03745698928833 sec\n",
      "\n",
      "Epoch 8/25\n"
     ]
    },
    {
     "name": "stderr",
     "output_type": "stream",
     "text": [
      "[Training Feasibility]: 100%|██████████| 480/480 [07:08<00:00,  1.12it/s]\n",
      "[Validating Feasibility]:   0%|          | 0/48 [00:00<?, ?it/s]"
     ]
    },
    {
     "name": "stdout",
     "output_type": "stream",
     "text": [
      "Epoch 8 - Train Loss 0.5394 Train Accuracy 0.7162\n"
     ]
    },
    {
     "name": "stderr",
     "output_type": "stream",
     "text": [
      "[Validating Feasibility]: 100%|██████████| 48/48 [00:35<00:00,  1.35it/s]\n",
      "[Training Feasibility]:   0%|          | 0/480 [00:00<?, ?it/s]"
     ]
    },
    {
     "name": "stdout",
     "output_type": "stream",
     "text": [
      "Epoch 8 - Validation Loss 0.6166 Validation Accuracy 0.6730\n",
      "Time taken for epoch 464.17441034317017 sec\n",
      "\n",
      "Epoch 9/25\n"
     ]
    },
    {
     "name": "stderr",
     "output_type": "stream",
     "text": [
      "[Training Feasibility]: 100%|██████████| 480/480 [07:08<00:00,  1.12it/s]\n",
      "[Validating Feasibility]:   0%|          | 0/48 [00:00<?, ?it/s]"
     ]
    },
    {
     "name": "stdout",
     "output_type": "stream",
     "text": [
      "Epoch 9 - Train Loss 0.5304 Train Accuracy 0.7224\n"
     ]
    },
    {
     "name": "stderr",
     "output_type": "stream",
     "text": [
      "[Validating Feasibility]: 100%|██████████| 48/48 [00:35<00:00,  1.34it/s]\n",
      "[Training Feasibility]:   0%|          | 0/480 [00:00<?, ?it/s]"
     ]
    },
    {
     "name": "stdout",
     "output_type": "stream",
     "text": [
      "Epoch 9 - Validation Loss 0.6339 Validation Accuracy 0.6740\n",
      "Time taken for epoch 464.2130401134491 sec\n",
      "\n",
      "Epoch 10/25\n"
     ]
    },
    {
     "name": "stderr",
     "output_type": "stream",
     "text": [
      "[Training Feasibility]: 100%|██████████| 480/480 [07:06<00:00,  1.13it/s]\n",
      "[Validating Feasibility]:   0%|          | 0/48 [00:00<?, ?it/s]"
     ]
    },
    {
     "name": "stdout",
     "output_type": "stream",
     "text": [
      "Epoch 10 - Train Loss 0.5179 Train Accuracy 0.7301\n"
     ]
    },
    {
     "name": "stderr",
     "output_type": "stream",
     "text": [
      "[Validating Feasibility]: 100%|██████████| 48/48 [00:35<00:00,  1.36it/s]\n",
      "[Training Feasibility]:   0%|          | 0/480 [00:00<?, ?it/s]"
     ]
    },
    {
     "name": "stdout",
     "output_type": "stream",
     "text": [
      "Epoch 10 - Validation Loss 0.6213 Validation Accuracy 0.6712\n",
      "Time taken for epoch 461.480917930603 sec\n",
      "\n",
      "Epoch 11/25\n"
     ]
    },
    {
     "name": "stderr",
     "output_type": "stream",
     "text": [
      "[Training Feasibility]: 100%|██████████| 480/480 [07:02<00:00,  1.14it/s]\n",
      "[Validating Feasibility]:   0%|          | 0/48 [00:00<?, ?it/s]"
     ]
    },
    {
     "name": "stdout",
     "output_type": "stream",
     "text": [
      "Epoch 11 - Train Loss 0.5077 Train Accuracy 0.7373\n"
     ]
    },
    {
     "name": "stderr",
     "output_type": "stream",
     "text": [
      "[Validating Feasibility]: 100%|██████████| 48/48 [00:35<00:00,  1.36it/s]\n",
      "[Training Feasibility]:   0%|          | 0/480 [00:00<?, ?it/s]"
     ]
    },
    {
     "name": "stdout",
     "output_type": "stream",
     "text": [
      "Epoch 11 - Validation Loss 0.6417 Validation Accuracy 0.6592\n",
      "Time taken for epoch 458.24115085601807 sec\n",
      "\n",
      "Epoch 12/25\n"
     ]
    },
    {
     "name": "stderr",
     "output_type": "stream",
     "text": [
      "[Training Feasibility]: 100%|██████████| 480/480 [07:10<00:00,  1.11it/s]\n",
      "[Validating Feasibility]:   0%|          | 0/48 [00:00<?, ?it/s]"
     ]
    },
    {
     "name": "stdout",
     "output_type": "stream",
     "text": [
      "Epoch 12 - Train Loss 0.4990 Train Accuracy 0.7408\n"
     ]
    },
    {
     "name": "stderr",
     "output_type": "stream",
     "text": [
      "[Validating Feasibility]: 100%|██████████| 48/48 [00:35<00:00,  1.34it/s]\n",
      "[Training Feasibility]:   0%|          | 0/480 [00:00<?, ?it/s]"
     ]
    },
    {
     "name": "stdout",
     "output_type": "stream",
     "text": [
      "Epoch 12 - Validation Loss 0.6413 Validation Accuracy 0.6590\n",
      "Time taken for epoch 467.0276870727539 sec\n",
      "\n",
      "Epoch 13/25\n"
     ]
    },
    {
     "name": "stderr",
     "output_type": "stream",
     "text": [
      "[Training Feasibility]: 100%|██████████| 480/480 [07:09<00:00,  1.12it/s]\n",
      "[Validating Feasibility]:   0%|          | 0/48 [00:00<?, ?it/s]"
     ]
    },
    {
     "name": "stdout",
     "output_type": "stream",
     "text": [
      "Epoch 13 - Train Loss 0.4879 Train Accuracy 0.7507\n"
     ]
    },
    {
     "name": "stderr",
     "output_type": "stream",
     "text": [
      "[Validating Feasibility]: 100%|██████████| 48/48 [00:35<00:00,  1.35it/s]\n",
      "[Training Feasibility]:   0%|          | 0/480 [00:00<?, ?it/s]"
     ]
    },
    {
     "name": "stdout",
     "output_type": "stream",
     "text": [
      "Epoch 13 - Validation Loss 0.6580 Validation Accuracy 0.6639\n",
      "Time taken for epoch 464.68423676490784 sec\n",
      "\n",
      "Epoch 14/25\n"
     ]
    },
    {
     "name": "stderr",
     "output_type": "stream",
     "text": [
      "[Training Feasibility]: 100%|██████████| 480/480 [07:10<00:00,  1.11it/s]\n",
      "[Validating Feasibility]:   0%|          | 0/48 [00:00<?, ?it/s]"
     ]
    },
    {
     "name": "stdout",
     "output_type": "stream",
     "text": [
      "Epoch 14 - Train Loss 0.4793 Train Accuracy 0.7561\n"
     ]
    },
    {
     "name": "stderr",
     "output_type": "stream",
     "text": [
      "[Validating Feasibility]: 100%|██████████| 48/48 [00:35<00:00,  1.36it/s]\n",
      "[Training Feasibility]:   0%|          | 0/480 [00:00<?, ?it/s]"
     ]
    },
    {
     "name": "stdout",
     "output_type": "stream",
     "text": [
      "Epoch 14 - Validation Loss 0.6761 Validation Accuracy 0.6452\n",
      "Time taken for epoch 466.2615029811859 sec\n",
      "\n",
      "Epoch 15/25\n"
     ]
    },
    {
     "name": "stderr",
     "output_type": "stream",
     "text": [
      "[Training Feasibility]: 100%|██████████| 480/480 [07:03<00:00,  1.13it/s]\n",
      "[Validating Feasibility]:   0%|          | 0/48 [00:00<?, ?it/s]"
     ]
    },
    {
     "name": "stdout",
     "output_type": "stream",
     "text": [
      "Epoch 15 - Train Loss 0.4691 Train Accuracy 0.7606\n"
     ]
    },
    {
     "name": "stderr",
     "output_type": "stream",
     "text": [
      "[Validating Feasibility]: 100%|██████████| 48/48 [00:35<00:00,  1.36it/s]\n",
      "[Training Feasibility]:   0%|          | 0/480 [00:00<?, ?it/s]"
     ]
    },
    {
     "name": "stdout",
     "output_type": "stream",
     "text": [
      "Epoch 15 - Validation Loss 0.6871 Validation Accuracy 0.6439\n",
      "Time taken for epoch 459.1997916698456 sec\n",
      "\n",
      "Epoch 16/25\n"
     ]
    },
    {
     "name": "stderr",
     "output_type": "stream",
     "text": [
      "[Training Feasibility]: 100%|██████████| 480/480 [07:05<00:00,  1.13it/s]\n",
      "[Validating Feasibility]:   0%|          | 0/48 [00:00<?, ?it/s]"
     ]
    },
    {
     "name": "stdout",
     "output_type": "stream",
     "text": [
      "Epoch 16 - Train Loss 0.4589 Train Accuracy 0.7680\n"
     ]
    },
    {
     "name": "stderr",
     "output_type": "stream",
     "text": [
      "[Validating Feasibility]: 100%|██████████| 48/48 [00:35<00:00,  1.36it/s]\n",
      "[Training Feasibility]:   0%|          | 0/480 [00:00<?, ?it/s]"
     ]
    },
    {
     "name": "stdout",
     "output_type": "stream",
     "text": [
      "Epoch 16 - Validation Loss 0.6991 Validation Accuracy 0.6359\n",
      "Time taken for epoch 460.99501490592957 sec\n",
      "\n",
      "Epoch 17/25\n"
     ]
    },
    {
     "name": "stderr",
     "output_type": "stream",
     "text": [
      "[Training Feasibility]: 100%|██████████| 480/480 [07:02<00:00,  1.14it/s]\n",
      "[Validating Feasibility]:   0%|          | 0/48 [00:00<?, ?it/s]"
     ]
    },
    {
     "name": "stdout",
     "output_type": "stream",
     "text": [
      "Epoch 17 - Train Loss 0.4508 Train Accuracy 0.7722\n"
     ]
    },
    {
     "name": "stderr",
     "output_type": "stream",
     "text": [
      "[Validating Feasibility]: 100%|██████████| 48/48 [00:34<00:00,  1.38it/s]\n",
      "[Training Feasibility]:   0%|          | 0/480 [00:00<?, ?it/s]"
     ]
    },
    {
     "name": "stdout",
     "output_type": "stream",
     "text": [
      "Epoch 17 - Validation Loss 0.7050 Validation Accuracy 0.6549\n",
      "Time taken for epoch 457.07910108566284 sec\n",
      "\n",
      "Epoch 18/25\n"
     ]
    },
    {
     "name": "stderr",
     "output_type": "stream",
     "text": [
      "[Training Feasibility]: 100%|██████████| 480/480 [07:10<00:00,  1.12it/s]\n",
      "[Validating Feasibility]:   0%|          | 0/48 [00:00<?, ?it/s]"
     ]
    },
    {
     "name": "stdout",
     "output_type": "stream",
     "text": [
      "Epoch 18 - Train Loss 0.4414 Train Accuracy 0.7792\n"
     ]
    },
    {
     "name": "stderr",
     "output_type": "stream",
     "text": [
      "[Validating Feasibility]: 100%|██████████| 48/48 [00:35<00:00,  1.35it/s]\n",
      "[Training Feasibility]:   0%|          | 0/480 [00:00<?, ?it/s]"
     ]
    },
    {
     "name": "stdout",
     "output_type": "stream",
     "text": [
      "Epoch 18 - Validation Loss 0.7420 Validation Accuracy 0.6436\n",
      "Time taken for epoch 466.06181383132935 sec\n",
      "\n",
      "Epoch 19/25\n"
     ]
    },
    {
     "name": "stderr",
     "output_type": "stream",
     "text": [
      "[Training Feasibility]: 100%|██████████| 480/480 [07:05<00:00,  1.13it/s]\n",
      "[Validating Feasibility]:   0%|          | 0/48 [00:00<?, ?it/s]"
     ]
    },
    {
     "name": "stdout",
     "output_type": "stream",
     "text": [
      "Epoch 19 - Train Loss 0.4323 Train Accuracy 0.7830\n"
     ]
    },
    {
     "name": "stderr",
     "output_type": "stream",
     "text": [
      "[Validating Feasibility]: 100%|██████████| 48/48 [00:35<00:00,  1.35it/s]\n",
      "[Training Feasibility]:   0%|          | 0/480 [00:00<?, ?it/s]"
     ]
    },
    {
     "name": "stdout",
     "output_type": "stream",
     "text": [
      "Epoch 19 - Validation Loss 0.7332 Validation Accuracy 0.6424\n",
      "Time taken for epoch 460.9683451652527 sec\n",
      "\n",
      "Epoch 20/25\n"
     ]
    },
    {
     "name": "stderr",
     "output_type": "stream",
     "text": [
      "[Training Feasibility]: 100%|██████████| 480/480 [07:12<00:00,  1.11it/s]\n",
      "[Validating Feasibility]:   0%|          | 0/48 [00:00<?, ?it/s]"
     ]
    },
    {
     "name": "stdout",
     "output_type": "stream",
     "text": [
      "Epoch 20 - Train Loss 0.4247 Train Accuracy 0.7886\n"
     ]
    },
    {
     "name": "stderr",
     "output_type": "stream",
     "text": [
      "[Validating Feasibility]: 100%|██████████| 48/48 [00:35<00:00,  1.34it/s]\n",
      "[Training Feasibility]:   0%|          | 0/480 [00:00<?, ?it/s]"
     ]
    },
    {
     "name": "stdout",
     "output_type": "stream",
     "text": [
      "Epoch 20 - Validation Loss 0.7426 Validation Accuracy 0.6406\n",
      "Time taken for epoch 468.1938307285309 sec\n",
      "\n",
      "Epoch 21/25\n"
     ]
    },
    {
     "name": "stderr",
     "output_type": "stream",
     "text": [
      "[Training Feasibility]: 100%|██████████| 480/480 [07:07<00:00,  1.12it/s]\n",
      "[Validating Feasibility]:   0%|          | 0/48 [00:00<?, ?it/s]"
     ]
    },
    {
     "name": "stdout",
     "output_type": "stream",
     "text": [
      "Epoch 21 - Train Loss 0.4165 Train Accuracy 0.7937\n"
     ]
    },
    {
     "name": "stderr",
     "output_type": "stream",
     "text": [
      "[Validating Feasibility]: 100%|██████████| 48/48 [00:35<00:00,  1.36it/s]\n",
      "[Training Feasibility]:   0%|          | 0/480 [00:00<?, ?it/s]"
     ]
    },
    {
     "name": "stdout",
     "output_type": "stream",
     "text": [
      "Epoch 21 - Validation Loss 0.7749 Validation Accuracy 0.6341\n",
      "Time taken for epoch 463.5161671638489 sec\n",
      "\n",
      "Epoch 22/25\n"
     ]
    },
    {
     "name": "stderr",
     "output_type": "stream",
     "text": [
      "[Training Feasibility]: 100%|██████████| 480/480 [07:07<00:00,  1.12it/s]\n",
      "[Validating Feasibility]:   0%|          | 0/48 [00:00<?, ?it/s]"
     ]
    },
    {
     "name": "stdout",
     "output_type": "stream",
     "text": [
      "Epoch 22 - Train Loss 0.4098 Train Accuracy 0.7971\n"
     ]
    },
    {
     "name": "stderr",
     "output_type": "stream",
     "text": [
      "[Validating Feasibility]: 100%|██████████| 48/48 [00:35<00:00,  1.34it/s]\n",
      "[Training Feasibility]:   0%|          | 0/480 [00:00<?, ?it/s]"
     ]
    },
    {
     "name": "stdout",
     "output_type": "stream",
     "text": [
      "Epoch 22 - Validation Loss 0.7791 Validation Accuracy 0.6377\n",
      "Time taken for epoch 463.6181089878082 sec\n",
      "\n",
      "Epoch 23/25\n"
     ]
    },
    {
     "name": "stderr",
     "output_type": "stream",
     "text": [
      "[Training Feasibility]: 100%|██████████| 480/480 [07:08<00:00,  1.12it/s]\n",
      "[Validating Feasibility]:   0%|          | 0/48 [00:00<?, ?it/s]"
     ]
    },
    {
     "name": "stdout",
     "output_type": "stream",
     "text": [
      "Epoch 23 - Train Loss 0.4017 Train Accuracy 0.8029\n"
     ]
    },
    {
     "name": "stderr",
     "output_type": "stream",
     "text": [
      "[Validating Feasibility]: 100%|██████████| 48/48 [00:35<00:00,  1.35it/s]\n",
      "[Training Feasibility]:   0%|          | 0/480 [00:00<?, ?it/s]"
     ]
    },
    {
     "name": "stdout",
     "output_type": "stream",
     "text": [
      "Epoch 23 - Validation Loss 0.7973 Validation Accuracy 0.6410\n",
      "Time taken for epoch 464.41433119773865 sec\n",
      "\n",
      "Epoch 24/25\n"
     ]
    },
    {
     "name": "stderr",
     "output_type": "stream",
     "text": [
      "[Training Feasibility]: 100%|██████████| 480/480 [07:05<00:00,  1.13it/s]\n",
      "[Validating Feasibility]:   0%|          | 0/48 [00:00<?, ?it/s]"
     ]
    },
    {
     "name": "stdout",
     "output_type": "stream",
     "text": [
      "Epoch 24 - Train Loss 0.3936 Train Accuracy 0.8086\n"
     ]
    },
    {
     "name": "stderr",
     "output_type": "stream",
     "text": [
      "[Validating Feasibility]: 100%|██████████| 48/48 [00:35<00:00,  1.36it/s]\n",
      "[Training Feasibility]:   0%|          | 0/480 [00:00<?, ?it/s]"
     ]
    },
    {
     "name": "stdout",
     "output_type": "stream",
     "text": [
      "Epoch 24 - Validation Loss 0.8036 Validation Accuracy 0.6418\n",
      "Time taken for epoch 461.02091002464294 sec\n",
      "\n",
      "Epoch 25/25\n"
     ]
    },
    {
     "name": "stderr",
     "output_type": "stream",
     "text": [
      "[Training Feasibility]: 100%|██████████| 480/480 [07:10<00:00,  1.11it/s]\n",
      "[Validating Feasibility]:   0%|          | 0/48 [00:00<?, ?it/s]"
     ]
    },
    {
     "name": "stdout",
     "output_type": "stream",
     "text": [
      "Epoch 25 - Train Loss 0.3884 Train Accuracy 0.8119\n"
     ]
    },
    {
     "name": "stderr",
     "output_type": "stream",
     "text": [
      "[Validating Feasibility]: 100%|██████████| 48/48 [00:35<00:00,  1.34it/s]\n"
     ]
    },
    {
     "name": "stdout",
     "output_type": "stream",
     "text": [
      "Epoch 25 - Validation Loss 0.8166 Validation Accuracy 0.6178\n",
      "Time taken for epoch 466.4885377883911 sec\n",
      "\n"
     ]
    }
   ],
   "source": [
    "#Run Experiments\n",
    "#change the num_training_samples and num_validation_samples make sure its multiple of 128 when running on tpu\n",
    "#change to tpu_enabled = 1 when running on tpu \n",
    "#Change the batch_size and epochs too\n",
    "\n",
    "#--Create a list of expt indices to run\n",
    "expts_to_run = [5, 7]\n",
    "\n",
    "#for i in range(8):\n",
    "for i in expts_to_run:\n",
    "    tpu_enabled_flag = 0\n",
    "    if tpu_enabled_flag ==0:\n",
    "        number_of_epochs = 25\n",
    "    else:\n",
    "        number_of_epochs = 35\n",
    "    run_experiments_feasibility(Experiment_Dic=Experiment_Dic,\n",
    "                Experiment_No=i,\n",
    "                embedding_matrix=embedding_matrix,\n",
    "                ndim = ndim,\n",
    "                tpu_enabled=tpu_enabled_flag,\n",
    "                num_training_samples=1024*60,\n",
    "                num_validation_samples = 1024*6,\n",
    "                num_epochs = number_of_epochs,\n",
    "                batch_size = 128)"
   ]
  },
  {
   "cell_type": "code",
   "execution_count": null,
   "metadata": {},
   "outputs": [],
   "source": [
    "#Run Inference\n",
    "inference_answer_model,\\\n",
    "inference_encoder_model,\\\n",
    "inference_feasibility_model = create_inference_model(Experiment_Dic=Experiment_Dic,\n",
    "                                                     Experiment_No=5,\n",
    "                                                     embedding_matrix=embedding_matrix,\n",
    "                                                     ndim = ndim)"
   ]
  },
  {
   "cell_type": "code",
   "execution_count": null,
   "metadata": {},
   "outputs": [],
   "source": [
    "#Some Examples from Training Set\n",
    "for seq_index in range(500,510):\n",
    "    # Take one sequence (part of the training test)\n",
    "    # for trying out decoding.\n",
    "    context_input_seq = train_context_padded_seq[seq_index: seq_index+ 1]\n",
    "    question_input_seq = train_question_seq_padded[seq_index: seq_index + 1]\n",
    "    decoded_sentence = decode_sentence(context_input_seq,\n",
    "                                       question_input_seq,\n",
    "                                       inference_encoder_model,\n",
    "                                       inference_answer_model)\n",
    "    question_output,context_output = inference_encoder_model(context_input_seq,question_input_seq)\n",
    "    #start_logits,end_logits = inference_answer_model(question_output,context_output)         \n",
    "    feasibility_pred = inference_feasibility_model.predict([question_output,\n",
    "                                                            context_output])\n",
    "    print(\"question:\",' '.join([id_vocab.get(i) for i in train_question_seq_padded[seq_index].tolist() if i !=0]))\n",
    "    print(\"Question Infeasible to answer prediction:\",feasibility_pred)\n",
    "    print(\"Question Infeasible to answer actual value\",train_answer_impossible[seq_index: seq_index+ 1])\n",
    "    print('Predicted Answer:', decoded_sentence)\n",
    "    act_answer = ' '.join([id_vocab.get(i) for i in train_answer_input_seq_padded[seq_index].tolist() if i !=0])\n",
    "    print('Actual answer:',act_answer)"
   ]
  },
  {
   "cell_type": "code",
   "execution_count": null,
   "metadata": {},
   "outputs": [],
   "source": [
    "#Some examples from validation set\n",
    "for seq_index in range(800,810):\n",
    "    # Take one sequence (part of the Validation test)\n",
    "    # for trying out decoding.\n",
    "    context_input_seq = val_context_padded_seq[seq_index: seq_index+ 1]\n",
    "    question_input_seq = val_question_seq_padded[seq_index: seq_index + 1]\n",
    "    decoded_sentence = decode_sentence(context_input_seq,\n",
    "                                       question_input_seq,\n",
    "                                       inference_encoder_model,\n",
    "                                       inference_answer_model)\n",
    "    question_output,context_output = inference_encoder_model(context_input_seq,question_input_seq)\n",
    "    #start_logits,end_logits = inference_answer_model(question_output,context_output)         \n",
    "    feasibility_pred = inference_feasibility_model.predict([question_output,\n",
    "                                                            context_output])\n",
    "    print(\"question:\",' '.join([id_vocab.get(i) for i in val_question_seq_padded[seq_index].tolist() if i !=0]))\n",
    "    print(\"Question Infeasible to answer prediction:\",feasibility_pred)\n",
    "    print(\"Question Infeasible to answer actual value\",val_answer_impossible[seq_index: seq_index+ 1])\n",
    "    print('Predicted Answer:', decoded_sentence)\n",
    "    act_answer = ' '.join([id_vocab.get(i) for i in val_answer_input_seq_padded[seq_index].tolist() if i !=0])\n",
    "    print('Actual answer:',act_answer)"
   ]
  },
  {
   "cell_type": "code",
   "execution_count": null,
   "metadata": {},
   "outputs": [],
   "source": [
    "def plot_experiments(ExperimentNumber):\n",
    "    ExperimentNo = \"Experiment\"+str(ExperimentNumber)\n",
    "    if ( os.path.exists('models/'+ ExperimentNo+'span2_model_'+'history_feasibility_model') \n",
    "       and os.path.exists('models/'+ ExperimentNo+'span2_model_'+'history_answer_model') ) :\n",
    "        with open('models/'+ ExperimentNo+'span2_model_'+'history_feasibility_model', 'rb') as file_history:\n",
    "            feasibility_history = pickle.load( file_history )\n",
    "\n",
    "        with open('models/'+ ExperimentNo+'span2_model_'+'history_answer_model', 'rb') as file_history:\n",
    "            answer_history = pickle.load( file_history )\n",
    "\n",
    "        fig, axs = plt.subplots(2, 2,figsize=(15,15))\n",
    "        fig.suptitle('++++++++++++++++++++++++'+ExperimentNo+'++++++++++++++++++++++',fontsize=14)\n",
    "        \n",
    "        #plot Answer Module\n",
    "        # Plot training & validation accuracy values\n",
    "        axs[0, 0].plot(answer_history['categorical_accuracy'])\n",
    "        axs[0, 0].plot(answer_history['val_categorical_accuracy'])\n",
    "        axs[0, 0].set_title(ExperimentNo+' Answer Model accuracy')\n",
    "        axs[0, 0].set_ylabel('Categorical Cross Entropy Accuracy')\n",
    "        axs[0, 0].set_xlabel('Epoch')\n",
    "        axs[0, 0].legend(['Train', 'Val'], loc='upper left')\n",
    "        #plt.show()\n",
    "\n",
    "        # Plot training & validation loss values\n",
    "        axs[0, 1].plot(answer_history['loss'])\n",
    "        axs[0, 1].plot(answer_history['val_loss'])\n",
    "        axs[0, 1].set_title(ExperimentNo+' Answer Model loss')\n",
    "        axs[0, 1].set_ylabel('Categorical Cross Entropy Loss')\n",
    "        axs[0, 1].set_xlabel('Epoch')\n",
    "        axs[0, 1].legend(['Train', 'Val'], loc='upper left')\n",
    "        #plt.show()\n",
    "\n",
    "\n",
    "        #plot Feasibility Module\n",
    "        # Plot training & validation accuracy values\n",
    "        axs[1, 0].plot(feasibility_history['binary_accuracy'])\n",
    "        axs[1, 0].plot(feasibility_history['val_binary_accuracy'])\n",
    "        axs[1, 0].set_title(ExperimentNo+' Feasibility Model accuracy')\n",
    "        axs[1, 0].set_ylabel('Binary Cross Entropy Accuracy')\n",
    "        axs[1, 0].set_xlabel('Epoch')\n",
    "        axs[1, 0].legend(['Train', 'Val'], loc='upper left')\n",
    "        #plt.show()\n",
    "\n",
    "        # Plot training & validation loss values\n",
    "        axs[1, 1].plot(feasibility_history['loss'])\n",
    "        axs[1, 1].plot(feasibility_history['val_loss'])\n",
    "        axs[1, 1].set_title(ExperimentNo+' Feasibility Model loss')\n",
    "        axs[1, 1].set_ylabel('Binary Cross Entropy Loss')\n",
    "        axs[1, 1].set_xlabel('Epoch')\n",
    "        axs[1, 1].legend(['Train', 'Val'], loc='upper left')\n",
    "        #plt.show()\n",
    "        \n",
    "        plt.savefig('graphs/{}_span2_model_.png'.format(ExperimentNo))"
   ]
  },
  {
   "cell_type": "code",
   "execution_count": null,
   "metadata": {},
   "outputs": [],
   "source": [
    "#for i in range (8):\n",
    "for i in expts_to_run:\n",
    "    plot_experiments(i)"
   ]
  },
  {
   "cell_type": "code",
   "execution_count": 38,
   "metadata": {},
   "outputs": [],
   "source": [
    "def plot_experiment_results():\n",
    "    answer_accuracy_list = []\n",
    "    feasibility_accuracy_list = []\n",
    "    \n",
    "    for i in range(8):\n",
    "        \n",
    "        ExperimentNo = \"Experiment\"+str(i)\n",
    "        if ( os.path.exists('models/'+ ExperimentNo+'span2_model_'+'history_feasibility_model') \n",
    "            and os.path.exists('models/'+ ExperimentNo+'span2_model_'+'history_answer_model') ) :\n",
    "            \n",
    "            with open('models/'+ ExperimentNo+'span2_model_'+'history_feasibility_model', 'rb') as file_history:\n",
    "                feasibility_history = pickle.load( file_history )\n",
    "\n",
    "            with open('models/'+ ExperimentNo+'span2_model_'+'history_answer_model', 'rb') as file_history:\n",
    "                answer_history = pickle.load( file_history )\n",
    "\n",
    "            answer_accuracy_list.append(max(answer_history['val_categorical_accuracy']))\n",
    "            feasibility_accuracy_list.append(max(feasibility_history['val_binary_accuracy']))\n",
    "\n",
    "    #plt.plot(answer_accuracy_list,marker='^')\n",
    "    #plt.plot(feasibility_accuracy_list,marker='*')\n",
    "    #plt.ylabel(\"Validation Accuracy\")\n",
    "    #plt.xlabel(\"Experiment Number\")\n",
    "    #plt.title(\"LSTM based models experiments result\")\n",
    "\n",
    "    fig, axs = plt.subplots(1, 2,figsize=(15,6))\n",
    "\n",
    "    #plot Answer Module results\n",
    "    axs[0].plot(answer_accuracy_list,marker='^',linestyle='dashed',color='orange')\n",
    "    axs[0].set_title(\"Model-3 based answer model experiments\")\n",
    "    axs[0].set_ylabel('Validation Accuracy')\n",
    "    axs[0].set_xlabel('Experiment Number')\n",
    "\n",
    "    #plot feasibility Module results\n",
    "\n",
    "    axs[1].plot(feasibility_accuracy_list,marker='^',linestyle='dashed',color='orange')\n",
    "    axs[1].set_title(\"Model-3 based feasibility model experiments\")\n",
    "    axs[1].set_ylabel('Validation Accuracy')\n",
    "    axs[1].set_xlabel('Experiment Number')\n",
    "    \n",
    "    #plt.show()\n",
    "    plt.savefig('graphs/expt_results2_span2_model_.png')"
   ]
  },
  {
   "cell_type": "code",
   "execution_count": 39,
   "metadata": {},
   "outputs": [
    {
     "data": {
      "image/png": "[encoded data removed]",
      "text/plain": [
       "<Figure size 1080x432 with 2 Axes>"
      ]
     },
     "metadata": {
      "needs_background": "light"
     },
     "output_type": "display_data"
    }
   ],
   "source": [
    "plot_experiment_results()"
   ]
  },
  {
   "cell_type": "code",
   "execution_count": 40,
   "metadata": {},
   "outputs": [
    {
     "name": "stdout",
     "output_type": "stream",
     "text": [
      "WARNING:tensorflow:Large dropout rate: 0.6 (>0.5). In TensorFlow 2.x, dropout() uses dropout rate instead of keep_prob. Please ensure that this is intended.\n"
     ]
    },
    {
     "name": "stderr",
     "output_type": "stream",
     "text": [
      "[Creating Validation Ferasibility Prediction]: 100%|█████████▉| 204/205 [22:14<00:06,  6.54s/it]\n"
     ]
    },
    {
     "name": "stdout",
     "output_type": "stream",
     "text": [
      "WARNING:tensorflow:Large dropout rate: 0.7 (>0.5). In TensorFlow 2.x, dropout() uses dropout rate instead of keep_prob. Please ensure that this is intended.\n",
      "WARNING:tensorflow:Large dropout rate: 0.7 (>0.5). In TensorFlow 2.x, dropout() uses dropout rate instead of keep_prob. Please ensure that this is intended.\n"
     ]
    },
    {
     "name": "stderr",
     "output_type": "stream",
     "text": [
      "[Creating Validation Ferasibility Prediction]: 100%|█████████▉| 204/205 [35:18<00:10, 10.38s/it]\n",
      "[Creating Validation Ferasibility Prediction]: 100%|█████████▉| 204/205 [24:32<00:07,  7.22s/it]\n"
     ]
    },
    {
     "name": "stdout",
     "output_type": "stream",
     "text": [
      "WARNING:tensorflow:Large dropout rate: 0.7 (>0.5). In TensorFlow 2.x, dropout() uses dropout rate instead of keep_prob. Please ensure that this is intended.\n",
      "WARNING:tensorflow:Large dropout rate: 0.7 (>0.5). In TensorFlow 2.x, dropout() uses dropout rate instead of keep_prob. Please ensure that this is intended.\n"
     ]
    },
    {
     "name": "stderr",
     "output_type": "stream",
     "text": [
      "[Creating Validation Ferasibility Prediction]: 100%|█████████▉| 204/205 [45:10<00:13, 13.29s/it]\n",
      "[Creating Validation Ferasibility Prediction]: 100%|█████████▉| 204/205 [36:58<00:10, 10.87s/it]\n",
      "[Creating Validation Ferasibility Prediction]: 100%|█████████▉| 204/205 [42:01<00:12, 12.36s/it]\n",
      "[Creating Validation Ferasibility Prediction]: 100%|█████████▉| 204/205 [37:59<00:11, 11.17s/it]\n",
      "[Creating Validation Ferasibility Prediction]: 100%|█████████▉| 204/205 [27:40<00:08,  8.14s/it]\n"
     ]
    }
   ],
   "source": [
    "#create inference models for all the experiments \n",
    "for epno in range(8):\n",
    "    #Create Inference model\n",
    "    inference_answer_model,\\\n",
    "    inference_encoder_model,\\\n",
    "    inference_feasibility_model = create_inference_model(Experiment_Dic=Experiment_Dic,\n",
    "                                                     Experiment_No=epno,\n",
    "                                                     embedding_matrix=embedding_matrix,\n",
    "                                                     ndim = ndim)\n",
    "    #check if the validation file exists \n",
    "    ExperimentNo = \"Experiment\"+str(epno)\n",
    "    if not os.path.exists('models/'+ ExperimentNo+'span2_model_'+'feasibility_val_pred.npy'):\n",
    "        \n",
    "        #create validation set for the feasibility module: \n",
    "        VAL_BUFFER_SIZE = val_context_padded_seq.shape[0]\n",
    "        batch_size = 128\n",
    "        steps_per_epoch_val = VAL_BUFFER_SIZE//batch_size + 1\n",
    "        val_dataset = tf.data.Dataset.from_tensor_slices((val_context_padded_seq[:VAL_BUFFER_SIZE],\n",
    "                                                              val_question_seq_padded[:VAL_BUFFER_SIZE],\n",
    "                                                              val_answer_seq_padded[:VAL_BUFFER_SIZE],\n",
    "                                                              val_answer_input_seq_padded[:VAL_BUFFER_SIZE],\n",
    "                                                              val_answer_target_seq_padded[:VAL_BUFFER_SIZE],\n",
    "                                                              val_answer_impossible[:VAL_BUFFER_SIZE],\n",
    "                                                              val_answer_start_seq_padded[:VAL_BUFFER_SIZE],\n",
    "                                                              val_answer_end_seq_padded[:VAL_BUFFER_SIZE]\n",
    "                                                             ))\n",
    "        val_dataset = val_dataset.batch(batch_size,drop_remainder=False)\n",
    "\n",
    "        i=0\n",
    "        for (batch, (batch_val_context_padded_seq,\n",
    "                             batch_val_question_seq_padded,\n",
    "                             batch_val_answer_seq_padded,\n",
    "                             batch_val_answer_input_seq_padded,\n",
    "                             batch_val_answer_target_seq_padded,\n",
    "                             batch_val_answer_impossible,\n",
    "                             batch_val_answer_start_seq_padded,\n",
    "                             batch_val_answer_end_seq_padded)) in tqdm(\n",
    "                                                    enumerate(val_dataset.take(steps_per_epoch_val)),\n",
    "                                                    total = VAL_BUFFER_SIZE//batch_size+1,\n",
    "                                                    desc=\"[Creating Validation Ferasibility Prediction]\"):\n",
    "            question_output,context_output = inference_encoder_model(batch_val_context_padded_seq,\n",
    "                                                                   batch_val_context_padded_seq)\n",
    "            feasibility_pred = inference_feasibility_model([question_output,\n",
    "                                                            context_output])\n",
    "            if i==0:\n",
    "                feasibility_validation_prediction = feasibility_pred.numpy()\n",
    "            else:\n",
    "                feasibility_validation_prediction = np.concatenate((feasibility_validation_prediction,\n",
    "                                                                    feasibility_pred.numpy()),axis=0)\n",
    "            i += 1\n",
    "        #save the feasibility_validation_prediction\n",
    "        np.save('models/'+ ExperimentNo+'span2_model_'+'feasibility_val_pred',feasibility_validation_prediction)\n"
   ]
  },
  {
   "cell_type": "code",
   "execution_count": 42,
   "metadata": {},
   "outputs": [],
   "source": [
    "#!pip install -U scikit-learn\n",
    "#!pip install seaborn\n",
    "from sklearn.metrics import confusion_matrix\n",
    "import seaborn as sns\n",
    "\"\"\" Following function taken from : \n",
    "    https://medium.com/@dtuk81/confusion-matrix-visualization-fc31e3f30fea\n",
    "\"\"\"\n",
    "def make_confusion_matrix(cf,\n",
    "                          group_names=None,\n",
    "                          categories='auto',\n",
    "                          count=True,\n",
    "                          percent=True,\n",
    "                          cbar=True,\n",
    "                          xyticks=True,\n",
    "                          xyplotlabels=True,\n",
    "                          sum_stats=True,\n",
    "                          figsize=None,\n",
    "                          cmap='Blues',\n",
    "                          title=None):\n",
    "    '''\n",
    "    This function will make a pretty plot of an sklearn Confusion Matrix cm using a Seaborn heatmap visualization.\n",
    "    Arguments\n",
    "    ---------\n",
    "    cf:            confusion matrix to be passed in\n",
    "    group_names:   List of strings that represent the labels row by row to be shown in each square.\n",
    "    categories:    List of strings containing the categories to be displayed on the x,y axis. Default is 'auto'\n",
    "    count:         If True, show the raw number in the confusion matrix. Default is True.\n",
    "    normalize:     If True, show the proportions for each category. Default is True.\n",
    "    cbar:          If True, show the color bar. The cbar values are based off the values in the confusion matrix.\n",
    "                   Default is True.\n",
    "    xyticks:       If True, show x and y ticks. Default is True.\n",
    "    xyplotlabels:  If True, show 'True Label' and 'Predicted Label' on the figure. Default is True.\n",
    "    sum_stats:     If True, display summary statistics below the figure. Default is True.\n",
    "    figsize:       Tuple representing the figure size. Default will be the matplotlib rcParams value.\n",
    "    cmap:          Colormap of the values displayed from matplotlib.pyplot.cm. Default is 'Blues'\n",
    "                   See http://matplotlib.org/examples/color/colormaps_reference.html\n",
    "                   \n",
    "    title:         Title for the heatmap. Default is None.\n",
    "    '''\n",
    "\n",
    "\n",
    "    # CODE TO GENERATE TEXT INSIDE EACH SQUARE\n",
    "    blanks = ['' for i in range(cf.size)]\n",
    "\n",
    "    if group_names and len(group_names)==cf.size:\n",
    "        group_labels = [\"{}\\n\".format(value) for value in group_names]\n",
    "    else:\n",
    "        group_labels = blanks\n",
    "\n",
    "    if count:\n",
    "        group_counts = [\"{0:0.0f}\\n\".format(value) for value in cf.flatten()]\n",
    "    else:\n",
    "        group_counts = blanks\n",
    "\n",
    "    if percent:\n",
    "        group_percentages = [\"{0:.2%}\".format(value) for value in cf.flatten()/np.sum(cf)]\n",
    "    else:\n",
    "        group_percentages = blanks\n",
    "\n",
    "    box_labels = [f\"{v1}{v2}{v3}\".strip() for v1, v2, v3 in zip(group_labels,group_counts,group_percentages)]\n",
    "    box_labels = np.asarray(box_labels).reshape(cf.shape[0],cf.shape[1])\n",
    "\n",
    "\n",
    "    # CODE TO GENERATE SUMMARY STATISTICS & TEXT FOR SUMMARY STATS\n",
    "    if sum_stats:\n",
    "        #Accuracy is sum of diagonal divided by total observations\n",
    "        accuracy  = np.trace(cf) / float(np.sum(cf))\n",
    "\n",
    "        #if it is a binary confusion matrix, show some more stats\n",
    "        if len(cf)==2:\n",
    "            #Metrics for Binary Confusion Matrices\n",
    "            precision = cf[1,1] / sum(cf[:,1])\n",
    "            recall    = cf[1,1] / sum(cf[1,:])\n",
    "            f1_score  = 2*precision*recall / (precision + recall)\n",
    "            stats_text = \"\\n\\nAccuracy={:0.3f}\\nPrecision={:0.3f}\\nRecall={:0.3f}\\nF1 Score={:0.3f}\".format(\n",
    "                accuracy,precision,recall,f1_score)\n",
    "        else:\n",
    "            stats_text = \"\\n\\nAccuracy={:0.3f}\".format(accuracy)\n",
    "    else:\n",
    "        stats_text = \"\"\n",
    "\n",
    "\n",
    "    # SET FIGURE PARAMETERS ACCORDING TO OTHER ARGUMENTS\n",
    "    if figsize==None:\n",
    "        #Get default figure size if not set\n",
    "        figsize = plt.rcParams.get('figure.figsize')\n",
    "\n",
    "    if xyticks==False:\n",
    "        #Do not show categories if xyticks is False\n",
    "        categories=False\n",
    "\n",
    "\n",
    "    # MAKE THE HEATMAP VISUALIZATION\n",
    "    plt.figure(figsize=figsize)\n",
    "    sns.heatmap(cf,annot=box_labels,fmt=\"\",cmap=cmap,cbar=cbar,xticklabels=categories,yticklabels=categories)\n",
    "\n",
    "    if xyplotlabels:\n",
    "        plt.ylabel('True label')\n",
    "        plt.xlabel('Predicted label' + stats_text)\n",
    "    else:\n",
    "        plt.xlabel(stats_text)\n",
    "    \n",
    "    if title:\n",
    "        plt.title(title)"
   ]
  },
  {
   "cell_type": "code",
   "execution_count": 44,
   "metadata": {},
   "outputs": [
    {
     "name": "stderr",
     "output_type": "stream",
     "text": [
      "/usr/local/lib/python3.7/site-packages/ipykernel_launcher.py:72: RuntimeWarning: invalid value encountered in long_scalars\n"
     ]
    },
    {
     "data": {
      "image/png": "[encoded data removed]",
      "text/plain": [
       "<Figure size 432x288 with 2 Axes>"
      ]
     },
     "metadata": {
      "needs_background": "light"
     },
     "output_type": "display_data"
    },
    {
     "data": {
      "image/png": "[encoded data removed]",
      "text/plain": [
       "<Figure size 432x288 with 2 Axes>"
      ]
     },
     "metadata": {
      "needs_background": "light"
     },
     "output_type": "display_data"
    },
    {
     "data": {
      "image/png": "[encoded data removed]",
      "text/plain": [
       "<Figure size 432x288 with 2 Axes>"
      ]
     },
     "metadata": {
      "needs_background": "light"
     },
     "output_type": "display_data"
    },
    {
     "data": {
      "image/png": "[encoded data removed]",
      "text/plain": [
       "<Figure size 432x288 with 2 Axes>"
      ]
     },
     "metadata": {
      "needs_background": "light"
     },
     "output_type": "display_data"
    },
    {
     "data": {
      "image/png": "[encoded data removed]",
      "text/plain": [
       "<Figure size 432x288 with 2 Axes>"
      ]
     },
     "metadata": {
      "needs_background": "light"
     },
     "output_type": "display_data"
    },
    {
     "data": {
      "image/png": "[encoded data removed]",
      "text/plain": [
       "<Figure size 432x288 with 2 Axes>"
      ]
     },
     "metadata": {
      "needs_background": "light"
     },
     "output_type": "display_data"
    },
    {
     "data": {
      "image/png": "[encoded data removed]",
      "text/plain": [
       "<Figure size 432x288 with 2 Axes>"
      ]
     },
     "metadata": {
      "needs_background": "light"
     },
     "output_type": "display_data"
    },
    {
     "data": {
      "image/png": "[encoded data removed]",
      "text/plain": [
       "<Figure size 432x288 with 2 Axes>"
      ]
     },
     "metadata": {
      "needs_background": "light"
     },
     "output_type": "display_data"
    }
   ],
   "source": [
    "#plot confusion matrix for the feasibility model output for each experiment \n",
    "\n",
    "for i in range(8):\n",
    "    #load feasibility predictions\n",
    "    ExperimentNo = \"Experiment\"+str(i)\n",
    "    if os.path.exists('models/'+ ExperimentNo+'span2_model_'+'feasibility_val_pred.npy'):\n",
    "        y_pred_prob = np.load('models/'+ ExperimentNo+'span2_model_'+'feasibility_val_pred.npy')\n",
    "        y_pred = (y_pred_prob>0.5).astype(int)\n",
    "        #Get the confusion matrix\n",
    "        cf_matrix = confusion_matrix(val_answer_impossible, y_pred)\n",
    "        #print(cf_matrix)\n",
    "        make_confusion_matrix(cf_matrix,title = 'Confusion Matrix Model-3 Model Experiment '+str(i))\n",
    "        \n",
    "    "
   ]
  },
  {
   "cell_type": "code",
   "execution_count": 45,
   "metadata": {},
   "outputs": [],
   "source": [
    "#Function to get sentences from the predicted answers\n",
    "def decode_sentence_batch(context_input_seq,\n",
    "                     question_input_seq,\n",
    "                     encoder_model,\n",
    "                     answer_model):\n",
    "    #decoded_sentence = \"\"\n",
    "    question_output,context_output = encoder_model(context_input_seq,question_input_seq) \n",
    "    \n",
    "    start_logits,end_logits = answer_model(question_output,context_output)\n",
    "    \n",
    "    #Do a outer matrix multiplication of the logits \n",
    "    # we need to get the start and end index with highest multiplication of start and end probs\n",
    "    outer = tf.matmul(tf.expand_dims(start_logits, axis=2),tf.expand_dims(end_logits, axis=1)) \n",
    "    outer = tf.linalg.band_part(outer, 0, answer_maxlen)\n",
    "    start_position = tf.argmax(tf.reduce_max(outer, axis=2),axis=1)    \n",
    "    end_position = tf.argmax(tf.reduce_max(outer, axis=1),axis=1)\n",
    "    #start_position = start_position.numpy()\n",
    "    #end_position = end_position.numpy()\n",
    "    #print(start_position.shape)\n",
    "    #print(end_position.shape)\n",
    "    #print(start_position)\n",
    "    #print(end_position)\n",
    "    decoded_sentences_batch = []\n",
    "    for j in range(question_input_seq.shape[0]):\n",
    "        decoded_sentence = ''\n",
    "        for i in range(start_position[j],end_position[j]+1):\n",
    "            sampled_token_index = context_input_seq[j,i].numpy()\n",
    "            #print(sampled_token_index)\n",
    "            if sampled_token_index == 0:\n",
    "                sampled_char = \"\"\n",
    "            else:\n",
    "                sampled_char = id_vocab[sampled_token_index]\n",
    "            if i == start_position[j]:\n",
    "                decoded_sentence += sampled_char\n",
    "            else:\n",
    "                decoded_sentence += \" \"+sampled_char\n",
    "        decoded_sentences_batch.append(decoded_sentence)\n",
    "    \n",
    "    return decoded_sentences_batch"
   ]
  },
  {
   "cell_type": "code",
   "execution_count": 46,
   "metadata": {},
   "outputs": [
    {
     "name": "stderr",
     "output_type": "stream",
     "text": [
      "[Creating Validation Ferasibility Prediction]: 100%|█████████▉| 204/205 [10:59<00:03,  3.23s/it]\n",
      "[Creating Validation Ferasibility Prediction]: 100%|█████████▉| 204/205 [18:21<00:05,  5.40s/it]\n",
      "[Creating Validation Ferasibility Prediction]: 100%|█████████▉| 204/205 [13:42<00:04,  4.03s/it]\n",
      "[Creating Validation Ferasibility Prediction]: 100%|█████████▉| 204/205 [24:08<00:07,  7.10s/it]\n",
      "[Creating Validation Ferasibility Prediction]: 100%|█████████▉| 204/205 [20:01<00:05,  5.89s/it]\n",
      "[Creating Validation Ferasibility Prediction]: 100%|█████████▉| 204/205 [22:23<00:06,  6.59s/it]\n",
      "[Creating Validation Ferasibility Prediction]: 100%|█████████▉| 204/205 [19:29<00:05,  5.73s/it]\n",
      "[Creating Validation Ferasibility Prediction]: 100%|█████████▉| 204/205 [14:43<00:04,  4.33s/it]\n"
     ]
    }
   ],
   "source": [
    "#genarate answers for the questions from the answer model\n",
    "#create inference models for all the experiments \n",
    "for epno in range(8):\n",
    "    #Create Inference model\n",
    "    inference_answer_model,\\\n",
    "    inference_encoder_model,\\\n",
    "    inference_feasibility_model = create_inference_model(Experiment_Dic=Experiment_Dic,\n",
    "                                                     Experiment_No=epno,\n",
    "                                                     embedding_matrix=embedding_matrix,\n",
    "                                                     ndim = ndim)\n",
    "    #check if the validation file exists \n",
    "    ExperimentNo = \"Experiment\"+str(epno)\n",
    "    if ( not os.path.exists('models/'+ ExperimentNo+'span2_model_'+'answer_val_pred')\n",
    "        and os.path.exists('models/'+ ExperimentNo+'span2_model_'+'feasibility_val_pred.npy')):\n",
    "        \n",
    "        y_pred_prob = np.load('models/'+ ExperimentNo+'span2_model_'+'feasibility_val_pred.npy')\n",
    "        y_pred = (y_pred_prob>0.5).astype(int)\n",
    "        #create dictionary to store the predicted answer\n",
    "        val_predicted_answer_dic = {}\n",
    "        #create list to store the answers\n",
    "        val_predicted_answer = []\n",
    "        #create validation set for the feasibility module: \n",
    "        VAL_BUFFER_SIZE = val_context_padded_seq.shape[0]\n",
    "        batch_size = 128\n",
    "        steps_per_epoch_val = VAL_BUFFER_SIZE//batch_size + 1\n",
    "        val_dataset = tf.data.Dataset.from_tensor_slices((val_context_padded_seq[:VAL_BUFFER_SIZE],\n",
    "                                                              val_question_seq_padded[:VAL_BUFFER_SIZE],\n",
    "                                                              val_answer_seq_padded[:VAL_BUFFER_SIZE],\n",
    "                                                              val_answer_input_seq_padded[:VAL_BUFFER_SIZE],\n",
    "                                                              val_answer_target_seq_padded[:VAL_BUFFER_SIZE],\n",
    "                                                              val_answer_impossible[:VAL_BUFFER_SIZE],\n",
    "                                                              val_answer_start_seq_padded[:VAL_BUFFER_SIZE],\n",
    "                                                              val_answer_end_seq_padded[:VAL_BUFFER_SIZE]\n",
    "                                                             ))\n",
    "        val_dataset = val_dataset.batch(batch_size,drop_remainder=False)\n",
    "\n",
    "        i=0\n",
    "        for (batch, (batch_val_context_padded_seq,\n",
    "                             batch_val_question_seq_padded,\n",
    "                             batch_val_answer_seq_padded,\n",
    "                             batch_val_answer_input_seq_padded,\n",
    "                             batch_val_answer_target_seq_padded,\n",
    "                             batch_val_answer_impossible,\n",
    "                             batch_val_answer_start_seq_padded,\n",
    "                             batch_val_answer_end_seq_padded)) in tqdm(\n",
    "                                                    enumerate(val_dataset.take(steps_per_epoch_val)),\n",
    "                                                    total = VAL_BUFFER_SIZE//batch_size+1,\n",
    "                                                    desc=\"[Creating Validation Ferasibility Prediction]\"):\n",
    "            answers = decode_sentence_batch(batch_val_context_padded_seq,\n",
    "                                            batch_val_question_seq_padded,\n",
    "                                            inference_encoder_model,\n",
    "                                            inference_answer_model)\n",
    "            val_predicted_answer = val_predicted_answer + answers\n",
    "        \n",
    "        for c,(qid,answer) in enumerate(zip(val_qid[:VAL_BUFFER_SIZE],val_predicted_answer)):\n",
    "            if y_pred[c] == 0 :\n",
    "                val_predicted_answer_dic[qid] = answer\n",
    "            else:\n",
    "                val_predicted_answer_dic[qid] =  ''\n",
    "        #save the answer_prediction\n",
    "        with open('models/'+ ExperimentNo+'span2_model_'+'answer_val_pred', 'w') as file_answer_prediction:\n",
    "            file_answer_prediction.write(json.dumps(val_predicted_answer_dic))"
   ]
  },
  {
   "cell_type": "code",
   "execution_count": 47,
   "metadata": {},
   "outputs": [],
   "source": [
    "import argparse\n",
    "import collections\n",
    "import json\n",
    "import numpy as np\n",
    "import os\n",
    "import re\n",
    "import string\n",
    "import sys\n",
    "def normalize_answer(s):\n",
    "       \n",
    "    \"\"\"Lower text and remove punctuation, articles and extra whitespace.\"\"\"\n",
    "    def remove_articles(text):\n",
    "        regex = re.compile(r'\\b(a|an|the)\\b', re.UNICODE)\n",
    "        return re.sub(regex, ' ', text)\n",
    "    def white_space_fix(text):\n",
    "        return ' '.join(text.split())\n",
    "    def remove_punc(text):\n",
    "        exclude = set(string.punctuation)\n",
    "        return ''.join(ch for ch in text if ch not in exclude)\n",
    "    def lower(text):\n",
    "        return text.lower()\n",
    "    \n",
    "    return white_space_fix(remove_articles(remove_punc(lower(s))))\n",
    "def get_tokens(s):\n",
    "    if not s: return []\n",
    "    return normalize_answer(s).split()\n",
    "\n",
    "def compute_exact(a_gold, a_pred):\n",
    "    return int(normalize_answer(a_gold) == normalize_answer(a_pred))\n",
    "\n",
    "\n",
    "def compute_f1(a_gold, a_pred):\n",
    "    gold_toks = get_tokens(a_gold)\n",
    "    pred_toks = get_tokens(a_pred)\n",
    "    common = collections.Counter(gold_toks) & collections.Counter(pred_toks)\n",
    "    num_same = sum(common.values())\n",
    "    if len(gold_toks) == 0 or len(pred_toks) == 0:\n",
    "        # If either is no-answer, then F1 is 1 if they agree, 0 otherwise\n",
    "        return int(gold_toks == pred_toks)\n",
    "    if num_same == 0:\n",
    "        return 0\n",
    "    precision = 1.0 * num_same / len(pred_toks)\n",
    "    recall = 1.0 * num_same / len(gold_toks)\n",
    "    f1 = (2 * precision * recall) / (precision + recall)\n",
    "    return f1\n",
    "\n",
    "def get_raw_scores(dataset, preds,only_answerable_questions):\n",
    "    exact_scores = {}\n",
    "    f1_scores = {}\n",
    "    for article in dataset:\n",
    "        for p in article['paragraphs']:\n",
    "            for qa in p['qas']:\n",
    "                qid = qa['id']\n",
    "                gold_answers = [a['text'] for a in qa['answers']\n",
    "                                if normalize_answer(a['text'])]\n",
    "                if gold_answers or not only_answerable_questions:\n",
    "                    if not gold_answers:\n",
    "                        # For unanswerable questions, only correct answer is empty string\n",
    "                        gold_answers = ['']\n",
    "                    if qid not in preds:\n",
    "                        #print('Missing prediction for %s' % qid)\n",
    "                        continue\n",
    "                    a_pred = preds[qid]\n",
    "                    # Take max over all gold answers\n",
    "                    exact_scores[qid] = max(compute_exact(a, a_pred) for a in gold_answers)\n",
    "                    f1_scores[qid] = max(compute_f1(a, a_pred) for a in gold_answers)\n",
    "    return exact_scores, f1_scores\n",
    "\n",
    "def calculate_f1(dataset_file_name,prediction_file_name,only_answerable_questions=False):\n",
    "    with open(dataset_file_name) as f:\n",
    "        dataset_json = json.load(f)\n",
    "        dataset = dataset_json['data']\n",
    "    with open(prediction_file_name) as f:\n",
    "        preds = json.load(f)\n",
    "    exact_raw, f1_raw = get_raw_scores(dataset, preds,only_answerable_questions)\n",
    "    total = len(exact_raw)\n",
    "    return collections.OrderedDict([\n",
    "                                    ('exact', 100.0 * sum(exact_raw.values()) / total),\n",
    "                                    ('f1', 100.0 * sum(f1_raw.values()) / total),\n",
    "                                    ('total', total),\n",
    "                                   ])\n",
    "    #return exact_raw, f1_raw"
   ]
  },
  {
   "cell_type": "code",
   "execution_count": 49,
   "metadata": {},
   "outputs": [],
   "source": [
    "f1_score = []\n",
    "f1_score_only_answerable = []\n",
    "for epno in range(8):\n",
    "    ExperimentNo = \"Experiment\"+str(epno)\n",
    "    g1 = calculate_f1(dataset_file_name = 'train-v2.0.json', \n",
    "                 prediction_file_name = 'models/Experiment6span2_model_answer_val_pred',\n",
    "                 only_answerable_questions=True)\n",
    "    g2 = calculate_f1(dataset_file_name = 'train-v2.0.json', \n",
    "                 prediction_file_name = 'models/Experiment6span2_model_answer_val_pred',\n",
    "                 only_answerable_questions=False)\n",
    "    f1_score.append(g1['f1'])\n",
    "    f1_score_only_answerable.append(g2['f1'])\n"
   ]
  },
  {
   "cell_type": "code",
   "execution_count": 62,
   "metadata": {},
   "outputs": [],
   "source": [
    "def plot_experiment_results_all():\n",
    "    answer_accuracy_list = []\n",
    "    feasibility_accuracy_list = []\n",
    "    f1_score = []\n",
    "    f1_score_only_answerable = []\n",
    "    for i in range(8):\n",
    "        \n",
    "        ExperimentNo = \"Experiment\"+str(i)\n",
    "        if ( os.path.exists('models/' + ExperimentNo+'span2_model_'+'history_feasibility_model') \n",
    "            and os.path.exists('models/' + ExperimentNo+'span2_model_'+'history_answer_model') ) :\n",
    "            \n",
    "            with open('models/' + ExperimentNo+'span2_model_'+'history_feasibility_model', 'rb') as file_history:\n",
    "                feasibility_history = pickle.load( file_history )\n",
    "\n",
    "            with open('models/' + ExperimentNo+'span2_model_'+'history_answer_model', 'rb') as file_history:\n",
    "                answer_history = pickle.load( file_history )\n",
    "\n",
    "            answer_accuracy_list.append(max(answer_history['val_categorical_accuracy']))\n",
    "            feasibility_accuracy_list.append(max(feasibility_history['val_binary_accuracy']))\n",
    "        g1 = calculate_f1(dataset_file_name = 'train-v2.0.json', \n",
    "                 prediction_file_name = 'models/' + ExperimentNo+'span2_model_answer_val_pred',\n",
    "                 only_answerable_questions=True)\n",
    "        g2 = calculate_f1(dataset_file_name = 'train-v2.0.json', \n",
    "                 prediction_file_name = 'models/' + ExperimentNo+'span2_model_answer_val_pred',\n",
    "                 only_answerable_questions=False)\n",
    "        f1_score.append(g2['f1'])\n",
    "        f1_score_only_answerable.append(g1['f1'])\n",
    "\n",
    "    #plt.plot(answer_accuracy_list,marker='^')\n",
    "    #plt.plot(feasibility_accuracy_list,marker='*')\n",
    "    #plt.ylabel(\"Validation Accuracy\")\n",
    "    #plt.xlabel(\"Experiment Number\")\n",
    "    #plt.title(\"LSTM based models experiments result\")\n",
    "\n",
    "    fig, axs = plt.subplots(1, 3,figsize=(15,6))\n",
    "\n",
    "    #plot Answer Module results\n",
    "    axs[0].plot(answer_accuracy_list,marker='^',linestyle='dashed',color='orange')\n",
    "    axs[0].set_title(\"Model-3 based answer model experiments\")\n",
    "    axs[0].set_ylabel('Validation Accuracy')\n",
    "    axs[0].set_xlabel('Experiment Number')\n",
    "\n",
    "    #plot feasibility Module results\n",
    "\n",
    "    axs[1].plot(feasibility_accuracy_list,marker='^',linestyle='dashed',color='orange')\n",
    "    axs[1].set_title(\"Model-3 based feasibility model experiments\")\n",
    "    axs[1].set_ylabel('Validation Accuracy')\n",
    "    axs[1].set_xlabel('Experiment Number')\n",
    "    #plt.show()\n",
    "    axs[2].plot(f1_score,marker='^',linestyle='dashed',color='orange')\n",
    "    axs[2].plot(f1_score_only_answerable,marker='o',linestyle='dashed',color='blue')\n",
    "    axs[2].legend(['All Qtns', 'Only Answerable Qtns'], loc='lower right')\n",
    "    axs[2].set_title(\"Model-3 based model F1 Score\")\n",
    "    axs[2].set_ylabel('Validation F1 Score')\n",
    "    axs[2].set_xlabel('Experiment Number')\n",
    "    \n",
    "    plt.savefig('graphs/expt2_results_span2_model_.png')"
   ]
  },
  {
   "cell_type": "code",
   "execution_count": 63,
   "metadata": {},
   "outputs": [
    {
     "data": {
      "image/png": "[encoded data removed]",
      "text/plain": [
       "<Figure size 1080x432 with 3 Axes>"
      ]
     },
     "metadata": {
      "needs_background": "light"
     },
     "output_type": "display_data"
    }
   ],
   "source": [
    "plot_experiment_results_all()"
   ]
  },
  {
   "cell_type": "code",
   "execution_count": 66,
   "metadata": {},
   "outputs": [
    {
     "name": "stdout",
     "output_type": "stream",
     "text": [
      "57290895af94a219006a9fae :  what is france s oldest operating news agency ?\n",
      "Actual Answer:  agence\n",
      "Predicted Answer:  france\n",
      "5acd745d07355d001abf4310 :  how do people most often get to strasbourg from elsewhere ?\n",
      "Actual Answer:  \n",
      "Predicted Answer:  discontinuous for cars they connect to a network of pedestrian and bike paths\n",
      "5acda11d07355d001abf487e :  what state was the fourth highest percentage of housing related costs in the country ?\n",
      "Actual Answer:  \n",
      "Predicted Answer:  florida\n",
      "5725b58fec44d21400f3d41b :  who did the jewish inhabitants fight side by side with ?\n",
      "Actual Answer:  fatimid garrison\n",
      "Predicted Answer:  the crusaders\n",
      "570da87816d0071400510c5e :  what events have occurred in recent decades to the ice shelves surrounding antarctica ?\n",
      "Actual Answer:  collapses\n",
      "Predicted Answer:  increased glacial outflow\n",
      "571a6bf110f8ca1400305014 :  what age can an infabt recall steps in an order ?\n",
      "Actual Answer:  9 months of age\n",
      "Predicted Answer:  9\n",
      "56df6e4a5ca0a614008f9a1a :  how many members does the “group of 77” have ?\n",
      "Actual Answer:  130\n",
      "Predicted Answer:  130\n",
      "5728c930ff5b5019007da6ab :  which coast did the carthaginians explore for trade ?\n",
      "Actual Answer:  the atlantic coast\n",
      "Predicted Answer:  eastern coast of the desert\n",
      "5a678d67f038b7001ab0c2b5 :  what writer helped develop the winchester standard ?\n",
      "Actual Answer:  \n",
      "Predicted Answer:  eynsham\n",
      "570c6b74fed7b91900d459cd :  john gillingham considers john what ?\n",
      "Actual Answer:  a less effective general\n",
      "Predicted Answer:  a hard working administrator\n",
      "5a62589ff8d794001af1bf87 :  for how long of a term was malietoa tanumafili ii elected in 2007 ?\n",
      "Actual Answer:  \n",
      "Predicted Answer:  five year\n",
      "572f3766b2c2fd1400567f8c :  what did the european powers need to make their claim over these areas legitimate ?\n",
      "Actual Answer:  these claims did not have to have any substantial land holdings or treaties to be\n",
      "Predicted Answer:  treaties\n",
      "56cc81246d243a140015efc8 :  what are six companies that made some of the first peripherals for the ipod ?\n",
      "Actual Answer:  griffin technology belkin jbl bose monster cable and sendstation\n",
      "Predicted Answer:  griffin technology belkin jbl bose monster cable and sendstation\n",
      "5acd8b8b07355d001abf46a8 :  what was less energy efficient in than ac in providing energy ?\n",
      "Actual Answer:  \n",
      "Predicted Answer:  3 kv dc\n",
      "5ace3fff32bba1001ae4a084 :  what was recently rejected in madrasah ?\n",
      "Actual Answer:  \n",
      "Predicted Answer:  madrasah\n",
      "5ad41aa1604f3c001a4004ce :  who would supposedly be the beneficiaries of a not class based style affirmative action ?\n",
      "Actual Answer:  \n",
      "Predicted Answer:  \n",
      "56e06cf57aa994140058e49a :  who is responsible for defence and foreign affairs ?\n",
      "Actual Answer:  the united kingdom\n",
      "Predicted Answer:  the queen\n",
      "572702fcf1498d1400e8f220 :  what monopolistic practice draws criticism of comcast ?\n",
      "Actual Answer:  a lack of competition in the vast majority of comcast s service area\n",
      "Predicted Answer:  content distribution\n",
      "5726b01df1498d1400e8e764 :  what type of geography is in raleigh ?\n",
      "Actual Answer:  gently rolling hills that slope eastward toward the state s flat coastal plain\n",
      "Predicted Answer:  flat coastal\n",
      "5a8461627cf838001a46a7bd :  what year was the seven years war prevented ?\n",
      "Actual Answer:  \n",
      "Predicted Answer:  1763\n",
      "57098db1200fba1400368189 :  what does the us national council for young isreal represent ?\n",
      "Actual Answer:  modern orthodoxy\n",
      "Predicted Answer:  pro zionist\n",
      "572a7e1af75d5e190021faf0 :  what is the european version of fiqh ?\n",
      "Actual Answer:  civil law\n",
      "Predicted Answer:  non in motion\n",
      "5a2c3244bfd06b001a5aea3b :  what influenced neoclassicism during the eighteenth century ?\n",
      "Actual Answer:  \n",
      "Predicted Answer:  greek civilization\n",
      "5725b96289a1e219009abd76 :  what is the earliest most credible source of the hellenistic period ?\n",
      "Actual Answer:  polybius\n",
      "Predicted Answer:  polybius of megalopolis\n",
      "5726a83edd62a815002e8c2b :  where is the site of the original colonial settlement of kingston norfolk islands currently located ?\n",
      "Actual Answer:  slaughter bay and emily bay\n",
      "Predicted Answer:  norfolk island\n",
      "571020a9b654c5140001f813 :  where did the newly married elizabeth and philip stay until 1949 ?\n",
      "Actual Answer:  windlesham moor\n",
      "Predicted Answer:  clarence house in london\n",
      "570e2f6e0b85d914000d7d21 :  what does africa orientale italiana mean ?\n",
      "Actual Answer:  italian east africa\n",
      "Predicted Answer:  rise to power in italy\n",
      "5725c2c1271a42140099d157 :  what had many of the city s barrios previously been ?\n",
      "Actual Answer:  geographically separate settlements\n",
      "Predicted Answer:  separate settlements\n",
      "572a346daf94a219006aa89b :  when did cbc discontinue its late night broadcast of the national ?\n",
      "Actual Answer:  october 2006\n",
      "Predicted Answer:  october 2006\n",
      "572fc771947a6a140053ccb0 :  which media is preffered to grow larger volumes of bacteria ?\n",
      "Actual Answer:  liquid growth media\n",
      "Predicted Answer:  laboratory bacteria\n",
      "5a7e3cb870df9f001a875605 :  who can translations of a sung text harm ?\n",
      "Actual Answer:  \n",
      "Predicted Answer:  read—are\n",
      "5726d3d3f1498d1400e8ec7c :  what studio s case decision was not overturned ?\n",
      "Actual Answer:  sony\n",
      "Predicted Answer:  mgm\n"
     ]
    }
   ],
   "source": [
    "#Some examples from validation set from experiment6\n",
    "with open('models/Experiment6span2_model_answer_val_pred') as f:\n",
    "    k = json.load(f)\n",
    "for seq_index in range(100,132):\n",
    "    # Take one sequence (part of the Validation test)\n",
    "    # for trying out decoding.\n",
    "    qid = val_qid[seq_index]\n",
    "    question = ' '.join([id_vocab.get(i) for i in val_question_seq_padded[seq_index].tolist() if i !=0])\n",
    "    act_answer = ' '.join([id_vocab.get(i) for i in val_answer_input_seq_padded[seq_index].tolist() if i !=0])\n",
    "    print(qid,': ',question,'?')\n",
    "    print('Actual Answer: ',act_answer) \n",
    "    print('Predicted Answer: ',k[qid])\n",
    "    "
   ]
  },
  {
   "cell_type": "code",
   "execution_count": 67,
   "metadata": {},
   "outputs": [
    {
     "name": "stdout",
     "output_type": "stream",
     "text": [
      "dev num samples where answer impossible:  5945\n",
      "dev num samples where answer not impossible:  5928\n"
     ]
    }
   ],
   "source": [
    "#Final Prediction \n",
    "dev_lists = get_c_q_a(dev_pd)\n",
    "\n",
    "def vectorize_data_dev_set(tokenizer_obj,dev_lists):\n",
    "    qid_original = dev_lists[0]\n",
    "    context_seq = tokenizer_obj.texts_to_sequences(dev_lists[1])\n",
    "    question_seq = tokenizer_obj.texts_to_sequences(dev_lists[2])\n",
    "    context_seq_padded = pad_sequences(context_seq,context_maxlen,padding='post', truncating='post')\n",
    "    #Adding 0 to last position special for no answer questions\n",
    "    #context_seq_padded = pad_sequences(context_seq_padded,context_maxlen,padding='post', truncating='post')\n",
    "    question_seq_padded = pad_sequences(question_seq,question_maxlen,padding='post', truncating='post')\n",
    "    answer_impossible = np.array(dev_lists[3])\n",
    "    #indices = np.arange(context_seq_padded.shape[0])\n",
    "    #np.random.seed(19)\n",
    "    #np.random.shuffle(indices)\n",
    "    qid = qid_original\n",
    "    #context_seq_padded = context_seq_padded[indices]\n",
    "    #question_seq_padded = question_seq_padded[indices]\n",
    "    dev_qid = qid\n",
    "    dev_context_padded_seq = context_seq_padded\n",
    "    dev_question_seq_padded = question_seq_padded\n",
    "    dev_answer_impossible = answer_impossible\n",
    "    return (dev_qid,dev_context_padded_seq,dev_question_seq_padded,dev_answer_impossible)\n",
    "\n",
    "dev_qid,\\\n",
    "dev_context_padded_seq,\\\n",
    "dev_question_seq_padded,\\\n",
    "dev_answer_impossible = vectorize_data_dev_set(tokenizer_obj,dev_lists)\n",
    "print(\"dev num samples where answer impossible: \",len(dev_question_seq_padded[dev_answer_impossible==1]))\n",
    "print(\"dev num samples where answer not impossible: \",len(dev_question_seq_padded[dev_answer_impossible==0]))"
   ]
  },
  {
   "cell_type": "code",
   "execution_count": 68,
   "metadata": {},
   "outputs": [
    {
     "name": "stderr",
     "output_type": "stream",
     "text": [
      "[Creating Dev Set Prediction]: 100%|██████████| 93/93 [27:37<00:00, 17.82s/it]\n"
     ]
    }
   ],
   "source": [
    "#create dev set results using experiment 6\n",
    "#Create Inference model\n",
    "inference_answer_model,\\\n",
    "inference_encoder_model,\\\n",
    "inference_feasibility_model = create_inference_model(Experiment_Dic=Experiment_Dic,\n",
    "                                                     Experiment_No=6,\n",
    "                                                     embedding_matrix=embedding_matrix,\n",
    "                                                     ndim = ndim)\n",
    "        \n",
    "#create validation set for the feasibility module: \n",
    "DEV_BUFFER_SIZE = dev_context_padded_seq.shape[0]\n",
    "batch_size = 128\n",
    "steps_per_epoch_val = DEV_BUFFER_SIZE//batch_size + 1\n",
    "dev_dataset = tf.data.Dataset.from_tensor_slices((dev_context_padded_seq[:DEV_BUFFER_SIZE],\n",
    "                                                      dev_question_seq_padded[:DEV_BUFFER_SIZE],\n",
    "                                                      dev_answer_impossible[:DEV_BUFFER_SIZE]\n",
    "                                                     ))\n",
    "dev_dataset = dev_dataset.batch(batch_size,drop_remainder=False)\n",
    "\n",
    "i=0\n",
    "dev_predicted_answer_dic = {}\n",
    "#create list to store the answers\n",
    "dev_predicted_answer = []\n",
    "for (batch, (batch_dev_context_padded_seq,\n",
    "             batch_dev_question_seq_padded,\n",
    "             batch_dev_answer_impossible )) in tqdm(\n",
    "                                            enumerate(dev_dataset.take(steps_per_epoch_val)),\n",
    "                                            total = DEV_BUFFER_SIZE//batch_size+1,\n",
    "                                            desc=\"[Creating Dev Set Prediction]\"):\n",
    "    question_output,context_output = inference_encoder_model(batch_dev_context_padded_seq,\n",
    "                                                           batch_dev_context_padded_seq)\n",
    "    feasibility_pred = inference_feasibility_model([question_output,\n",
    "                                                    context_output])\n",
    "    answers = decode_sentence_batch(batch_dev_context_padded_seq,\n",
    "                                    batch_dev_question_seq_padded,\n",
    "                                    inference_encoder_model,\n",
    "                                    inference_answer_model)\n",
    "    dev_predicted_answer = dev_predicted_answer + answers\n",
    "    if i==0:\n",
    "        feasibility_validation_prediction = feasibility_pred.numpy()\n",
    "    else:\n",
    "        feasibility_validation_prediction = np.concatenate((feasibility_validation_prediction,\n",
    "                                                            feasibility_pred.numpy()),axis=0)\n",
    "    i += 1\n",
    "\n",
    "    \n",
    "#save the feasibility_validation_prediction\n",
    "np.save('Final_span2_model_'+'feasibility_dev_pred',feasibility_validation_prediction)\n",
    "y_pred = (feasibility_validation_prediction>0.5).astype(int)\n",
    "for c,(qid,answer) in enumerate(zip(dev_qid[:DEV_BUFFER_SIZE],dev_predicted_answer)):\n",
    "    if y_pred[c] == 0 :\n",
    "        dev_predicted_answer_dic[qid] = answer\n",
    "    else:\n",
    "        dev_predicted_answer_dic[qid] =  ''\n",
    "#save the answer_prediction\n",
    "with open('Final_span2_model_'+'answer_dev_pred', 'w') as file_answer_prediction:\n",
    "    file_answer_prediction.write(json.dumps(dev_predicted_answer_dic))"
   ]
  },
  {
   "cell_type": "code",
   "execution_count": 69,
   "metadata": {},
   "outputs": [
    {
     "name": "stdout",
     "output_type": "stream",
     "text": [
      "{\r\n",
      "  \"exact\": 15.109913248547123,\r\n",
      "  \"f1\": 20.969588697017432,\r\n",
      "  \"total\": 11873,\r\n",
      "  \"HasAns_exact\": 22.047908232118758,\r\n",
      "  \"HasAns_f1\": 33.7840631915804,\r\n",
      "  \"HasAns_total\": 5928,\r\n",
      "  \"NoAns_exact\": 8.191757779646762,\r\n",
      "  \"NoAns_f1\": 8.191757779646762,\r\n",
      "  \"NoAns_total\": 5945\r\n",
      "}\r\n"
     ]
    }
   ],
   "source": [
    "!python3 evaluate-v2.0.py dev-v2.0.json Final_span2_model_answer_dev_pred"
   ]
  },
  {
   "cell_type": "code",
   "execution_count": 70,
   "metadata": {},
   "outputs": [
    {
     "name": "stdout",
     "output_type": "stream",
     "text": [
      "OrderedDict([('exact', 22.047908232118758), ('f1', 33.7840631915804), ('total', 5928)])\n",
      "OrderedDict([('exact', 15.109913248547123), ('f1', 20.969588697017432), ('total', 11873)])\n"
     ]
    }
   ],
   "source": [
    "#Check if our own f1 score caculation matches the formal evaluation script\n",
    "g1 = calculate_f1(dataset_file_name = 'dev-v2.0.json', \n",
    "                 prediction_file_name = 'Final_span2_model_answer_dev_pred',\n",
    "                 only_answerable_questions=True)\n",
    "g2 = calculate_f1(dataset_file_name = 'dev-v2.0.json', \n",
    "                 prediction_file_name = 'Final_span2_model_answer_dev_pred',\n",
    "                 only_answerable_questions=False)\n",
    "\n",
    "print(g1)\n",
    "\n",
    "print(g2)"
   ]
  },
  {
   "cell_type": "code",
   "execution_count": 71,
   "metadata": {},
   "outputs": [],
   "source": [
    "#Remove <unk> from the predictions\n",
    "!sed 's/<unk>//g' Final_span2_model_answer_dev_pred > Final_span2_model_answer_dev_pred_without_unk"
   ]
  },
  {
   "cell_type": "code",
   "execution_count": 72,
   "metadata": {},
   "outputs": [
    {
     "name": "stdout",
     "output_type": "stream",
     "text": [
      "{\r\n",
      "  \"exact\": 17.383980459866926,\r\n",
      "  \"f1\": 23.460909300275684,\r\n",
      "  \"total\": 11873,\r\n",
      "  \"HasAns_exact\": 22.115384615384617,\r\n",
      "  \"HasAns_f1\": 34.28666938633169,\r\n",
      "  \"HasAns_total\": 5928,\r\n",
      "  \"NoAns_exact\": 12.66610597140454,\r\n",
      "  \"NoAns_f1\": 12.66610597140454,\r\n",
      "  \"NoAns_total\": 5945\r\n",
      "}\r\n"
     ]
    }
   ],
   "source": [
    "!python3 evaluate-v2.0.py dev-v2.0.json Final_span2_model_answer_dev_pred_without_unk"
   ]
  },
  {
   "cell_type": "code",
   "execution_count": null,
   "metadata": {},
   "outputs": [],
   "source": []
  }
 ],
 "metadata": {
  "kernelspec": {
   "display_name": "Python 3",
   "language": "python",
   "name": "python3"
  },
  "language_info": {
   "codemirror_mode": {
    "name": "ipython",
    "version": 3
   },
   "file_extension": ".py",
   "mimetype": "text/x-python",
   "name": "python",
   "nbconvert_exporter": "python",
   "pygments_lexer": "ipython3",
   "version": "3.7.6"
  }
 },
 "nbformat": 4,
 "nbformat_minor": 4
}
